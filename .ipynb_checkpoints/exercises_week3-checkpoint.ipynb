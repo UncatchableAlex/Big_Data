{
 "cells": [
  {
   "cell_type": "markdown",
   "metadata": {},
   "source": [
    "# Week 3: Getting data—scraping and APIs."
   ]
  },
  {
   "cell_type": "markdown",
   "metadata": {
    "ExecuteTime": {
     "end_time": "2017-08-23T15:30:03.634114Z",
     "start_time": "2017-08-23T15:30:03.629294Z"
    }
   },
   "source": [
    "This week is about getting data from the big ol' Internet, with the Wikipedia as our guinea pig. The main task today is to retrieve the Wikipedia pages of **all Marvel characters** using the MediaWiki **API**. There are three parts to this exercise set.\n",
    "\n",
    "* Learn the basics of how to retrieve data from Wiki sites using the MediaWiki API\n",
    "* Download all Marvel character Wikipedia articles\n",
    "* Begin to explore the data\n",
    "\n",
    "With the data you acquire today, you will be working for the remainder of the semester. Try to get as far as possible, structure the data nicely and write your code so that it makes sense to you in the coming weeks.\n",
    "\n",
    "Also, there's an **important practice** you should start getting used to—which matters when we grade assignments. \n",
    "1. Openly reflect on how you solve a problem. It can be code comments, or markup below/above the code cell, just as long as you share your thoughts. \n",
    "2. Comment on your results, discussing:\n",
    "    * Whether they make sense\n",
    "    * If they look somewhat as you expected, and if not, what the reasons for this difference might be\n",
    "    * What—interesting or not—insight they reveal about the given system you analyze\n",
    "    \n",
    "    *Note: of course you can't always say something profound about every little thing, so rest assured, I will only expect explanations in your assignments when *it makes sense* that there should be one.*"
   ]
  },
  {
   "cell_type": "markdown",
   "metadata": {},
   "source": [
    "## Exercises"
   ]
  },
  {
   "cell_type": "markdown",
   "metadata": {},
   "source": [
    "**Why use an API?** You could just go ahead and scrape the HTML from a Wikipedia page as simple as:\n",
    "\n",
    "    import requests as rq\n",
    "    rq.get(\"https://en.wikipedia.org/wiki/Batman\").text\n",
    "    \n",
    "Well... to navigate data in HTML format is not always easy. Therefore, MediaWiki offers its users direct use of its API. To load the MediaWiki markup using the API, one would do something like:\n",
    "\n",
    "    rq.get(\"https://en.wikipedia.org/w/api.php?format=json&action=query&titles=Batman&prop=revisions&rvprop=content\").json()\n",
    "    \n",
    "This assumes the data is JSON formatted and returns a `dict` object inside which you can find all sorts of information about the page, including the latest revision of the Batman page markup."
   ]
  },
  {
   "cell_type": "markdown",
   "metadata": {},
   "source": [
    "**Helpful code to display `dict` object as a tree.** Have a look at it, make sure you understand it."
   ]
  },
  {
   "cell_type": "code",
   "execution_count": 1,
   "metadata": {
    "ExecuteTime": {
     "end_time": "2019-11-11T09:32:27.423821Z",
     "start_time": "2019-11-11T09:32:26.873226Z"
    },
    "run_control": {
     "frozen": false,
     "read_only": false
    }
   },
   "outputs": [
    {
     "name": "stdout",
     "output_type": "stream",
     "text": [
      "batchcomplete : str - 0\n",
      "warnings \n",
      "    main \n",
      "        * : str - 287\n",
      "    revisions \n",
      "        * : str - 163\n",
      "query \n",
      "    pages \n",
      "        4335 \n",
      "            pageid : int - 4\n",
      "            ns : int - 1\n",
      "            title : str - 6\n",
      "            revisions : list - 206253\n"
     ]
    }
   ],
   "source": [
    "def print_dict_tree(d, indent=0):\n",
    "    \"\"\"Print tree of keys in `dict` object.\n",
    "    \n",
    "    Prints the different levels of nested keys in a `dict` object. When there\n",
    "    are no more dictionaries to key into, prints objects type and byte-size.\n",
    "\n",
    "    Input\n",
    "    -----\n",
    "    d : dict\n",
    "    \"\"\"\n",
    "    for key, value in d.items():\n",
    "        print('    ' * indent + str(key), end=' ')\n",
    "        if isinstance(value, dict):\n",
    "            print(); print_dict_tree(value, indent+1)\n",
    "        else:\n",
    "            print(\":\", str(type(d[key])).split(\"'\")[1], \"-\", str(len(str(d[key]))))\n",
    "            \n",
    "# Example\n",
    "import requests as rq\n",
    "data = rq.get(\"https://en.wikipedia.org/w/api.php?format=json&action=query&titles=Batman&prop=revisions&rvprop=content\").json()\n",
    "print_dict_tree(data)"
   ]
  },
  {
   "cell_type": "markdown",
   "metadata": {},
   "source": [
    "### Part 0: Learn to access Wikipedia data with Python"
   ]
  },
  {
   "cell_type": "markdown",
   "metadata": {},
   "source": [
    "Understand how Wikipedia markup works. You'll need to know a bit about formatting of MediaWiki pages so that you can parse the markup that you retrieve from wikipedia. See http://www.mediawiki.org/wiki/Help:Formatting. In particular, look into how links work and how tables work and make sure you can answer the following questions."
   ]
  },
  {
   "cell_type": "markdown",
   "metadata": {},
   "source": [
    ">**Ex. 3.0.1**: How do you link to another Wikipedia page from within a Wikipedia-page, using the wikimedia markup? Write down a simple example that links to a specific section in another page."
   ]
  },
  {
   "cell_type": "markdown",
   "metadata": {},
   "source": [
    "In MediaWiki markup, the syntax is [[wikipedia:some article]] to link to some wikipedia article. For example, [[wikipedia:California]] will link to https://en.wikipedia.org/wiki/california."
   ]
  },
  {
   "cell_type": "markdown",
   "metadata": {},
   "source": [
    "> **Ex. 3.0.2**: What is the MediaWiki markup to create a simple table like the one below?\n",
    ">\n",
    ">| True Positive  | False Positive |\n",
    "| -------------- |:--------------:|\n",
    "| False Negative | True Negative  |"
   ]
  },
  {
   "cell_type": "markdown",
   "metadata": {},
   "source": [
    "{| class=\"wikitable\" style=\"margin:auto\" <br>\n",
    "! True Positive !! False Positive !! <br>\n",
    "|- <br>\n",
    "| False Negative || True Negative <br>\n",
    "|}"
   ]
  },
  {
   "cell_type": "markdown",
   "metadata": {},
   "source": [
    "> **Ex. 3.0.3**: Figure out how to download pages from Wikipedia. Familiarize yourself with [the API](http://www.mediawiki.org/wiki/API:Main_page) (there's a nice little [tutorial](https://www.mediawiki.org/wiki/API:Tutorial), and further info about the [Query action](https://www.mediawiki.org/wiki/API:Query)) and learn how to extract the markup. The API query that returns the markup of the Batman page is:\n",
    ">\n",
    ">`https://www.wikipedia.org/w/api.php?format=json&action=query&titles=Batman&prop=revisions&rvprop=content`\n",
    ">\n",
    ">1. Explain the structure of this query. What are the parameters and arguments and what do they mean? What happens if you remove `rvprop=content`?\n",
    "2. Download the Batman page using the API and save it in a new variable. Extract the markup from the `dict` object and save it to a file called \"batman.txt\". We usually get hung up on this in class, so the first student to successfully extract the markup can share their solution with me so I can validate it and then share it with the class; s/he  gets **one extra credit point**!\n",
    ">\n",
    "> *Hint: 2. Use `print_dict_tree` to understand the hierarchy of keys and values in the data you get from the API. To extract the markup, you need to first key into 'query' then 'pages', and so on.*"
   ]
  },
  {
   "cell_type": "markdown",
   "metadata": {},
   "source": [
    "3.0.3.1: The end point for the GET request can be broken down as follows: <br>\n",
    "  >  `https://www.wikipedia.org/w/api.php` is the English Wikipedia API <br>\n",
    "  >  `format=json` means that we want the response to be JSON <br>\n",
    "  >  `action=query` signifies that we want to fetch data from a wiki <br>\n",
    "  >  `prop=revision` signifies that we want to see all of the revisions made on a page <br>\n",
    "  >  `titles=Batman` we want data on Batman's wikipedia page\n",
    "  >  `rvprop=content` we want to see the content of each revision (ie, what was changed)"
   ]
  },
  {
   "cell_type": "code",
   "execution_count": 2,
   "metadata": {},
   "outputs": [],
   "source": [
    "# 3.0.3.2\n",
    "import requests as rq\n",
    "import json\n",
    "bman = rq.get(\"https://en.wikipedia.org/w/api.php?format=json&action=query&titles=Batman&prop=revisions&rvprop=content\").json()\n",
    "bman_str = json.dumps(bman, indent=4)\n",
    "f = open('exercises_week3_output.txt', 'w')\n",
    "f.write(bman_str)\n",
    "f.close()"
   ]
  },
  {
   "cell_type": "markdown",
   "metadata": {},
   "source": [
    "### Part 1: Get data (main part)"
   ]
  },
  {
   "cell_type": "markdown",
   "metadata": {},
   "source": [
    "For a good part of this course we will be working with data from Wikipedia. Today, your objective is to crawl a large dataset with good and bad characters from the Marvel universe."
   ]
  },
  {
   "cell_type": "markdown",
   "metadata": {
    "ExecuteTime": {
     "end_time": "2017-08-23T14:01:10.834257Z",
     "start_time": "2017-08-23T14:01:10.826472Z"
    }
   },
   "source": [
    ">**Ex. 3.1.1**: From the Wikipedia API, get a list of all Marvel superheroes and another list of all Marvel supervillains. Use the `get_categorymembers` function below to get the characters in each category: 'Category:Marvel_Comics_supervillains' and 'Category:Marvel_Comics_superheroes'. Make sure you spend some time understanding the code.  How is the query formed?  Why does it take that form?  It will help to look at the [Categorymembers API](https://www.mediawiki.org/wiki/API:Categorymembers).  Moreoever, understand the need for the while loop and role played by the `cmcontinue` variable and query argument.\n",
    "\n",
    ">After you've obtained the lists for superheroes and supervillains, write some code to answer:\n",
    "1. How many characters are *ambiguous*, i.e. are both heroes and villains? What is the [Jaccard similarity](https://en.wikipedia.org/wiki/Jaccard_index) between the two groups?\n",
    "2. How many superheroes are there? How many supervillains? Do not include ambiguous characters in these counts!\n",
    ">\n",
    ">*Hint: Google something like \"get list all pages in category wikimedia api\" if you're struggling with the query. Also, you may notice that not only Marvel character pages are returned, but also names of subcategories. For now just ignore this and treat them as if they are also characters.*"
   ]
  },
  {
   "cell_type": "code",
   "execution_count": 3,
   "metadata": {},
   "outputs": [],
   "source": [
    "# Use this function that gets the categorymembers of a category\n",
    "def get_categorymembers(category):\n",
    "    members = []\n",
    "    cmcontinue = \"\"\n",
    "    while True:\n",
    "\n",
    "        # Download data\n",
    "        data = rq.get('https://en.wikipedia.org/w/api.php?format=json&action=query&list=categorymembers&cmtitle=%s&cmlimit=max&cmcontinue=%s' % (category, cmcontinue)).json()    \n",
    "        #print(data)\n",
    "        \n",
    "        # Add member titles\n",
    "        members.extend(\n",
    "            [m['title'] for m in data['query']['categorymembers']]\n",
    "        )\n",
    "\n",
    "        # If there is a 'continue' key in `data` then fetch the next 'cmcontinue' value\n",
    "        if 'continue' in data:\n",
    "            cmcontinue = data['continue']['cmcontinue']\n",
    "\n",
    "        # Otherwise break\n",
    "        else:\n",
    "            break\n",
    "            \n",
    "    return members"
   ]
  },
  {
   "cell_type": "code",
   "execution_count": 6,
   "metadata": {},
   "outputs": [
    {
     "name": "stdout",
     "output_type": "stream",
     "text": [
      "There are 113 ambiguous characters, and the heroes and villains have a Jaccard Index of 0.094482\n",
      "there are 443 'true' heroes and 640 'true' villains\n"
     ]
    }
   ],
   "source": [
    "villains = set(get_categorymembers('Category:Marvel_Comics_supervillains'))\n",
    "heroes = set(get_categorymembers('Category:Marvel_Comics_superheroes'))\n",
    "# print the ambiguous characters:\n",
    "ambiguous_characters = villains & heroes\n",
    "jaccard = len(ambiguous_characters) / len(heroes | villains)\n",
    "print('There are %i ambiguous characters, and the heroes and villains have a Jaccard Index of %f' % (len(ambiguous_characters), jaccard))\n",
    "true_heroes = heroes - villains\n",
    "true_villains = villains - heroes\n",
    "print('there are %i \\'true\\' heroes and %i \\'true\\' villains' % (len(true_heroes), len(true_villains)))"
   ]
  },
  {
   "cell_type": "markdown",
   "metadata": {
    "ExecuteTime": {
     "end_time": "2017-08-23T14:01:10.834257Z",
     "start_time": "2017-08-23T14:01:10.826472Z"
    }
   },
   "source": [
    ">**Ex. 3.1.2**: Using these three lists you now want to download all data you can about each character and store it on your harddrive.\n",
    "* Create three folders in your working directory, one for *heroes*, one for *villains*, and one for *ambiguous*.\n",
    "* For each character, download the markup on their pages (just like you did for Batman in 3.0.3) and save in a new file in the corresponding hero/villain/ambiguous folder.  Use the character's name as the filename.\n",
    "* **Importantly** do not put ambiguous characters into the hero or villains folder!\n",
    ">\n",
    ">*Hint: Some of the characters have funky names. The first problem you may encounter is with encoding. To solve that you can call `.encode('utf-8')` on your markup string. Another problem you may encounter is that some characters have a slash in their names. You should just replace the slash with some other meaningful character.*\n",
    ">Once your code will start running, it will take some time to download the data and create the files (30-40 minutes on my computer).  You might wish you had a measure of progress while the code is running, something like a progress bar.  Look no further than `tqdm`.  Here's an [example](https://www.geeksforgeeks.org/python-how-to-make-a-terminal-progress-bar-using-tqdm/) how to download and use it."
   ]
  },
  {
   "cell_type": "code",
   "execution_count": 55,
   "metadata": {},
   "outputs": [
    {
     "name": "stderr",
     "output_type": "stream",
     "text": [
      "villains:  58%|█████▊    | 370/640 [01:41<01:14,  3.63it/s]\n"
     ]
    },
    {
     "ename": "FileNotFoundError",
     "evalue": "[Errno 2] No such file or directory: 'marvel_characters/villains/Se\\\\xc3\\\\xb1or Muerte / Se\\\\xc3\\\\xb1or Suerte.txt'",
     "output_type": "error",
     "traceback": [
      "\u001b[1;31m---------------------------------------------------------------------------\u001b[0m",
      "\u001b[1;31mFileNotFoundError\u001b[0m                         Traceback (most recent call last)",
      "\u001b[1;32m~\\AppData\\Local\\Temp\\ipykernel_4164\\1151871601.py\u001b[0m in \u001b[0;36m<module>\u001b[1;34m\u001b[0m\n\u001b[0;32m      7\u001b[0m         \u001b[0mpage_json\u001b[0m \u001b[1;33m=\u001b[0m \u001b[0mrq\u001b[0m\u001b[1;33m.\u001b[0m\u001b[0mget\u001b[0m\u001b[1;33m(\u001b[0m\u001b[1;34mf'https://en.wikipedia.org/w/api.php?format=json&action=query&titles={cleaned_character_name}&prop=revisions&rvprop=content'\u001b[0m\u001b[1;33m)\u001b[0m\u001b[1;33m.\u001b[0m\u001b[0mjson\u001b[0m\u001b[1;33m(\u001b[0m\u001b[1;33m)\u001b[0m\u001b[1;33m\u001b[0m\u001b[1;33m\u001b[0m\u001b[0m\n\u001b[0;32m      8\u001b[0m         \u001b[0mpage_str\u001b[0m \u001b[1;33m=\u001b[0m \u001b[0mjson\u001b[0m\u001b[1;33m.\u001b[0m\u001b[0mdumps\u001b[0m\u001b[1;33m(\u001b[0m\u001b[0mpage_json\u001b[0m\u001b[1;33m,\u001b[0m \u001b[0mindent\u001b[0m\u001b[1;33m=\u001b[0m\u001b[1;36m4\u001b[0m\u001b[1;33m)\u001b[0m\u001b[1;33m\u001b[0m\u001b[1;33m\u001b[0m\u001b[0m\n\u001b[1;32m----> 9\u001b[1;33m         \u001b[0mf\u001b[0m \u001b[1;33m=\u001b[0m \u001b[0mopen\u001b[0m\u001b[1;33m(\u001b[0m\u001b[1;34mf'marvel_characters/{cat_name}/{cleaned_character_name}.txt'\u001b[0m\u001b[1;33m,\u001b[0m \u001b[1;34m'w'\u001b[0m\u001b[1;33m)\u001b[0m\u001b[1;33m\u001b[0m\u001b[1;33m\u001b[0m\u001b[0m\n\u001b[0m\u001b[0;32m     10\u001b[0m         \u001b[0mf\u001b[0m\u001b[1;33m.\u001b[0m\u001b[0mwrite\u001b[0m\u001b[1;33m(\u001b[0m\u001b[0mpage_str\u001b[0m\u001b[1;33m)\u001b[0m\u001b[1;33m\u001b[0m\u001b[1;33m\u001b[0m\u001b[0m\n\u001b[0;32m     11\u001b[0m         \u001b[0mf\u001b[0m\u001b[1;33m.\u001b[0m\u001b[0mclose\u001b[0m\u001b[1;33m(\u001b[0m\u001b[1;33m)\u001b[0m\u001b[1;33m\u001b[0m\u001b[1;33m\u001b[0m\u001b[0m\n",
      "\u001b[1;31mFileNotFoundError\u001b[0m: [Errno 2] No such file or directory: 'marvel_characters/villains/Se\\\\xc3\\\\xb1or Muerte / Se\\\\xc3\\\\xb1or Suerte.txt'"
     ]
    }
   ],
   "source": [
    "from tqdm import tqdm\n",
    "for cat_name, character_names in (('villains', true_villains), ('heroes', true_heroes), ('ambiguous', ambiguous_characters)):\n",
    "    for character_name in tqdm(character_names, desc=cat_name, total=len(character_names)):\n",
    "        cleaned_character_name = character_name.replace(r'[/\\\\]', '-').replace('\\'', '`')\n",
    "        # encode into utf to protect against weird characters. Remove renm\n",
    "        cleaned_character_name = str(cleaned_character_name.encode('utf-8'))[2:-1]\n",
    "        page_json = rq.get(f'https://en.wikipedia.org/w/api.php?format=json&action=query&titles={cleaned_character_name}&prop=revisions&rvprop=content').json()\n",
    "        page_str = json.dumps(page_json, indent=4)\n",
    "        f = open(f'marvel_characters/{cat_name}/{cleaned_character_name}.txt', 'w')\n",
    "        f.write(page_str)\n",
    "        f.close()\n",
    "        "
   ]
  },
  {
   "cell_type": "code",
   "execution_count": 49,
   "metadata": {},
   "outputs": [
    {
     "name": "stdout",
     "output_type": "stream",
     "text": [
      "villains{'U-Man', 'Baron Mordo', 'Demon Bear', 'Maestro (character)', 'Marduk Kurios', 'Benedict Kine', \"Rl'nnd\", 'Marco Delgado (comics)', 'Occulus', 'Ego the Living Planet', 'Cletus Kasady', 'Impala (Marvel Comics)', 'Mojo (comics)', 'Stygyro', 'Zarek (comics)', 'Doomsday Man', 'Ripjak', 'Man-Elephant', 'Riptide (Marvel Comics)', 'Rev (comics)', 'Super Sabre (comics)', 'Shriek (character)', 'Shepard (comics)', 'Auntie Freeze', 'Ghaur', 'Masque (comics)', 'Mike Asher', 'Awesome Android', 'Titannus', 'Jackal (Marvel Comics character)', 'Equinox (comics)', 'Big Wheel (character)', 'Alex (comics)', 'Spot (comics)', 'Randall Darby', 'Xorr the God-Jewel', 'Cyclone (Marvel Comics)', 'Eliminator (comics)', 'Ringer (comics)', 'Spymaster (character)', 'Baron Macabre', 'Master of the World (comics)', 'Roderick Kingsley', 'Black Knight (Nathan Garrett)', 'Visimajoris', 'Shockwave (comics)', 'Whiplash (Marvel Comics)', 'Crusader (Marvel Comics)', 'Tombstone (character)', 'Mercurio the 4-D Man', 'Killer Shrike', 'Category:Marvel Comics Nazis', 'Michael Pointer (character)', 'Olivier (comics)', 'Gargantua (comics)', 'Varnae', 'Big Man (comics)', 'Black Swan (comics)', 'Bloodaxe (character)', 'Bulldozer (Marvel Comics)', 'Dracula (Marvel Comics)', 'Titus (comics)', 'Allatou', 'Mongoose (comics)', 'Crime Master', 'Dredmund the Druid', 'Enforcer (comics)', 'Maker (Reed Richards)', 'Baron Von Blitzschlag', 'Power Broker (character)', 'Alkhema', 'Poundcakes (Marvel Comics)', 'Talos the Untamed', 'Trick Shot (character)', 'Blackbird (Femizon)', 'Dire Wraith', 'Mentallo', 'Karla Sofen', \"Y'Garon\", 'Lemuel Dorcas', 'Vermin (character)', 'Brent Jackson', 'Lash (comics)', 'Mac Gargan', 'Scimitar (comics)', 'Annihilus', 'Timberius', 'Barney Barton', 'Master Menace', 'Veil (comics)', 'Masked Marauder', 'Bullseye (character)', 'Ulik', 'Quasimodo (comics)', 'Category:Marvel Comics LGBT supervillains', 'Virgo (character)', 'Unicorn (Marvel Comics)', 'Master Mold', 'Serpent (character)', 'Farley Stillwell', 'Mahkizmo', 'Shingen Yashida', 'Slyde', 'Super-Skrull', 'Harpoon (comics)', 'Devastator (comics)', 'Mandarin (character)', 'Fenris (comics)', 'Nicodemus West', 'Jetstream (comics)', 'Super-Patriot (Marvel Comics)', 'Hugh Jones (comics)', 'Leader (character)', 'Chemistro', 'Phobius (comics)', 'Silver Dagger (comics)', 'Abraham Cornelius', 'Fuego (comics)', 'Green Goblin', 'Laufey (character)', 'Unus the Untouchable', 'Shocker (character)', 'Bulldozer (character)', 'Bushman (character)', 'Death-Shield', 'Seth (Neo)', 'Vampiro (comics)', 'Harold Meachum', 'Everyman (Marvel Comics)', 'Zeke Stane', 'Phalanx (comics)', 'Fagin (comics)', 'Nuke (Marvel Comics)', 'Morning Star (comics)', 'Rapido (comics)', 'Genesis (Marvel Comics)', 'Stallior', 'Mauler (comics)', 'Zzzax', 'White Dragon (comics)', 'Mad Thinker', 'Sin (Marvel Comics)', 'Serafina (Marvel)', 'Mysteria (comics)', 'Reptyl', 'X-Ray (comics)', 'Warwolves', 'Rhino (character)', 'Henry Pym Jr.', 'Garokk', 'Giganto', 'Gideon Mace', 'Hydro-Man', 'Humus Sapien', 'Morlun', 'Mendel Stromm', 'Grappler (comics)', 'Powderkeg (character)', 'Wendigo (comics)', 'Mad Dog (Marvel Comics)', 'Psyklop', 'Psycho-Man', 'Sentry (Kree)', 'Overdrive (character)', 'Mr. Fish', 'Titanium Man', 'Elias Bogan', 'Wraith (Brian DeWolff)', 'Razor Fist', 'Dreadnought (comics)', 'Shuma-Gorath', 'Thunderball (character)', 'Yellow Claw (character)', 'Bonebreaker', 'Korath the Pursuer', 'Mindless Ones', 'Avalanche (character)', 'Scrambler (comics)', 'Demogoblin', 'Roughouse', 'Brute (Morlocks)', 'Aries (character)', 'Melter', 'Desak', 'Man-Beast', 'Sunturion', 'Super-Adaptoid', 'Yon-Rogg', 'Speedfreek', 'Hala the Accuser', 'Fabian Cortez', 'Dagoth', 'Doctor Faustus (comics)', 'Gladiator (Melvin Potter)', 'Selene (comics)', 'Magneta', 'Firepower (comics)', 'Ragnarok (comics)', 'Sunstreak', 'Bushmaster (Marvel Comics)', 'Switch (comics)', 'Scramble (comics)', 'Vargas (comics)', 'Spyne', 'Zarathos', 'Wong-Chu', 'Headlok', 'Jink Slater', 'Category:Marvel Comics demons', 'Ox (comics)', 'Morpheus (Marvel Comics)', 'Ikthalon', 'Bullet Biker (comics)', 'Kang the Conqueror', 'Hazmat (Marvel Nemesis: Rise of the Imperfects)', 'Vector (comics)', 'Foolkiller', 'Kearson DeWitt', 'Arnim Zola', 'Diamondback (Willis Stryker)', 'Human Cannonball (Marvel Comics)', 'Red Skull (Albert Malik)', 'Armless Tiger Man', 'Wizard (Marvel Comics)', 'Walrus (Marvel Comics)', 'Vindaloo (comics)', 'Jerry Jaxon', 'Milan (comics)', 'The Immortal Hulk', 'Immortus', 'Mole Man', 'Cyber (Marvel Comics)', 'Orka (comics)', 'List of Marvel Comics characters: B', 'Perro (comics)', 'Werner von Strucker', 'Headsman (comics)', 'Silvermane', 'Oddball (character)', 'Geoffrey Wilder', 'Leo (comics)', 'Xemu (comics)', 'Blockbuster (Marauder)', 'Jillian (comics)', 'Libra (Marvel Comics)', 'Darren Cross', 'Thanatos (comics)', 'Obnoxio the Clown', 'Plunderer (comics)', 'Sabretooth (character)', 'Owl (Marvel Comics)', 'Rodstvow', 'Kangaroo (comics)', 'Piecemeal (Gilbert Benson)', 'Psynapse', 'Lloyd Bloch', 'Wrecker (comics)', 'Charon (Marvel Comics)', 'Gregory Herd', 'Miracle Man', 'Digger (Marvel Comics)', 'Professor Power', 'Adam II', 'Egghead (Marvel Comics)', 'Fury (Marvel Comics)', 'Flag-Smasher', 'Ultimo (Marvel Comics)', 'Jacob Shaw (comics)', 'Korvac', 'Category:Marvel Comics female supervillains', 'Murderworld (comics)', 'Scientist Supreme', 'Nitro (comics)', 'Gauntlet (Inhuman)', 'Cottonmouth (Cornell Stokes)', 'Kaluu', 'Shinobi Shaw', 'Victor Timely', 'Aguja (Marvel Comics)', 'Trash (comics)', 'Harry Leland', 'Kraven the Hunter', 'Viper (Marvel Comics)', 'Ronan the Accuser', 'Zodiak (comics)', 'Gemini (Marvel Comics)', 'Ymir (Marvel Comics)', 'Llyra', 'Category:Marvel Comics supervillain teams', 'Squid (Marvel Comics)', 'Rampage (Marvel Comics)', 'Lightmaster', 'Mikhail Rasputin', 'Steel Serpent', 'Sunstroke (comics)', 'Cheshire Cat (comics)', 'Kaecilius', 'Dragon Man (character)', 'Achilles (Pantheon)', 'Porcupine (Marvel Comics)', 'Mephisto (Marvel Comics)', 'Absalom (comics)', 'Glenn Talbot', 'Beyonder', 'Hobgoblin (comics)', 'Crossbones (character)', 'Magus (comics)', 'Johnny Dee', 'Al-Tariq', 'Rax (comics)', 'Yidrazil (comics)', 'Acrobat (comics)', 'Blackwing (character)', 'Bobcat (comics)', 'Batroc the Leaper', 'Glowworm (comics)', 'Man Mountain Marko', 'Spear (comics)', 'Urthona (comics)', 'Heinrich Zemo', 'Francine Frye', 'Russian (comics)', 'Mirage (Marvel Comics)', 'Condor (comics)', 'Midgard Serpent (Marvel Comics)', 'Romulus (comics)', 'Jason Macendale', 'Mister Hyde (Marvel Comics)', 'Neophyte (comics)', 'Black Spectre', 'Zarrko', 'Bryson Bale', 'Rancor (comics)', 'Dweller-in-Darkness', 'Firebrand (Marvel Comics)', 'War (Marvel Comics)', 'Technovore', 'List of Iron Man enemies', 'Freak (Spider-Man villain)', 'Burstaar (comics)', 'Kingpin (Matt Murdock)', 'Hammerhead (comics)', 'Dittomaster', 'Master Pandemonium', 'Prism (character)', 'Black Widow (Yelena Belova)', 'Paibok', 'Jamie Braddock', 'Mysterio', 'Comanche (comics)', 'Man-Killer', 'Rattler (character)', 'Aleksander Lukin', 'Iron Monger', 'Baron Blood', 'Princess Python', 'Ultron', 'Blood Brothers (comics)', 'Centurious', 'Baphomet (comics)', 'Absorbing Man', 'Azazel (Marvel Comics)', 'Don Fortunato', 'Jester (Marvel Comics)', 'Ginniyeh', 'Pisces (character)', 'Torso (Marvel Comics)', 'Francis Fanny', 'Black Talon (comics)', 'Controller (Marvel Comics)', 'Señor Muerte / Señor Suerte', 'Maelstrom (comics)', 'Brothers Grimm (comics)', 'Copperhead (Marvel Comics)', 'Gazer', 'Bloodscream', 'Turner D. Century', 'Deathbird', 'Terrax', 'Matthew Risman', 'Hive (character)', 'Blackheart', 'Arsenal (Marvel Comics)', 'Orb (comics)', 'Trevor Fitzroy', 'Ogun (comics)', 'Zhou Cheng', 'Lunatik', 'Nth Man', 'Whirlwind (comics)', 'Hate-Monger', 'Baron Brimstone', 'Piledriver (character)', 'Malcolm Colcord', 'Slug (comics)', 'Typhon (comics)', 'Mordred (comics)', 'Mountjoy (comics)', 'Rhapsody (comics)', 'Guilt Hulk', 'Sin-Eater (character)', 'Gamesmaster (comics)', 'Institute of Evil', 'Mister Fear', 'Karn (comics)', 'Rose (Marvel Comics)', 'Cobra (Marvel Comics)', 'Strongman (comics)', 'Predator X (character)', 'Proctor (comics)', 'Naga (Marvel Comics)', 'Looter (comics)', 'Machete (comics)', 'Gunthar of Rigel', 'Category:Marvel Comics male supervillains', 'Fabian Stankowicz', 'Ebon Seeker', 'Molecule Man', 'Category:Lists of Marvel Comics supervillains', 'Baron Strucker', 'Hippo (comics)', 'Hypno-Hustler', 'Eyekillers (comics)', 'Midnight Sun (Marvel Comics)', 'Gentleman (character)', 'Chondu the Mystic', 'Rock Python', 'Sagittarius (comics)', 'Cold War (comics)', 'Swarm (Marvel Comics)', 'Iron Cross (Marvel Comics)', 'Scarecrow (Marvel Comics)', 'Doombot', 'Sabreclaw', 'Spencer Smythe', 'Mister Jip', 'Kingmaker (comics)', 'Ghost (Marvel Comics)', 'Zheng Zu', 'Master Khan', 'Isbisa', 'Minotaur (comics)', 'Fenris Wolf (Marvel Comics)', 'Midnight Man (comics)', 'Scourge of the Underworld', 'Hurricane (comics)', 'Tiger Shark (Marvel Comics)', 'Jackhammer (comics)', 'Ebony Maw', 'Spider-X', 'Tempus (comics)', 'Static (Marvel Comics)', 'Warrior Woman (Marvel Comics)', 'Death Adder (character)', 'Electro (Marvel Comics)', 'Champion of the Universe', 'Gideon (comics)', 'Mandrill (comics)', 'Galactus', \"Midnight's Fire\", 'Dormammu', 'Grizzly (comics)', 'Living Monolith', 'Richard Fisk', 'Cockroach Hamilton', 'Hammer and Anvil (comics)', 'Thanos', 'Cottonmouth (Burchell Clemens)', 'Category:Marvel Comics extraterrestrial supervillains', 'Alistair Smythe', 'Sapphire Styx', 'Captain Atlas', \"J'son (character)\", 'Forearm (comics)', 'Blackout (Lilin)', 'Boomerang (character)', 'Bloodshed (character)', 'Terminus (comics)', 'Piranha (comics)', 'Lizard (character)', 'Ultimaton', 'Samuel Silke', 'She-Venom (Ann Weying)', 'Master Man (Marvel Comics)', 'Krang (Marvel Comics)', 'Satannish', 'Diablo (Marvel Comics)', 'Blastaar', 'Necrom', 'Gorgon (Tomi Shishido)', \"Jack O'Lantern (Marvel Comics)\", 'Deacon Frost', 'Green Goblin (Ultimate Marvel character)', 'Professor Thorton', 'Damon Dran', 'Kro (character)', 'Sangre (comics)', 'Tricephalous (comics)', 'Taurus (Marvel Comics)', 'Trapster', 'Lucifer (Marvel Comics)', 'Puff Adder (character)', 'Pluto (Marvel Comics)', 'Walking Stiletto', 'Modular Man', 'Diamondhead (comics)', 'Dreadknight', 'Orphan-Maker', 'Black Talon (Samuel Barone)', 'Nightmare (Marvel Comics)', 'Pestilence (comics)', 'Quantum (comics)', 'Terrax the Truly Enlightened', 'Pyro (Marvel Comics)', 'Monsteroso', 'Living Laser', 'Gorr the God Butcher', 'Thanoseid', 'Black Mariah (comics)', \"Matsu'o Tsurayaba\", 'Chrome (comics)', 'Black Dwarf (comics)', 'Lady Gorgon', 'Brain-Child', 'Mister X (Marvel Comics)', 'Slaymaster', 'Sphinx (Marvel Comics)', 'Selby (comics)', 'Ultimus (comics)', 'Purple Man', 'Thunderbolt Ross', 'Norman Osborn', 'Peepers (Marvel Comics)', 'Freakmaster', 'Captain Omen', 'Damage (Marvel Comics)', 'Midas (comics)', 'Gibbon (character)', 'Executioner (character)', 'Sleeper (Marvel Comics)', 'Reignfire', 'Tinkerer (Marvel Comics)', 'Val Rhymin', 'Specialist (comics)', 'Kulan Gath', 'Magma (Jonathan Darque)', 'Shadow Knight (character)', 'Mangog', 'Frederick Foswell', 'Ajaxis', 'Shotgun (comics)', 'Stonewall (comics)', 'Missing Link (comics)', 'Chaka (comics)', 'Supergiant (comics)', 'Doppelganger (Marvel Comics)', 'Foreigner (character)', 'Flying Tiger (Marvel Comics)', 'Doctor Doom', 'Ironclad (comics)', 'Montana (character)', 'Onslaught (Marvel Comics)', 'Sultan (comics)', 'Growing Man', 'Man-Bull', 'Cadena (comics)', 'Redstone (comics)', 'Boost (comics)', 'Svyatogor (comics)', 'Mister Sinister', 'Sarnak (comics)', 'Animus (Marvel Comics)', 'Bi-Beast', 'Carrion (comics)', 'Mister Negative', 'Vavavoom', 'Bushwacker (comics)', 'Xarus', 'Birdy (comics)', 'Danger Room', 'Goblin King', 'Madcap (comics)', 'Ammo (comics)', 'John Ryker', 'Morg', 'Profile (Marvel Comics)', 'Stiletto (comics)', 'Grog (Marvel Comics)', 'Nicholas Scratch', 'Massacre (Marvel Comics)', 'Mind-Wave', 'Sentinel (comics)', 'Apocalypse (character)', 'Brother Nature (comics)', 'Devos the Devastator', 'Jonas Harrow', 'Needle (comics)', 'Sidewinder (character)', 'Arkon', 'Slayback (comic book character)', 'Xenophage (comics)', 'Hunger (Marvel Comics)', 'Alexander Bont', 'Prester John (comics)', 'Basilisk (comics)', 'Blackout (Marcus Daniels)', 'Blizzard (Marvel Comics)', 'Anne-Marie Cortez', 'Black Lama', 'Ever (comics)', 'Goddess (comics)', 'Attuma', 'Puppet Master (Marvel Comics)', 'Maximus (comics)', 'Griffin (Marvel Comics)', 'Overmind (comics)', 'Leonus', 'In-Betweener', 'Nathaniel Richards (Marvel Comics)', 'Bela (comics)', 'Glob (comics)', 'Metal Master (comics)', 'Adria (comics)', 'Eel (comics)', 'Painter (comics)', 'Death Metal (comics)', 'List of Thor (Marvel Comics) enemies', 'List of Captain America enemies', 'Brute (Reed Richards)', 'The Hood', 'Bloodstrike (Marvel Comics)', 'Diamanda Nero', 'Tracer (Marvel Comics)', 'T-Ray (comics)', 'Hyperstorm', 'Ringmaster (comics)', 'Steeplejack (Marvel Comics)', 'Scalphunter (Marvel Comics)', 'Nebulon (comics)', 'Grey Gargoyle'}\n",
      "\n",
      "\n",
      "\n",
      "hello \\\\ how are you Se\\xc3\\xb1or Suerte\n"
     ]
    }
   ],
   "source": [
    "#print('ambiguous: ' + str(ambiguous_characters) + '\\n\\n\\n')\n",
    "print('villains' + str(true_villains) + '\\n\\n\\n')\n",
    "#print('heroes' + str(true_heroes))\n",
    "#import re\n",
    "cleaned = str('hello \\ how are you Señor Suerte'.replace(r'[/\\\\]', '-').encode('utf-8'))[2:-1]\n",
    "print(cleaned)"
   ]
  },
  {
   "cell_type": "markdown",
   "metadata": {},
   "source": [
    "### Part 2: Explore data"
   ]
  },
  {
   "cell_type": "markdown",
   "metadata": {},
   "source": [
    "#### Page lengths"
   ]
  },
  {
   "cell_type": "markdown",
   "metadata": {},
   "source": [
    ">**Ex. 3.2.1**: Extract the length of the page of each character (to do so you will have to open the corresponding file) and plot the distribution of this variable for each class (heroes/villains/ambiguous). Can you say anything about the popularity of characters in the Marvel universe based on your visualization?\n",
    ">\n",
    ">*Hint: The simplest thing is to make a probability mass function, i.e. a normalized histogram. [My figure](https://github.com/lucian979/CarletonBD/blob/main/plots/ex3.2.1.pdf) looks like this. Use `plt.hist` on a list of page lengths, with the argument `density=True`. Other distribution plots are fine too, though.*"
   ]
  },
  {
   "cell_type": "markdown",
   "metadata": {},
   "source": [
    ">**Ex. 3.2.2**: Find the 10 characters from each class with the longest Wikipedia pages. Visualize their page lengths with bar charts. Comment on the result."
   ]
  },
  {
   "cell_type": "markdown",
   "metadata": {},
   "source": [
    "#### Alliances"
   ]
  },
  {
   "cell_type": "markdown",
   "metadata": {},
   "source": [
    ">**Ex. 3.2.3**: In this exercise you want to find out the biggest alliances in the Marvel universe and their members. The data that will help you in doing this is in the *alliances*-field of the markup of each character -- open up a couple of character files and look for that field; get a sense for how the information is stored so that you can then write code to retreave it. Below I suggest steps you can take to solve the problem if you get stuck.\n",
    "* Use the regular expression `alliances[\\w\\W]+?\\n` to extract the *alliances*-field of a character's markup.\n",
    "* Use the regular expression `\\[\\[.+?[\\]\\|]` to extract links (i.e. each team) from the *alliance*-field.\n",
    "* You want to store alliance names and the corresponding members (hint: use a `defaultdict`).\n",
    "* Inspect your team names. Are there any that result from inconsistencies in the information on the pages? How do you deal with this?\n",
    "* **Print the 10 largest alliances and their number of members.**"
   ]
  },
  {
   "cell_type": "code",
   "execution_count": null,
   "metadata": {},
   "outputs": [],
   "source": [
    "#example of using regex\n",
    "import re\n",
    "\n",
    "for title in titles:\n",
    "        \n",
    "    # Need to replace / with - before loading file\n",
    "    title = title.replace(\"/\", \"-\")\n",
    "        \n",
    "    # Load character markup\n",
    "    with open(f\"../data/{folder}/{title}.txt\") as fp:\n",
    "        markup = fp.read()\n",
    "    \n",
    "    # Get alliance field\n",
    "    alliances_field = re.findall(r\"alliances[\\w\\W]+?\\n\", markup)\n",
    "    #..."
   ]
  },
  {
   "cell_type": "markdown",
   "metadata": {},
   "source": [
    "#### Timeline"
   ]
  },
  {
   "cell_type": "markdown",
   "metadata": {},
   "source": [
    ">**Ex. 3.2.4 EXTRA**: We are interested in knowing if there is a time-trend in the debut of characters.\n",
    "* Extract into three lists, debut years of heroes, villains, and ambiguous characters.\n",
    "* Do all pages have a debut year? Do some have multiple? How do you handle these inconsistencies?\n",
    "1. For heroes, villains and ambiguous character seperately, visualize the amount of characters introduced over time. You choose how you want to visualize this data, but please comment on your choice.\n",
    "2. Make a plot that shows what fraction of introduced characters each year are heros. Taken together, **comment on your visualizations** and what they say about the system you're analyzing.\n",
    ">\n",
    ">*Hint: The debut year is given on the debut row in the info table of a character's Wiki-page. There are many ways that you can extract this variable. You should try to have a go at it yourself, but if you are short on time, you can use this horribly ugly regular expression code:*<br><br>\n",
    "*`re.findall(r\"\\d{4}\\)\", re.findall(r\"debut.+?\\n\", markup_text)[0])[0][:-1]`*\n",
    ">\n",
    "> ***Will not be included in assignment. Worth up to 5 extra credit.***"
   ]
  },
  {
   "cell_type": "code",
   "execution_count": null,
   "metadata": {},
   "outputs": [],
   "source": []
  }
 ],
 "metadata": {
  "kernelspec": {
   "display_name": "Python 3 (ipykernel)",
   "language": "python",
   "name": "python3"
  },
  "language_info": {
   "codemirror_mode": {
    "name": "ipython",
    "version": 3
   },
   "file_extension": ".py",
   "mimetype": "text/x-python",
   "name": "python",
   "nbconvert_exporter": "python",
   "pygments_lexer": "ipython3",
   "version": "3.9.13"
  },
  "nav_menu": {},
  "toc": {
   "base_numbering": 1,
   "nav_menu": {},
   "number_sections": false,
   "sideBar": true,
   "skip_h1_title": false,
   "title_cell": "Table of Contents",
   "title_sidebar": "Contents",
   "toc_cell": false,
   "toc_position": {},
   "toc_section_display": "block",
   "toc_window_display": true
  },
  "varInspector": {
   "cols": {
    "lenName": 16,
    "lenType": 16,
    "lenVar": 40
   },
   "kernels_config": {
    "python": {
     "delete_cmd_postfix": "",
     "delete_cmd_prefix": "del ",
     "library": "var_list.py",
     "varRefreshCmd": "print(var_dic_list())"
    },
    "r": {
     "delete_cmd_postfix": ") ",
     "delete_cmd_prefix": "rm(",
     "library": "var_list.r",
     "varRefreshCmd": "cat(var_dic_list()) "
    }
   },
   "types_to_exclude": [
    "module",
    "function",
    "builtin_function_or_method",
    "instance",
    "_Feature"
   ],
   "window_display": false
  }
 },
 "nbformat": 4,
 "nbformat_minor": 2
}
