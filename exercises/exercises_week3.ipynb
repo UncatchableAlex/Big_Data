{
 "cells": [
  {
   "cell_type": "markdown",
   "metadata": {},
   "source": [
    "# Week 3: Getting data—scraping and APIs."
   ]
  },
  {
   "cell_type": "markdown",
   "metadata": {
    "ExecuteTime": {
     "end_time": "2017-08-23T15:30:03.634114Z",
     "start_time": "2017-08-23T15:30:03.629294Z"
    }
   },
   "source": [
    "This week is about getting data from the big ol' Internet, with the Wikipedia as our guinea pig. The main task today is to retrieve the Wikipedia pages of **all Marvel characters** using the MediaWiki **API**. There are three parts to this exercise set.\n",
    "\n",
    "* Learn the basics of how to retrieve data from Wiki sites using the MediaWiki API\n",
    "* Download all Marvel character Wikipedia articles\n",
    "* Begin to explore the data\n",
    "\n",
    "With the data you acquire today, you will be working for the remainder of the semester. Try to get as far as possible, structure the data nicely and write your code so that it makes sense to you in the coming weeks.\n",
    "\n",
    "Also, there's an **important practice** you should start getting used to—which matters when we grade assignments. \n",
    "1. Openly reflect on how you solve a problem. It can be code comments, or markup below/above the code cell, just as long as you share your thoughts. \n",
    "2. Comment on your results, discussing:\n",
    "    * Whether they make sense\n",
    "    * If they look somewhat as you expected, and if not, what the reasons for this difference might be\n",
    "    * What—interesting or not—insight they reveal about the given system you analyze\n",
    "    \n",
    "    *Note: of course you can't always say something profound about every little thing, so rest assured, I will only expect explanations in your assignments when *it makes sense* that there should be one.*"
   ]
  },
  {
   "cell_type": "markdown",
   "metadata": {},
   "source": [
    "## Exercises"
   ]
  },
  {
   "cell_type": "markdown",
   "metadata": {},
   "source": [
    "**Why use an API?** You could just go ahead and scrape the HTML from a Wikipedia page as simple as:\n",
    "\n",
    "    import requests as rq\n",
    "    rq.get(\"https://en.wikipedia.org/wiki/Batman\").text\n",
    "    \n",
    "Well... to navigate data in HTML format is not always easy. Therefore, MediaWiki offers its users direct use of its API. To load the MediaWiki markup using the API, one would do something like:\n",
    "\n",
    "    rq.get(\"https://en.wikipedia.org/w/api.php?format=json&action=query&titles=Batman&prop=revisions&rvprop=content\").json()\n",
    "    \n",
    "This assumes the data is JSON formatted and returns a `dict` object inside which you can find all sorts of information about the page, including the latest revision of the Batman page markup."
   ]
  },
  {
   "cell_type": "markdown",
   "metadata": {},
   "source": [
    "**Helpful code to display `dict` object as a tree.** Have a look at it, make sure you understand it."
   ]
  },
  {
   "cell_type": "code",
   "execution_count": 1,
   "metadata": {
    "ExecuteTime": {
     "end_time": "2019-11-11T09:32:27.423821Z",
     "start_time": "2019-11-11T09:32:26.873226Z"
    },
    "run_control": {
     "frozen": false,
     "read_only": false
    }
   },
   "outputs": [
    {
     "name": "stdout",
     "output_type": "stream",
     "text": [
      "batchcomplete : str - 0\n",
      "warnings \n",
      "    main \n",
      "        * : str - 287\n",
      "    revisions \n",
      "        * : str - 163\n",
      "query \n",
      "    pages \n",
      "        4335 \n",
      "            pageid : int - 4\n",
      "            ns : int - 1\n",
      "            title : str - 6\n",
      "            revisions : list - 206187\n"
     ]
    }
   ],
   "source": [
    "def print_dict_tree(d, indent=0):\n",
    "    \"\"\"Print tree of keys in `dict` object.\n",
    "    \n",
    "    Prints the different levels of nested keys in a `dict` object. When there\n",
    "    are no more dictionaries to key into, prints objects type and byte-size.\n",
    "\n",
    "    Input\n",
    "    -----\n",
    "    d : dict\n",
    "    \"\"\"\n",
    "    for key, value in d.items():\n",
    "        print('    ' * indent + str(key), end=' ')\n",
    "        if isinstance(value, dict):\n",
    "            print(); print_dict_tree(value, indent+1)\n",
    "        else:\n",
    "            print(\":\", str(type(d[key])).split(\"'\")[1], \"-\", str(len(str(d[key]))))\n",
    "            \n",
    "# Example\n",
    "import requests as rq\n",
    "data = rq.get(\"https://en.wikipedia.org/w/api.php?format=json&action=query&titles=Batman&prop=revisions&rvprop=content\").json()\n",
    "print_dict_tree(data)"
   ]
  },
  {
   "cell_type": "markdown",
   "metadata": {},
   "source": [
    "### Part 0: Learn to access Wikipedia data with Python"
   ]
  },
  {
   "cell_type": "markdown",
   "metadata": {},
   "source": [
    "Understand how Wikipedia markup works. You'll need to know a bit about formatting of MediaWiki pages so that you can parse the markup that you retrieve from wikipedia. See http://www.mediawiki.org/wiki/Help:Formatting. In particular, look into how links work and how tables work and make sure you can answer the following questions."
   ]
  },
  {
   "cell_type": "markdown",
   "metadata": {},
   "source": [
    ">**Ex. 3.0.1**: How do you link to another Wikipedia page from within a Wikipedia-page, using the wikimedia markup? Write down a simple example that links to a specific section in another page."
   ]
  },
  {
   "cell_type": "markdown",
   "metadata": {},
   "source": [
    "In MediaWiki markup, the syntax is [[wikipedia:some article]] to link to some wikipedia article. For example, [[wikipedia:California]] will link to https://en.wikipedia.org/wiki/california."
   ]
  },
  {
   "cell_type": "markdown",
   "metadata": {},
   "source": [
    "> **Ex. 3.0.2**: What is the MediaWiki markup to create a simple table like the one below?\n",
    ">\n",
    ">| True Positive  | False Positive |\n",
    "| -------------- |:--------------:|\n",
    "| False Negative | True Negative  |"
   ]
  },
  {
   "cell_type": "markdown",
   "metadata": {},
   "source": [
    "{| class=\"wikitable\" style=\"margin:auto\" <br>\n",
    "! True Positive !! False Positive !! <br>\n",
    "|- <br>\n",
    "| False Negative || True Negative <br>\n",
    "|}"
   ]
  },
  {
   "cell_type": "markdown",
   "metadata": {},
   "source": [
    "> **Ex. 3.0.3**: Figure out how to download pages from Wikipedia. Familiarize yourself with [the API](http://www.mediawiki.org/wiki/API:Main_page) (there's a nice little [tutorial](https://www.mediawiki.org/wiki/API:Tutorial), and further info about the [Query action](https://www.mediawiki.org/wiki/API:Query)) and learn how to extract the markup. The API query that returns the markup of the Batman page is:\n",
    ">\n",
    ">`https://www.wikipedia.org/w/api.php?format=json&action=query&titles=Batman&prop=revisions&rvprop=content`\n",
    ">\n",
    ">1. Explain the structure of this query. What are the parameters and arguments and what do they mean? What happens if you remove `rvprop=content`?\n",
    "2. Download the Batman page using the API and save it in a new variable. Extract the markup from the `dict` object and save it to a file called \"batman.txt\". We usually get hung up on this in class, so the first student to successfully extract the markup can share their solution with me so I can validate it and then share it with the class; s/he  gets **one extra credit point**!\n",
    ">\n",
    "> *Hint: 2. Use `print_dict_tree` to understand the hierarchy of keys and values in the data you get from the API. To extract the markup, you need to first key into 'query' then 'pages', and so on.*"
   ]
  },
  {
   "cell_type": "markdown",
   "metadata": {},
   "source": [
    "3.0.3.1: The end point for the GET request can be broken down as follows: <br>\n",
    "  >  `https://www.wikipedia.org/w/api.php` is the English Wikipedia API <br>\n",
    "  >  `format=json` means that we want the response to be JSON <br>\n",
    "  >  `action=query` signifies that we want to fetch data from a wiki <br>\n",
    "  >  `prop=revision` signifies that we want to see all of the revisions made on a page <br>\n",
    "  >  `titles=Batman` we want data on Batman's wikipedia page\n",
    "  >  `rvprop=content` we want to see the content of each revision (ie, what was changed)"
   ]
  },
  {
   "cell_type": "code",
   "execution_count": 2,
   "metadata": {},
   "outputs": [],
   "source": [
    "# 3.0.3.2\n",
    "import requests as rq\n",
    "import json\n",
    "bman = rq.get(\"https://en.wikipedia.org/w/api.php?format=json&action=query&titles=Batman&prop=revisions&rvprop=content\").json()\n",
    "bman_str = json.dumps(bman, indent=4)\n",
    "f = open('exercises_week3_output.txt', 'w')\n",
    "f.write(bman_str)\n",
    "f.close()"
   ]
  },
  {
   "cell_type": "markdown",
   "metadata": {},
   "source": [
    "### Part 1: Get data (main part)"
   ]
  },
  {
   "cell_type": "markdown",
   "metadata": {},
   "source": [
    "For a good part of this course we will be working with data from Wikipedia. Today, your objective is to crawl a large dataset with good and bad characters from the Marvel universe."
   ]
  },
  {
   "cell_type": "markdown",
   "metadata": {
    "ExecuteTime": {
     "end_time": "2017-08-23T14:01:10.834257Z",
     "start_time": "2017-08-23T14:01:10.826472Z"
    }
   },
   "source": [
    ">**Ex. 3.1.1**: From the Wikipedia API, get a list of all Marvel superheroes and another list of all Marvel supervillains. Use the `get_categorymembers` function below to get the characters in each category: 'Category:Marvel_Comics_supervillains' and 'Category:Marvel_Comics_superheroes'. Make sure you spend some time understanding the code.  How is the query formed?  Why does it take that form?  It will help to look at the [Categorymembers API](https://www.mediawiki.org/wiki/API:Categorymembers).  Moreoever, understand the need for the while loop and role played by the `cmcontinue` variable and query argument.\n",
    "\n",
    ">After you've obtained the lists for superheroes and supervillains, write some code to answer:\n",
    "1. How many characters are *ambiguous*, i.e. are both heroes and villains? What is the [Jaccard similarity](https://en.wikipedia.org/wiki/Jaccard_index) between the two groups?\n",
    "2. How many superheroes are there? How many supervillains? Do not include ambiguous characters in these counts!\n",
    ">\n",
    ">*Hint: Google something like \"get list all pages in category wikimedia api\" if you're struggling with the query. Also, you may notice that not only Marvel character pages are returned, but also names of subcategories. For now just ignore this and treat them as if they are also characters.*"
   ]
  },
  {
   "cell_type": "code",
   "execution_count": 3,
   "metadata": {},
   "outputs": [],
   "source": [
    "# Use this function that gets the categorymembers of a category\n",
    "def get_categorymembers(category):\n",
    "    members = []\n",
    "    cmcontinue = \"\"\n",
    "    while True:\n",
    "\n",
    "        # Download data\n",
    "        data = rq.get('https://en.wikipedia.org/w/api.php?format=json&action=query&list=categorymembers&cmtitle=%s&cmlimit=max&cmcontinue=%s' % (category, cmcontinue)).json()    \n",
    "        #print(data)\n",
    "        \n",
    "        # Add member titles\n",
    "        members.extend(\n",
    "            [m['title'] for m in data['query']['categorymembers']]\n",
    "        )\n",
    "\n",
    "        # If there is a 'continue' key in `data` then fetch the next 'cmcontinue' value\n",
    "        if 'continue' in data:\n",
    "            cmcontinue = data['continue']['cmcontinue']\n",
    "\n",
    "        # Otherwise break\n",
    "        else:\n",
    "            break\n",
    "            \n",
    "    return members"
   ]
  },
  {
   "cell_type": "code",
   "execution_count": 42,
   "metadata": {},
   "outputs": [
    {
     "name": "stdout",
     "output_type": "stream",
     "text": [
      "There are 112 ambiguous characters, and the heroes and villains have a Jaccard Index of 0.093724\n",
      "there are 443 'true' heroes and 640 'true' villains\n"
     ]
    }
   ],
   "source": [
    "import requests as rq\n",
    "import json\n",
    "villains = set(get_categorymembers('Category:Marvel_Comics_supervillains'))\n",
    "heroes = set(get_categorymembers('Category:Marvel_Comics_superheroes'))\n",
    "# print the ambiguous characters:\n",
    "ambiguous_characters = villains & heroes\n",
    "jaccard = len(ambiguous_characters) / len(heroes | villains)\n",
    "print('There are %i ambiguous characters, and the heroes and villains have a Jaccard Index of %f' % (len(ambiguous_characters), jaccard))\n",
    "true_heroes = heroes - villains\n",
    "true_villains = villains - heroes\n",
    "print('there are %i \\'true\\' heroes and %i \\'true\\' villains' % (len(true_heroes), len(true_villains)))"
   ]
  },
  {
   "cell_type": "code",
   "execution_count": 44,
   "metadata": {},
   "outputs": [
    {
     "name": "stdout",
     "output_type": "stream",
     "text": [
      "{'Doctor Nemesis', 'Malcolm Colcord', 'Gladiator (Melvin Potter)', 'Harpoon (comics)', 'Jackhammer (comics)', 'Sabretooth (character)', 'Terrax the Truly Enlightened', 'Grog (Marvel Comics)', 'Black Talon (Samuel Barone)', 'Genesis (Marvel Comics)', 'Hammerhead (comics)', 'Blackwing (character)', 'Black Knight (Marvel Comics)', \"Matsu'o Tsurayaba\", \"Midnight's Fire\", \"Jack O'Lantern (Marvel Comics)\", 'Kaine Parker', 'Pyro (Marvel Comics)', 'Gorr the God Butcher', 'Mad Thinker', 'Controller (Marvel Comics)', 'Red Skull (Albert Malik)', 'Comanche (comics)', 'Trevor Fitzroy', 'Squid (Marvel Comics)', 'Hate-Monger', 'Master Man (Marvel Comics)', 'Scarlet Scarab', 'Metal Master (comics)', 'Category:Marvel Comics supervillain teams', 'Piledriver (character)', 'Absorbing Man', 'Prism (character)', 'Hydro-Man', 'Mojo (comics)', 'Paibok', 'Whirlwind (comics)', 'Xarus', 'Alexander Bont', 'Tempus (comics)', 'Brent Jackson', 'Vindaloo (comics)', 'Diamondhead (comics)', 'Teen Abomination', 'Baron Brimstone', 'Frederick Foswell', 'Champion of the Universe', 'Elias Bogan', 'Doom 2099', 'Leo (comics)', 'Ikthalon', 'Masked Marauder', 'Emma Frost', 'Llyra', 'Korvac', 'Nathaniel Richards (Marvel Comics)', 'Ragnarok (comics)', 'Kristoff Vernard', 'Wild Child (character)', 'Holocaust (Marvel Comics)', 'Gentleman (character)', 'Francis Fanny', 'Quantum (comics)', 'Chrome (comics)', 'Bushman (character)', 'Reptyl', 'Chemistro', 'Warwolves', 'Synapse (comics)', 'Sapphire Styx', 'Blackheart', 'Karla Sofen', 'Eyekillers (comics)', 'Matthew Risman', 'Cadena (comics)', 'U-Man', 'Rancor (comics)', 'List of Captain America enemies', 'Serpent (character)', 'Zeke Stane', 'Minotaur (comics)', 'Werner von Strucker', 'Impala (Marvel Comics)', 'Modred the Mystic', 'Ghost (Marvel Comics)', 'Midnight Sun (Marvel Comics)', 'Farley Stillwell', 'Sentry (Curtis Elkins)', 'Skaar (character)', 'Spider-X', 'Rusty Collins', 'Rocket Racer', 'Quicksilver (Marvel Comics)', 'Blood Brothers (comics)', 'Doppelganger (Marvel Comics)', 'Romulus (comics)', 'Monsteroso', 'Rock Python', 'Psyklop', 'Doctor Faustus (comics)', 'Midas (comics)', 'Tracer (Marvel Comics)', 'Devastator (comics)', 'Apocalypse (character)', 'Mandrill (comics)', 'Swarm (Marvel Comics)', 'Thanoseid', 'Electro (Marvel Comics)', 'Unicorn (Marvel Comics)', 'Hala the Accuser', 'Master Menace', 'Randall Darby', 'Yidrazil (comics)', 'Blackbird (Femizon)', 'Dragon Man (character)', 'X-Ray (comics)', 'Gamesmaster (comics)', 'Blizzard (Marvel Comics)', 'Victor Timely', 'Maximus (comics)', 'Wendigo (comics)', 'Zodiak (comics)', 'Spear (comics)', 'Nicholas Scratch', 'Gauntlet (Inhuman)', 'Lizard (character)', 'Shinobi Shaw', 'Ginniyeh', 'Maestro (character)', 'Sunstreak', 'Neophyte (comics)', 'Executioner (character)', 'Hurricane (comics)', 'Black Spectre', 'Overmind (comics)', 'Category:Marvel Comics extraterrestrial supervillains', 'Eddie Brock', 'Nightmare (Marvel Comics)', 'Anne-Marie Cortez', 'Bloodstrike (Marvel Comics)', 'Barney Barton', 'Brain Drain (character)', 'Glowworm (comics)', 'Vermin (character)', 'Living Laser', 'Virgo (character)', 'Powderkeg (character)', 'Ben Reilly', 'Selby (comics)', 'Mister Hyde (Marvel Comics)', 'Hippo (comics)', 'Viper (Marvel Comics)', 'Switch (comics)', 'Demon Bear', 'Doctor Doom', 'Diamanda Nero', 'Princess Python', 'Arnim Zola', 'Hazmat (Marvel Nemesis: Rise of the Imperfects)', 'Sidewinder (character)', 'In-Betweener', 'Mind-Wave', 'Professor Power', 'Super Sabre (comics)', 'Master Khan', 'Cheshire Cat (comics)', 'Pip the Troll', 'Proctor (comics)', 'Psynapse', 'Harold Meachum', 'Baron Von Blitzschlag', 'Mania (character)', 'Mister Sinister', 'Animus (Marvel Comics)', 'Bullet Biker (comics)', 'Tricephalous (comics)', 'Cletus Kasady', 'Stonewall (comics)', 'Man-Bull', 'Rhapsody (comics)', 'Killer Shrike', 'Strongman (comics)', 'Jetstream (comics)', 'Death-Shield', 'Wizard (Marvel Comics)', 'Charon (Marvel Comics)', 'Tarantula (Marvel Comics)', 'Gideon Mace', 'Tiger Shark (Marvel Comics)', 'Burstaar (comics)', 'Purple Man', 'Benedict Kine', 'Shocker (character)', 'Psycho-Man', 'Titanium Man', 'Kenuichio Harada', 'Marduk Kurios', 'Man Mountain Marko', 'Piecemeal (Gilbert Benson)', 'Sagittarius (comics)', 'Batwing (Marvel Comics)', 'Midnight Man (comics)', 'Category:Lists of Marvel Comics supervillains', 'Bi-Beast', 'Blastaar', 'Enforcer (comics)', 'Adam II', 'Señor Muerte / Señor Suerte', 'Torpedo (Marvel Comics)', 'Erik Josten', 'Lash (comics)', 'Awesome Android', 'Doombot', 'Murderworld (comics)', 'Morbius, the Living Vampire', 'Xemu (comics)', 'Sunstroke (comics)', 'Equinox (comics)', 'Baron Macabre', 'Satannish', 'Taurus (Marvel Comics)', 'Headlok', 'Lunatik', 'Sunturion', 'Attuma', 'Massacre (Marvel Comics)', 'Marco Delgado (comics)', 'Hunger (Marvel Comics)', 'Karn (comics)', 'Gorgon (Tomi Shishido)', 'Alkhema', 'Onslaught (Marvel Comics)', 'Mac Gargan', 'Bloodaxe (character)', 'Black Lama', 'Mister Fear', 'Abraham Cornelius', 'Dredmund the Druid', 'Modular Man', 'Samuel Silke', 'Swordsman (character)', 'Damon Dran', 'Desak', 'Rogue (Marvel Comics)', 'Pluto (Marvel Comics)', 'Alex (comics)', 'Carrion (comics)', 'Grizzly (comics)', 'Man-Killer', 'Genis-Vell', 'Mad Dog (Marvel Comics)', 'Painter (comics)', 'Seth (Neo)', 'Blackout (Marcus Daniels)', 'Deathbird', 'Kingmaker (comics)', 'Prowler (Marvel Comics)', 'Trick Shot (character)', 'Scarlet Spider', 'Ever (comics)', 'Morning Star (comics)', 'Rattler (character)', 'Walking Stiletto', 'Zarrko', 'Reignfire', 'Man-Beast', 'Dagoth', 'Dreadnought (comics)', 'Peepers (Marvel Comics)', 'Morpheus (Marvel Comics)', 'Auntie Freeze', 'Firepower (comics)', 'Jason Macendale', 'Death Metal (comics)', 'Black Knight (Nathan Garrett)', 'Random (comics)', 'Ares (Marvel Comics)', 'Predator X (character)', 'Hyperstorm', 'Venomm', 'Category:Marvel Comics LGBT supervillains', 'Tombstone (character)', 'Everyman (Marvel Comics)', 'Bobcat (comics)', 'Baphomet (comics)', 'Serafina (Marvel)', 'Blue Streak (comics)', 'Tinkerer (Marvel Comics)', 'War (Marvel Comics)', 'Missing Link (comics)', 'Oddball (character)', 'Trapster', 'Kangaroo (comics)', 'Ego the Living Planet', 'Doctor Druid', 'Goblin King', 'Magus (comics)', 'Ripjak', 'Glob (comics)', 'Rampage (Marvel Comics)', 'Timberius', \"Rl'nnd\", 'Copperhead (Marvel Comics)', 'Crime Master', 'Boomerang (character)', 'Cardiac (character)', 'Flying Tiger (Marvel Comics)', 'Madcap (comics)', 'Thunderball (character)', 'Ultimo (Marvel Comics)', 'Beyonder', 'Dormammu', 'Sarnak (comics)', 'Scientist Supreme', 'Hammer and Anvil (comics)', 'The Hood', 'Olivier (comics)', 'Sultan (comics)', 'Slaymaster', 'Ringmaster (comics)', 'Rose (Marvel Comics)', 'Jackal (Marvel Comics character)', 'Sin-Eater (character)', 'Mirage (Marvel Comics)', 'Aries (character)', 'Mahkizmo', 'Alex Wilder', 'Ammo (comics)', 'Shepard (comics)', 'Fuego (comics)', 'Radioactive Man (comics)', 'Riptide (Marvel Comics)', 'Mercurio the 4-D Man', 'Kingpin (Matt Murdock)', 'Crimson Dynamo', 'Allatou', 'Gargantua (comics)', 'Phalanx (comics)', 'Norman Osborn', 'Korath the Pursuer', 'Talos the Untamed', 'Noh-Varr', 'Super-Patriot (Marvel Comics)', 'Mandarin (character)', 'Hobgoblin (comics)', 'Mentallo', 'Foolkiller', 'Gremlin (comics)', 'Firebrand (Marvel Comics)', 'Green Goblin', 'Veil (comics)', 'Air-Walker', 'Foreigner (character)', 'Jerry Jaxon', 'List of incarnations of Spider-Man', 'Futurist (character)', 'Mister X (Marvel Comics)', 'Mr. Fish', 'Freak (Spider-Man villain)', 'Cyclone (Marvel Comics)', 'Terminus (comics)', 'Nomad (comics)', 'Zheng Zu', 'Lightmaster', 'Miracle Man', 'Spymaster (character)', 'Sleeper (Marvel Comics)', 'Mysterio', 'Slayback (comic book character)', 'Gibbon (character)', 'Griffin (Marvel Comics)', 'Impossible Man', 'Overdrive (character)', 'Morg', 'Wraith (Brian DeWolff)', 'Bela (comics)', 'Spyne', 'Big Man (comics)', 'Jillian (comics)', 'Machete (comics)', 'Profile (Marvel Comics)', 'Ape-X', 'Birdy (comics)', 'Magma (Jonathan Darque)', 'Spot (comics)', 'Cyber (Marvel Comics)', 'Phobius (comics)', 'Silver Dagger (comics)', 'Nebulon (comics)', 'Razor Fist', 'Iron Cross (Marvel Comics)', 'Puff Adder (character)', 'Gideon (comics)', 'Freakmaster', 'Gunthar of Rigel', 'Warrior Woman (Marvel Comics)', 'Adria (comics)', 'Sentry (Kree)', 'Centurious', 'Orb (comics)', 'Diamondback (Willis Stryker)', 'Rodstvow', \"J'son (character)\", 'Alistair Smythe', 'Typhon (comics)', 'Hellfire (J. T. Slade)', 'Thanatos (comics)', 'Specialist (comics)', 'Azazel (Marvel Comics)', 'Brain-Child', 'Cardinal (comics)', 'Kro (character)', 'Phil Urich', 'Ymir (Marvel Comics)', 'Darren Cross', 'Mysteria (comics)', 'Molecule Man', 'Thunderbolt Ross', 'Scarecrow (Marvel Comics)', 'Vulcan (Marvel Comics)', 'Bengal (character)', 'Lloyd Bloch', 'Stygyro', 'Naga (Marvel Comics)', 'Golem (comics)', 'Titannus', 'Digger (Marvel Comics)', 'Mangog', 'Mikhail Rasputin', 'Living Monolith', 'Rev (comics)', 'Shockwave (comics)', \"Will o' the Wisp (comics)\", 'Lady Gorgon', 'Eliminator (comics)', 'Vargas (comics)', 'Cottonmouth (Cornell Stokes)', 'Super-Skrull', 'Iron Monger', 'Human Cannonball (Marvel Comics)', 'Fenris (comics)', 'Hugh Jones (comics)', 'Geoffrey Wilder', 'Detroit Steel', 'Porcupine (Marvel Comics)', 'Kulan Gath', 'Sangre (comics)', 'Powerhouse (comics)', 'Green Goblin (Ultimate Marvel character)', 'Diablo (Marvel Comics)', 'Mendel Stromm', 'Red Raven (Marvel Comics)', 'Harry Osborn', 'Egghead (Marvel Comics)', 'Zzzax', 'Flag-Smasher', 'Technovore', 'Zarathos', 'Kearson DeWitt', 'Grey Gargoyle', 'Pisces (character)', 'Category:Marvel Comics demons', 'Varnae', 'Scalphunter (Marvel Comics)', 'Master Mold', 'Shotgun (comics)', 'Perro (comics)', 'Aleksander Lukin', 'Magician (Marvel Comics)', 'Mountjoy (comics)', 'Johnny Dee', 'Arsenal (Marvel Comics)', 'Ringer (comics)', 'Fixer (Marvel Comics)', 'Scorpio (Marvel Comics)', 'Piranha (comics)', 'Brute (Reed Richards)', 'Fagin (comics)', 'Chaka (comics)', 'Don Fortunato', 'Master Pandemonium', 'Henry Pym Jr.', 'Phoenix Force (comics)', 'Black Swan (comics)', 'Shuma-Gorath', 'Slyde', 'Shriek (character)', 'Harry Leland', 'Black Widow (Yelena Belova)', 'Slug (comics)', 'Redneck (comics)', 'Giganto', 'Rapido (comics)', 'Gemini (Marvel Comics)', 'Trash (comics)', 'Supergiant (comics)', 'Blackout (Lilin)', 'Black Talon (comics)', 'Gargoyle (comics)', 'Al-Tariq', 'Mordred (comics)', 'Gazer', 'Humus Sapien', 'Spider-Woman', 'Abner Jenkins', 'Deacon Frost', 'Humbug (character)', 'Turner D. Century', 'Fenris Wolf (Marvel Comics)', 'Maelstrom (comics)', 'Montana (character)', 'Ultron', 'Sabreclaw', 'Dire Wraith', 'Steeplejack (Marvel Comics)', 'Jonas Harrow', 'Quasimodo (comics)', 'Man-Elephant', 'Needle (comics)', 'Acrobat (comics)', 'Maker (Reed Richards)', 'Occulus', 'Blockbuster (Marauder)', 'Beetle (comics)', 'Grappler (comics)', 'Masque (comics)', 'Batroc the Leaper', 'Captain Atlas', 'Dracula (Marvel Comics)', 'Devos the Devastator', 'Achilles (Pantheon)', 'Guilt Hulk', 'Annihilus', 'Mole Man', 'Laufey (character)', 'Wong-Chu', 'Speedfreek', 'Owl (Marvel Comics)', 'Armless Tiger Man', 'Val Rhymin', 'List of Iron Man enemies', 'Stiletto (comics)', 'Terrax', 'Baron Blood', 'Krang (Marvel Comics)', 'Pestilence (comics)', 'Prester John (comics)', 'Ultimaton', 'Richard Fisk', 'Bloodscream', 'List of monsters in Marvel Comics', 'Living Brain', 'Hannibal King', 'Urthona (comics)', 'Speed Demon (character)', 'Triton (comics)', 'Bushmaster (Marvel Comics)', 'Red Hulk', 'Looter (comics)', 'Constrictor (character)', 'Silvermane', 'Force (comics)', 'Cold War (comics)', 'Spider-Bitch (Ashley Barton)', 'Professor Thorton', 'Goddess (comics)', 'Big Wheel (character)', 'Ajaxis', 'Typeface (comics)', 'Daimon Hellstrom', 'Fury (Marvel Comics)', 'Leonus', 'Gorgon (Inhuman)', 'Shingen Yashida', 'Captain Omen', 'Rhino (character)', 'Master of the World (comics)', 'Category:Marvel Comics male supervillains', 'Bulldozer (character)', 'Leader (character)', 'Ogre (Marvel Comics)', 'Crossbones (character)', 'Category:Marvel Comics Nazis', 'Boost (comics)', 'Vavavoom', 'Nicodemus West', 'Iron Spider', 'Challenger (character)', 'David North (character)', 'Static (Marvel Comics)', 'Growing Man', 'Hiro-Kala', 'Brothers Grimm (comics)', 'Venom (character)', 'Francine Frye', 'Kestrel (Marvel Comics)', 'Xorn', 'Ultimus (comics)', 'Scrambler (comics)', 'Mindless Ones', 'Kaluu', 'Ghaur', 'Kraven the Hunter', 'Eel (comics)', 'Cobra (Marvel Comics)', 'Scimitar (comics)', 'Damage (Marvel Comics)', 'Brother Nature (comics)', 'Orka (comics)', 'Vector (comics)', 'Dragon Lord (comics)', 'Guardsman (character)', 'Kaecilius', 'Janice Lincoln', 'Melter', 'Sphinx (Marvel Comics)', 'Ulik', 'Molten Man', 'Yon-Rogg', 'Miek', 'Torso (Marvel Comics)', 'The Immortal Hulk', 'Fabian Cortez', 'Puppet Master (Marvel Comics)', 'Wither (comics)', 'Death Adder (character)', 'Ebon Seeker', 'Baron Mordo', 'Nuke (Marvel Comics)', 'Russian (comics)', 'Zhou Cheng', 'Ebony Maw', 'List of Thor (Marvel Comics) enemies', 'Doctor Spectrum', 'Zarek (comics)', 'Sin (Marvel Comics)', 'Dittomaster', 'Category:Marvel Comics female supervillains', 'Orphan-Maker', 'Arkon', 'Cottonmouth (Burchell Clemens)', 'She-Venom (Ann Weying)', 'Jink Slater', 'Thanos', 'Lucifer (Marvel Comics)', 'Milan (comics)', 'Selene (comics)', 'Whiplash (Marvel Comics)', 'William Burnside (character)', 'Spencer Smythe', 'Stallior', 'Mephisto (Marvel Comics)', 'Fabian Stankowicz', 'Immortus', 'Empath (character)', 'Bullseye (character)', 'Poundcakes (Marvel Comics)', 'Dreadknight', 'Sentinel (comics)', 'Avalanche (character)', 'Xenophage (comics)', 'Heinrich Zemo', 'Ox (comics)', 'Mauler (comics)', 'Brute (Morlocks)', 'Mike Asher', 'Mister Jip', 'Institute of Evil', 'List of Marvel Comics characters: B', 'Charcoal (comics)', 'Necrom', 'Crippler (character)', 'Vampiro (comics)', 'Hive (character)', 'Scourge of the Underworld', 'Jamie Braddock', 'Yellowjacket (Marvel Comics)', 'Nth Man', 'Xorr the God-Jewel', 'Human Fly (character)', 'Jacob Shaw (comics)', 'Vertigo (Marvel Comics)', 'Scramble (comics)', 'Forearm (comics)', 'Magneta', 'Isbisa', 'Midgard Serpent (Marvel Comics)', 'Ogun (comics)', 'Absalom (comics)', 'Plunderer (comics)', 'Yellow Claw (character)', 'T-Ray (comics)', 'Bryson Bale', 'Bonebreaker', 'Demogoblin', 'Ironclad (comics)', 'Roderick Kingsley', 'John Ryker', 'Headsman (comics)', 'Black Mariah (comics)', 'White Dragon (comics)', 'Redstone (comics)', 'Basilisk (comics)', 'Nitro (comics)', 'Rax (comics)', 'Condor (comics)', 'Libra (Marvel Comics)', 'Titus (comics)', 'Aguja (Marvel Comics)', 'Morlun', 'Black Dwarf (comics)', 'Chondu the Mystic', 'Walrus (Marvel Comics)', 'Power Broker (character)', 'Super-Adaptoid', 'Fin Fang Foom', 'Jester (Marvel Comics)', 'Galactus', 'Wrecker (comics)', 'Steel Serpent', 'Obnoxio the Clown', 'Dweller-in-Darkness', 'Iron Man 2020', 'Danger Room', 'Baron Strucker', 'Mister Negative', 'Glenn Talbot', 'Crusader (Marvel Comics)', 'Ronan the Accuser', 'Garokk', 'Hypno-Hustler', 'Svyatogor (comics)', 'Visimajoris', 'Shadow Knight (character)', \"Y'Garon\", 'Doomsday Man', 'Supernova (Marvel Comics)', 'Nightwatch (comics)', 'Gregory Herd', 'Nighthawk (Marvel Comics)', 'Cockroach Hamilton', 'Mongoose (comics)', 'Bloodshed (character)', 'Quentin Quire', 'Bulldozer (Marvel Comics)', 'Northstar (character)', 'Bushwacker (comics)', 'Lemuel Dorcas', 'Roughouse', 'Kang the Conqueror', 'Unus the Untouchable', 'Michael Pointer (character)'}\n"
     ]
    }
   ],
   "source": [
    "print(villains)"
   ]
  },
  {
   "cell_type": "markdown",
   "metadata": {
    "ExecuteTime": {
     "end_time": "2017-08-23T14:01:10.834257Z",
     "start_time": "2017-08-23T14:01:10.826472Z"
    }
   },
   "source": [
    ">**Ex. 3.1.2**: Using these three lists you now want to download all data you can about each character and store it on your harddrive.\n",
    "* Create three folders in your working directory, one for *heroes*, one for *villains*, and one for *ambiguous*.\n",
    "* For each character, download the markup on their pages (just like you did for Batman in 3.0.3) and save in a new file in the corresponding hero/villain/ambiguous folder.  Use the character's name as the filename.\n",
    "* **Importantly** do not put ambiguous characters into the hero or villains folder!\n",
    ">\n",
    ">*Hint: Some of the characters have funky names. The first problem you may encounter is with encoding. To solve that you can call `.encode('utf-8')` on your markup string. Another problem you may encounter is that some characters have a slash in their names. You should just replace the slash with some other meaningful character.*\n",
    ">Once your code will start running, it will take some time to download the data and create the files (30-40 minutes on my computer).  You might wish you had a measure of progress while the code is running, something like a progress bar.  Look no further than `tqdm`.  Here's an [example](https://www.geeksforgeeks.org/python-how-to-make-a-terminal-progress-bar-using-tqdm/) how to download and use it."
   ]
  },
  {
   "cell_type": "code",
   "execution_count": 5,
   "metadata": {},
   "outputs": [],
   "source": [
    "def clean_name(name):\n",
    "    cleaned_character_name = name.replace('/', '-').replace('\\\\','-').replace('\\'', '`')\n",
    "    return str(cleaned_character_name.encode('utf-8')).replace('\\\\', '')[2:-1]"
   ]
  },
  {
   "cell_type": "code",
   "execution_count": 41,
   "metadata": {},
   "outputs": [
    {
     "name": "stderr",
     "output_type": "stream",
     "text": [
      "heroes: 100%|██████████| 1/1 [00:00<00:00,  4.20it/s]\n"
     ]
    },
    {
     "name": "stdout",
     "output_type": "stream",
     "text": [
      "no data for heroes named Mark Hazzard\n"
     ]
    },
    {
     "name": "stderr",
     "output_type": "stream",
     "text": [
      "heroes:   0%|          | 0/443 [00:00<?, ?it/s]\n"
     ]
    },
    {
     "ename": "NameError",
     "evalue": "name 'character' is not defined",
     "output_type": "error",
     "traceback": [
      "\u001b[1;31m---------------------------------------------------------------------------\u001b[0m",
      "\u001b[1;31mNameError\u001b[0m                                 Traceback (most recent call last)",
      "\u001b[1;32m~\\AppData\\Local\\Temp\\ipykernel_3656\\4286885383.py\u001b[0m in \u001b[0;36m<module>\u001b[1;34m\u001b[0m\n\u001b[0;32m     16\u001b[0m         \u001b[0mnewline_delimited_markup\u001b[0m \u001b[1;33m=\u001b[0m \u001b[0mmarkup\u001b[0m\u001b[1;33m[\u001b[0m\u001b[1;36m1\u001b[0m\u001b[1;33m:\u001b[0m\u001b[1;33m-\u001b[0m\u001b[1;36m1\u001b[0m\u001b[1;33m]\u001b[0m\u001b[1;33m.\u001b[0m\u001b[0mreplace\u001b[0m\u001b[1;33m(\u001b[0m\u001b[1;34m'\\\\n'\u001b[0m\u001b[1;33m,\u001b[0m \u001b[1;34m'\\n'\u001b[0m\u001b[1;33m)\u001b[0m\u001b[1;33m\u001b[0m\u001b[1;33m\u001b[0m\u001b[0m\n\u001b[0;32m     17\u001b[0m         \u001b[1;31m# dont write blank files\u001b[0m\u001b[1;33m\u001b[0m\u001b[1;33m\u001b[0m\u001b[0m\n\u001b[1;32m---> 18\u001b[1;33m         \u001b[1;32mif\u001b[0m \u001b[0mcharacter\u001b[0m \u001b[1;33m==\u001b[0m \u001b[1;34m'Mark Hazzard'\u001b[0m\u001b[1;33m:\u001b[0m\u001b[1;33m\u001b[0m\u001b[1;33m\u001b[0m\u001b[0m\n\u001b[0m\u001b[0;32m     19\u001b[0m             \u001b[0mprint\u001b[0m\u001b[1;33m(\u001b[0m\u001b[1;34mf\"this is mark hazzard: {newline_delimited_markup}\"\u001b[0m\u001b[1;33m)\u001b[0m\u001b[1;33m\u001b[0m\u001b[1;33m\u001b[0m\u001b[0m\n\u001b[0;32m     20\u001b[0m             \u001b[1;32mraise\u001b[0m \u001b[1;34m\"stop here\"\u001b[0m\u001b[1;33m\u001b[0m\u001b[1;33m\u001b[0m\u001b[0m\n",
      "\u001b[1;31mNameError\u001b[0m: name 'character' is not defined"
     ]
    }
   ],
   "source": [
    "from tqdm import tqdm\n",
    "import re\n",
    "for faction, character_names in (('villains', true_villains), ('heroes', true_heroes), ('ambiguous', ambiguous_characters)):\n",
    "    for character_name in tqdm(character_names, desc=faction, total=len(character_names)):\n",
    "        #print(character_name)\n",
    "        cleaned_character_name = clean_name(character_name)\n",
    "        page_json = rq.get(f'https://en.wikipedia.org/w/api.php?format=json&action=query&titles={character_name}&prop=revisions&rvprop=content').json()\n",
    "        page_str = json.dumps(page_json, indent=4)\n",
    "        page_ids = re.findall('\"pageid\": ([\\d]+)', page_str)\n",
    "        # if we couldn't find any page_ids, we assume that there is no markup to extract\n",
    "        if not page_ids:\n",
    "            print(f'no data for {faction} named {character_name}')\n",
    "            continue\n",
    "        f = open(f'../data/{faction}/{cleaned_character_name}.txt', 'w')\n",
    "        markup = json.dumps(page_json['query']['pages'][page_ids[0]]['revisions'][0]['*'], indent=4)\n",
    "        newline_delimited_markup = markup[1:-1].replace('\\\\n', '\\n')\n",
    "        # dont write blank files\n",
    "        if newline_delimited_markup:\n",
    "            f = open(f'../data/{faction}/{cleaned_character_name}.txt', 'w')\n",
    "            f.write(newline_delimited_markup)\n",
    "            f.close()\n",
    "\n",
    "        "
   ]
  },
  {
   "cell_type": "code",
   "execution_count": null,
   "metadata": {},
   "outputs": [],
   "source": [
    "import re\n",
    "my_str = \"\"\"\n",
    "\"query\": {\n",
    "        \"pages\": {\n",
    "            \"27739530\": {\n",
    "                \"pageid\": 27739530,\n",
    "                \"ns\": 0,\n",
    "                \"title\": \"Scarlet Witch\",\n",
    "                \"revisions\": [\n",
    "                    {\n",
    "                        ;lajfds\n",
    "                    },\n",
    "                    {}\n",
    "\"\"\"\n",
    "matches = re.search('\"pageid\": ([\\d]+)', my_str).group(1)\n",
    "print(matches)\n",
    "print(not [])"
   ]
  },
  {
   "cell_type": "markdown",
   "metadata": {},
   "source": [
    "### Part 2: Explore data"
   ]
  },
  {
   "cell_type": "markdown",
   "metadata": {},
   "source": [
    "#### Page lengths"
   ]
  },
  {
   "cell_type": "markdown",
   "metadata": {},
   "source": [
    ">**Ex. 3.2.1**: Extract the length of the page of each character (to do so you will have to open the corresponding file) and plot the distribution of this variable for each class (heroes/villains/ambiguous). Can you say anything about the popularity of characters in the Marvel universe based on your visualization?\n",
    ">\n",
    ">*Hint: The simplest thing is to make a probability mass function, i.e. a normalized histogram. [My figure](https://github.com/lucian979/CarletonBD/blob/main/plots/ex3.2.1.pdf) looks like this. Use `plt.hist` on a list of page lengths, with the argument `density=True`. Other distribution plots are fine too, though.*"
   ]
  },
  {
   "cell_type": "markdown",
   "metadata": {},
   "source": [
    ">**Ex. 3.2.2**: Find the 10 characters from each class with the longest Wikipedia pages. Visualize their page lengths with bar charts. Comment on the result."
   ]
  },
  {
   "cell_type": "code",
   "execution_count": null,
   "metadata": {},
   "outputs": [],
   "source": [
    "from matplotlib import pyplot as plt\n",
    "import json\n",
    "f, axes = plt.subplots(3, 1, sharex=True)\n",
    "f.tight_layout(pad=3.0)\n",
    "from tqdm import tqdm\n",
    "axis = 0\n",
    "for cat_name, character_names in (('villains', true_villains), ('heroes', true_heroes), ('ambiguous', ambiguous_characters)):\n",
    "    lens = []\n",
    "    for character_name in tqdm(character_names, desc=cat_name, total=len(character_names)):\n",
    "        cleaned_character_name = clean_name(character_name)\n",
    "        f = open(f'marvel_characters/{cat_name}/{cleaned_character_name}.txt', 'r')\n",
    "        wiki_text = json.loads(f.read())\n",
    "        try:\n",
    "            page_num = list(wiki_text['query']['pages'].keys())[0]\n",
    "            text = wiki_text['query']['pages'][page_num]['revisions'][0]['*']\n",
    "            lens.append(len(text))\n",
    "        except:\n",
    "           # lens.append(0)\n",
    "        f.close()\n",
    "    axes[axis].hist(lens, 50, density=True)\n",
    "    axes[axis].set(title=cat_name, xlabel='Length', ylabel='Occurences')\n",
    "    axis += 1"
   ]
  },
  {
   "cell_type": "markdown",
   "metadata": {},
   "source": [
    "#### Alliances"
   ]
  },
  {
   "cell_type": "markdown",
   "metadata": {},
   "source": [
    ">**Ex. 3.2.3**: In this exercise you want to find out the biggest alliances in the Marvel universe and their members. The data that will help you in doing this is in the *alliances*-field of the markup of each character -- open up a couple of character files and look for that field; get a sense for how the information is stored so that you can then write code to retreave it. Below I suggest steps you can take to solve the problem if you get stuck.\n",
    "* Use the regular expression `alliances[\\w\\W]+?\\n` to extract the *alliances*-field of a character's markup.\n",
    "* Use the regular expression `\\[\\[.+?[\\]\\|]` to extract links (i.e. each team) from the *alliance*-field.\n",
    "* You want to store alliance names and the corresponding members (hint: use a `defaultdict`).\n",
    "* Inspect your team names. Are there any that result from inconsistencies in the information on the pages? How do you deal with this?\n",
    "* **Print the 10 largest alliances and their number of members.**"
   ]
  },
  {
   "cell_type": "code",
   "execution_count": null,
   "metadata": {},
   "outputs": [],
   "source": [
    "#example of using regex\n",
    "import re\n",
    "\n",
    "for title in titles:\n",
    "        \n",
    "    # Need to replace / with - before loading file\n",
    "    title = title.replace(\"/\", \"-\")\n",
    "        \n",
    "    # Load character markup\n",
    "    with open(f\"../data/{folder}/{title}.txt\") as fp:\n",
    "        markup = fp.read()\n",
    "    \n",
    "    # Get alliance field\n",
    "    alliances_field = re.findall(r\"alliances[\\w\\W]+?\\n\", markup)\n",
    "    #..."
   ]
  },
  {
   "cell_type": "markdown",
   "metadata": {},
   "source": [
    "#### Timeline"
   ]
  },
  {
   "cell_type": "markdown",
   "metadata": {},
   "source": [
    ">**Ex. 3.2.4 EXTRA**: We are interested in knowing if there is a time-trend in the debut of characters.\n",
    "* Extract into three lists, debut years of heroes, villains, and ambiguous characters.\n",
    "* Do all pages have a debut year? Do some have multiple? How do you handle these inconsistencies?\n",
    "1. For heroes, villains and ambiguous character seperately, visualize the amount of characters introduced over time. You choose how you want to visualize this data, but please comment on your choice.\n",
    "2. Make a plot that shows what fraction of introduced characters each year are heros. Taken together, **comment on your visualizations** and what they say about the system you're analyzing.\n",
    ">\n",
    ">*Hint: The debut year is given on the debut row in the info table of a character's Wiki-page. There are many ways that you can extract this variable. You should try to have a go at it yourself, but if you are short on time, you can use this horribly ugly regular expression code:*<br><br>\n",
    "*`re.findall(r\"\\d{4}\\)\", re.findall(r\"debut.+?\\n\", markup_text)[0])[0][:-1]`*\n",
    ">\n",
    "> ***Will not be included in assignment. Worth up to 5 extra credit.***"
   ]
  },
  {
   "cell_type": "code",
   "execution_count": null,
   "metadata": {},
   "outputs": [],
   "source": []
  }
 ],
 "metadata": {
  "kernelspec": {
   "display_name": "Python 3 (ipykernel)",
   "language": "python",
   "name": "python3"
  },
  "language_info": {
   "codemirror_mode": {
    "name": "ipython",
    "version": 3
   },
   "file_extension": ".py",
   "mimetype": "text/x-python",
   "name": "python",
   "nbconvert_exporter": "python",
   "pygments_lexer": "ipython3",
   "version": "3.9.13"
  },
  "nav_menu": {},
  "toc": {
   "base_numbering": 1,
   "nav_menu": {},
   "number_sections": false,
   "sideBar": true,
   "skip_h1_title": false,
   "title_cell": "Table of Contents",
   "title_sidebar": "Contents",
   "toc_cell": false,
   "toc_position": {},
   "toc_section_display": "block",
   "toc_window_display": true
  },
  "varInspector": {
   "cols": {
    "lenName": 16,
    "lenType": 16,
    "lenVar": 40
   },
   "kernels_config": {
    "python": {
     "delete_cmd_postfix": "",
     "delete_cmd_prefix": "del ",
     "library": "var_list.py",
     "varRefreshCmd": "print(var_dic_list())"
    },
    "r": {
     "delete_cmd_postfix": ") ",
     "delete_cmd_prefix": "rm(",
     "library": "var_list.r",
     "varRefreshCmd": "cat(var_dic_list()) "
    }
   },
   "types_to_exclude": [
    "module",
    "function",
    "builtin_function_or_method",
    "instance",
    "_Feature"
   ],
   "window_display": false
  }
 },
 "nbformat": 4,
 "nbformat_minor": 2
}
