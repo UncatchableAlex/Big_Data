{
 "cells": [
  {
   "cell_type": "markdown",
   "metadata": {},
   "source": [
    "# Week 2: A Data Scientist's most fundamental tools"
   ]
  },
  {
   "cell_type": "markdown",
   "metadata": {
    "ExecuteTime": {
     "end_time": "2017-08-23T15:30:03.634114Z",
     "start_time": "2017-08-23T15:30:03.629294Z"
    }
   },
   "source": [
    "Today's exercises will be related to chapters 3, 4, 5 from DSFS. The point of these exercises is to refresh your memory on some mathematics and get you comfortable doing computations in code.\n",
    "\n",
    "The exercises today cover:\n",
    "* Basic visualization\n",
    "* Linear algebra\n",
    "* Statistics\n",
    "\n",
    "**Advice**: Some of you may be new to solving problems using code. You may be wondering *what level of detail* I expect in your solutions, your code comments and explanations. **This is the guideline:** Solve the exercises in a manner that allows you to—later in life—use them as examples. This also means that you should add code comments when the code isn't self-explanatory or if you're afraid it won't make sense when you look at it with fresh eyes. You may also want to comment on your output in plain text to capture the conclusions you arrive at throughout your analysis. But express yourself succinctly. To quote (probably) Einstein: *\"Make everything as simple as possible, but not simpler\"*. Finally, when you optimize for your own future comprehension, other people will be able to understand what you did."
   ]
  },
  {
   "cell_type": "markdown",
   "metadata": {},
   "source": [
    "## Exercises"
   ]
  },
  {
   "cell_type": "markdown",
   "metadata": {},
   "source": [
    "### Part 1: Visualization (DSFS Chapter 3)"
   ]
  },
  {
   "cell_type": "markdown",
   "metadata": {},
   "source": [
    "Consult the [pyplot](https://matplotlib.org/stable/tutorials/introductory/pyplot.html) tutorial as needed."
   ]
  },
  {
   "cell_type": "markdown",
   "metadata": {},
   "source": [
    ">**Ex. 2.1.1 SOLVED**: The figure below meets the minumum style requirements which I expect the figures you make in this class (and life in general) should also meet:\n",
    "* Figure sizing. Try to make the aspect ratio close to 4:3.\n",
    "* Axis labels. Note that you may want to alter the `fontsize` to make them look nice.\n",
    "* Properly sized x and y tick labels.\n",
    "* Title (optional: not always necessary, but oftens helps the reader)\n",
    "* Legend (general rule: only use if you have multiple trends so reader can distinguish).\n",
    ">\n",
    "> Your task in this exercise is to plot 10 points that roughly fall on a sinusoid.\n",
    ">\n",
    ">*Hint: To get figures to display inside the notebook, use the Jupyter magic `%matplotlib inline`. For pointers on how to make plots like this in Python, check out the textbook or Google something like \"scatter plot python\" and see if you can find some examples of how other people do this.*"
   ]
  },
  {
   "cell_type": "markdown",
   "metadata": {},
   "source": [
    "Make sure you understand the code!"
   ]
  },
  {
   "cell_type": "code",
   "execution_count": 3,
   "metadata": {},
   "outputs": [
    {
     "data": {
      "image/png": "[encoded data removed]",
      "text/plain": [
       "<Figure size 640x480 with 1 Axes>"
      ]
     },
     "metadata": {},
     "output_type": "display_data"
    }
   ],
   "source": [
    "from matplotlib import pyplot as plt\n",
    "import numpy as np\n",
    "\n",
    "%matplotlib inline\n",
    "indep_var = range(10)\n",
    "dep_var = [0, 0.8, 0.9, 0.15, -0.75, -1, -0.25, 0.6, 1, 0.5]\n",
    "\n",
    "plt.scatter(indep_var, dep_var)\n",
    "plt.title(\"A title\")\n",
    "plt.xlabel(\"An independent variable\")\n",
    "plt.ylabel(\"A dependent variable\")\n",
    "plt.legend ([\"A legend\"], loc=3)\n",
    "plt.show()"
   ]
  },
  {
   "cell_type": "markdown",
   "metadata": {},
   "source": [
    ">**Ex. 2.1.2**: The `get_x_y` function below gives you the number of comments versus score for the latest `N` posts on a given `subreddit`. First, make sure you understand the code.  Then: \n",
    "1. Make a scatter plot of `x` vs. `y` for the \"blackmirror\" subreddit (**remember** what you learned in the previous exercise about **styling**). **Comment on what you see in the plot.**\n",
    "2. Maybe you've noticed that it looks pretty bad right, in the sense that lots of points are close to each other while a few are far away from the rest? That's because the data does *not scale linearly*! This is a very common thing. To visualize it you should then try to *transform* it somehow. In this case, the data scales *exponentially* in both the x and y direction. Which transformation should we use to make it look linear?\n",
    "3. In two separate figures, floating side by side, scatter plot (left) the set of x and y variables for \"blackmirror\" and (right) x and y for \"news\" (you can use [subplots](https://matplotlib.org/3.3.3/api/_as_gen/matplotlib.pyplot.subplots.html), for example, to plot two figures sideby side). Remember to transform the data. When I solved this exercise a while back, my figure looked like [this](https://canvas.disabroad.org/courses/7869/files/1211244?module_item_id=224615).\n",
    "4. Interpret and comment on any differences you see between the two plots. Why might number of comments versus post upvotes look different for a TV-show than for world news?\n",
    ">\n",
    ">*Hint: By \"transformation\" in point 2 and 3 above, I mean that you map some function onto every value in a list of values. Example: I can apply a square root transformation like `x = [np.sqrt(v) for v in x]`. A faster way to do that, of course, would be just `x = np.sqrt(x)`.*"
   ]
  },
  {
   "cell_type": "code",
   "execution_count": 4,
   "metadata": {
    "ExecuteTime": {
     "end_time": "2020-01-28T14:08:04.825646Z",
     "start_time": "2020-01-28T14:07:51.192395Z"
    }
   },
   "outputs": [
    {
     "name": "stdout",
     "output_type": "stream",
     "text": [
      "Retrieved 25 posts from page \n",
      "Retrieved 25 posts from page t3_10t3age\n",
      "Retrieved 25 posts from page t3_10lc6aj\n",
      "Retrieved 25 posts from page t3_10c8s14\n",
      "Retrieved 25 posts from page t3_zzpoqs\n",
      "Retrieved 25 posts from page t3_zuolid\n",
      "Retrieved 25 posts from page t3_zq3du7\n",
      "Retrieved 25 posts from page t3_zhrnr6\n",
      "Retrieved 25 posts from page t3_zcy5zp\n",
      "Retrieved 25 posts from page t3_z4ddal\n",
      "Retrieved 25 posts from page t3_yz1fbz\n",
      "Retrieved 25 posts from page t3_yoq4pd\n",
      "Retrieved 25 posts from page t3_ygf5c1\n",
      "Retrieved 25 posts from page t3_y98foi\n",
      "Retrieved 25 posts from page t3_y4yck0\n",
      "Retrieved 25 posts from page t3_xx6v1r\n",
      "Retrieved 25 posts from page t3_xpz4b0\n",
      "Retrieved 25 posts from page t3_xhukmn\n",
      "Retrieved 25 posts from page t3_x7musy\n",
      "Retrieved 25 posts from page t3_wymcgq\n"
     ]
    }
   ],
   "source": [
    "import requests as rq\n",
    "\n",
    "def get_x_y(subreddit, N, count=25):\n",
    "    \n",
    "    def _get_data(subreddit, count, after):\n",
    "        url = f\"https://www.reddit.com/r/{subreddit}/.json?count={count}&after={after}\"\n",
    "        data = rq.get(url, headers = {'User-agent': 'sneakybot'}).json()\n",
    "        print(f\"Retrieved {count} posts from page {after}\")\n",
    "        return data\n",
    "    \n",
    "    after = \"\"\n",
    "\n",
    "    x, y = [], []\n",
    "    for n in range(N//count):\n",
    "        data = _get_data(subreddit, count, after)\n",
    "        for d in data['data']['children']:\n",
    "            x.append(d['data']['num_comments'])\n",
    "            y.append(d['data']['score'])\n",
    "        after = data['data']['after']\n",
    "\n",
    "    return x, y\n",
    "                          \n",
    "x, y = get_x_y(\"blackmirror\", 500, count=25)"
   ]
  },
  {
   "cell_type": "code",
   "execution_count": 5,
   "metadata": {},
   "outputs": [
    {
     "data": {
      "image/png": "[encoded data removed]",
      "text/plain": [
       "<Figure size 640x480 with 1 Axes>"
      ]
     },
     "metadata": {},
     "output_type": "display_data"
    }
   ],
   "source": [
    "plt.scatter(x, y)\n",
    "plt.title(\"Posts on r/blackmirror\")\n",
    "plt.xlabel(\"Comments\")\n",
    "plt.ylabel(\"Score\")\n",
    "plt.show()"
   ]
  },
  {
   "cell_type": "markdown",
   "metadata": {},
   "source": [
    "I notice that the posts with the highest score tend to have fewer comments. Also, the posts with the most comments tend to have scores that are quite low. For the most part, however, posts are clustered around the origin and it is hard to discern any pattern. To make our plot easier to read, we should use a logarithmic scale on our axes (take the log of the x and y values for each point). Below is our graph remade with our axes scaled logarithmically."
   ]
  },
  {
   "cell_type": "code",
   "execution_count": 6,
   "metadata": {},
   "outputs": [
    {
     "data": {
      "image/png": "[encoded data removed]",
      "text/plain": [
       "<Figure size 640x480 with 1 Axes>"
      ]
     },
     "metadata": {},
     "output_type": "display_data"
    }
   ],
   "source": [
    "plt.scatter(x, y)\n",
    "plt.title(\"Posts on r/blackmirror\")\n",
    "plt.xlabel(\"Comments\")\n",
    "plt.ylabel(\"Score\")\n",
    "plt.yscale('log')\n",
    "plt.xscale('log')\n",
    "plt.show()"
   ]
  },
  {
   "cell_type": "code",
   "execution_count": 7,
   "metadata": {},
   "outputs": [
    {
     "name": "stdout",
     "output_type": "stream",
     "text": [
      "Retrieved 25 posts from page \n",
      "Retrieved 25 posts from page t3_111n0ss\n",
      "Retrieved 25 posts from page t3_110q5j9\n",
      "Retrieved 25 posts from page t3_110i9ow\n",
      "Retrieved 25 posts from page t3_10ziaqs\n",
      "Retrieved 25 posts from page t3_10z8omx\n",
      "Retrieved 25 posts from page t3_10ypx9t\n",
      "Retrieved 25 posts from page t3_10y1jsn\n",
      "Retrieved 25 posts from page t3_10xc3rz\n",
      "Retrieved 25 posts from page t3_10wilco\n",
      "Retrieved 25 posts from page t3_10w17r8\n",
      "Retrieved 25 posts from page None\n",
      "Retrieved 25 posts from page t3_111n0ss\n",
      "Retrieved 25 posts from page t3_110q5j9\n",
      "Retrieved 25 posts from page t3_110i9ow\n",
      "Retrieved 25 posts from page t3_10ziaqs\n",
      "Retrieved 25 posts from page t3_10z8omx\n",
      "Retrieved 25 posts from page t3_10ypx9t\n",
      "Retrieved 25 posts from page t3_10y1jsn\n",
      "Retrieved 25 posts from page t3_10xc3rz\n"
     ]
    }
   ],
   "source": [
    "# get r/news data\n",
    "x2, y2 = get_x_y(\"news\", 500, count=25)"
   ]
  },
  {
   "cell_type": "code",
   "execution_count": 8,
   "metadata": {},
   "outputs": [
    {
     "data": {
      "text/plain": [
       "[Text(0.5, 1.0, 'r/news'),\n",
       " Text(0.5, 0, 'comments'),\n",
       " Text(0, 0.5, 'score'),\n",
       " None,\n",
       " None]"
      ]
     },
     "execution_count": 8,
     "metadata": {},
     "output_type": "execute_result"
    },
    {
     "data": {
      "image/png": "[encoded data removed]",
      "text/plain": [
       "<Figure size 640x480 with 2 Axes>"
      ]
     },
     "metadata": {},
     "output_type": "display_data"
    }
   ],
   "source": [
    "f, (ax1, ax2) = plt.subplots(1, 2, sharey=True)\n",
    "ax1.scatter(x, y)\n",
    "ax2.scatter(x2, y2, color='orange')\n",
    "ax1.set(title='r/blackmirror', xlabel='comments', ylabel='score', yscale='log', xscale='log')\n",
    "ax2.set(title='r/news',xlabel='comments', ylabel='score', yscale='log', xscale='log')"
   ]
  },
  {
   "cell_type": "markdown",
   "metadata": {},
   "source": [
    ">**Ex. 2.1.3**: There is clearly a huge level unevenness in the distribution of likes and comments given to different posts. Let's visualize this using histograms!\n",
    "1. Log transform `y` (e.g. create a new variable called `y_transformed`) and input it to `plt.hist`. Notice that if there are zeros in `y`, `np.log` will convert them to `-inf`, which `plt.hist` can't handle. You should therefore remove zeros before log transforming. When you have done this, execute `hist_output = plt.hist(y_transformed)`. This should produce a histogram. But what does the variable `hist_output` contain?  Check out [hist](https://matplotlib.org/3.3.3/api/_as_gen/matplotlib.pyplot.hist.html).\n",
    "2. OPTIONAL. Use the contents of `hist_output` to make a similar histogram with the `plt.bar` plotting function. I make you do this to force into your permanent memory what a histogram is: a bar chart showing counts within intervals/bins. (Many students get stuck on this question.  If you spend more than 5 minutes on this, leave it for now and return to it later.)\n",
    "3. Plot the distributions of `y_transformed` for \"blackmirror\" and \"news\" as histograms, side by side (you can just use the regular `plt.hist` function here). My figure looked like [this](https://canvas.disabroad.org/courses/7869/files/1211243?module_item_id=224616). Interpret/comment on the result."
   ]
  },
  {
   "cell_type": "code",
   "execution_count": 9,
   "metadata": {},
   "outputs": [
    {
     "data": {
      "text/plain": [
       "[Text(0.5, 1.0, 'r/news'), Text(0.5, 0, 'comments'), Text(0, 0.5, 'log score')]"
      ]
     },
     "execution_count": 9,
     "metadata": {},
     "output_type": "execute_result"
    },
    {
     "data": {
      "image/png": "[encoded data removed]",
      "text/plain": [
       "<Figure size 640x480 with 2 Axes>"
      ]
     },
     "metadata": {},
     "output_type": "display_data"
    }
   ],
   "source": [
    "f, (ax1, ax2) = plt.subplots(1, 2, sharey=True)\n",
    "y_transformed1 = [np.log(pt) for pt in y if pt != 0]\n",
    "y_transformed2 = [np.log(pt) for pt in y2 if pt != 0]\n",
    "ax1.hist(y_transformed1)\n",
    "ax2.hist(y_transformed2, color='orange')\n",
    "ax1.set(title='r/blackmirror', xlabel='comments', ylabel='log score')\n",
    "ax2.set(title='r/news',xlabel='comments', ylabel='log score')\n"
   ]
  },
  {
   "cell_type": "markdown",
   "metadata": {},
   "source": [
    "### Part 2: Linear algebra (DSFS Chapter 4)"
   ]
  },
  {
   "cell_type": "markdown",
   "metadata": {},
   "source": [
    ">**Ex. 2.2.1**: What does Joel (book) mean when he uses the word *vector*? What are [Grant Sanderson](https://youtu.be/fNk_zzaMoSs)'s vector definitions from the perspectives of the Physicist, the Computer Scientist and the Mathematician, respectively?"
   ]
  },
  {
   "cell_type": "markdown",
   "metadata": {},
   "source": [
    "A vector is a group of numbers used to represent a direction and a magnitude. In computer science, vectors are often just lists or arrays of numbers. The words \"array\", \"list\", and \"vector\" are often used interchangeably."
   ]
  },
  {
   "cell_type": "markdown",
   "metadata": {},
   "source": [
    ">**Ex. 2.2.2**: Using `numpy`, compute:\n",
    "1. `2 * [2, 3]`,\n",
    "2. `[3, 8] + [6, 1]`,\n",
    "3. `[3, 8] * [6, 1]` and\n",
    "4. `[3, 8] · [6, 1]` (dot product)\n",
    "5. `[3, 8, 0] x [6, 1, 0]` (cross product)"
   ]
  },
  {
   "cell_type": "code",
   "execution_count": 10,
   "metadata": {},
   "outputs": [
    {
     "data": {
      "text/plain": [
       "array([4, 6])"
      ]
     },
     "execution_count": 10,
     "metadata": {},
     "output_type": "execute_result"
    }
   ],
   "source": [
    "np.array([2, 3]) * 2"
   ]
  },
  {
   "cell_type": "code",
   "execution_count": 11,
   "metadata": {},
   "outputs": [
    {
     "data": {
      "text/plain": [
       "array([9, 9])"
      ]
     },
     "execution_count": 11,
     "metadata": {},
     "output_type": "execute_result"
    }
   ],
   "source": [
    "np.array([3, 8]) + np.array([6, 1])"
   ]
  },
  {
   "cell_type": "code",
   "execution_count": 12,
   "metadata": {},
   "outputs": [
    {
     "data": {
      "text/plain": [
       "array([18,  8])"
      ]
     },
     "execution_count": 12,
     "metadata": {},
     "output_type": "execute_result"
    }
   ],
   "source": [
    "np.array([3, 8]) * np.array([6, 1])"
   ]
  },
  {
   "cell_type": "code",
   "execution_count": 13,
   "metadata": {},
   "outputs": [
    {
     "data": {
      "text/plain": [
       "26"
      ]
     },
     "execution_count": 13,
     "metadata": {},
     "output_type": "execute_result"
    }
   ],
   "source": [
    "np.array([3, 8]).dot(np.array([6, 1]))"
   ]
  },
  {
   "cell_type": "code",
   "execution_count": 14,
   "metadata": {},
   "outputs": [
    {
     "data": {
      "text/plain": [
       "array([  0,   0, -45])"
      ]
     },
     "execution_count": 14,
     "metadata": {},
     "output_type": "execute_result"
    }
   ],
   "source": [
    "np.cross([3, 8, 0], [6, 1, 0])"
   ]
  },
  {
   "cell_type": "markdown",
   "metadata": {},
   "source": [
    ">**Ex. 2.2.3**: Say you have two vectors. What does it mean that the dot product between them is zero or very close to zero? What if it's very large? Intuitively, what does the dot product then measure?"
   ]
  },
  {
   "cell_type": "markdown",
   "metadata": {},
   "source": [
    "If the dot product between two vectors is zero, then those two vectors are orthogonal. If the dot product between the vectors is one, then they are codirectional. Dot product measures the angle between two vectors."
   ]
  },
  {
   "cell_type": "markdown",
   "metadata": {},
   "source": [
    ">**Ex. 2.2.4**: In Data Science, we often think of matrices as (usually two-dimensional) containers for data. If we have $N$ data points each with $M$ features to them, we can represent this data using an $N \\times M$ matrix, that is a matrix that has $N$ rows, one for each datapoint, and $M$ columns, one for each feature. Below I fetch a dataset of wines (rows) and their features (columns)."
   ]
  },
  {
   "cell_type": "code",
   "execution_count": 15,
   "metadata": {
    "ExecuteTime": {
     "end_time": "2019-11-11T09:53:11.903738Z",
     "start_time": "2019-11-11T09:53:11.593708Z"
    }
   },
   "outputs": [
    {
     "data": {
      "text/html": [
       "<div>\n",
       "<style scoped>\n",
       "    .dataframe tbody tr th:only-of-type {\n",
       "        vertical-align: middle;\n",
       "    }\n",
       "\n",
       "    .dataframe tbody tr th {\n",
       "        vertical-align: top;\n",
       "    }\n",
       "\n",
       "    .dataframe thead th {\n",
       "        text-align: right;\n",
       "    }\n",
       "</style>\n",
       "<table border=\"1\" class=\"dataframe\">\n",
       "  <thead>\n",
       "    <tr style=\"text-align: right;\">\n",
       "      <th></th>\n",
       "      <th>Alcohol</th>\n",
       "      <th>Malic.acid</th>\n",
       "      <th>Ash</th>\n",
       "      <th>Acl</th>\n",
       "      <th>Mg</th>\n",
       "      <th>Phenols</th>\n",
       "      <th>Flavanoids</th>\n",
       "      <th>Nonflavanoid.phenols</th>\n",
       "      <th>Proanth</th>\n",
       "      <th>Color.int</th>\n",
       "      <th>Hue</th>\n",
       "      <th>OD</th>\n",
       "      <th>Proline</th>\n",
       "    </tr>\n",
       "  </thead>\n",
       "  <tbody>\n",
       "    <tr>\n",
       "      <th>0</th>\n",
       "      <td>14.23</td>\n",
       "      <td>1.71</td>\n",
       "      <td>2.43</td>\n",
       "      <td>15.6</td>\n",
       "      <td>127</td>\n",
       "      <td>2.80</td>\n",
       "      <td>3.06</td>\n",
       "      <td>0.28</td>\n",
       "      <td>2.29</td>\n",
       "      <td>5.64</td>\n",
       "      <td>1.04</td>\n",
       "      <td>3.92</td>\n",
       "      <td>1065</td>\n",
       "    </tr>\n",
       "    <tr>\n",
       "      <th>1</th>\n",
       "      <td>13.20</td>\n",
       "      <td>1.78</td>\n",
       "      <td>2.14</td>\n",
       "      <td>11.2</td>\n",
       "      <td>100</td>\n",
       "      <td>2.65</td>\n",
       "      <td>2.76</td>\n",
       "      <td>0.26</td>\n",
       "      <td>1.28</td>\n",
       "      <td>4.38</td>\n",
       "      <td>1.05</td>\n",
       "      <td>3.40</td>\n",
       "      <td>1050</td>\n",
       "    </tr>\n",
       "    <tr>\n",
       "      <th>2</th>\n",
       "      <td>13.16</td>\n",
       "      <td>2.36</td>\n",
       "      <td>2.67</td>\n",
       "      <td>18.6</td>\n",
       "      <td>101</td>\n",
       "      <td>2.80</td>\n",
       "      <td>3.24</td>\n",
       "      <td>0.30</td>\n",
       "      <td>2.81</td>\n",
       "      <td>5.68</td>\n",
       "      <td>1.03</td>\n",
       "      <td>3.17</td>\n",
       "      <td>1185</td>\n",
       "    </tr>\n",
       "    <tr>\n",
       "      <th>3</th>\n",
       "      <td>14.37</td>\n",
       "      <td>1.95</td>\n",
       "      <td>2.50</td>\n",
       "      <td>16.8</td>\n",
       "      <td>113</td>\n",
       "      <td>3.85</td>\n",
       "      <td>3.49</td>\n",
       "      <td>0.24</td>\n",
       "      <td>2.18</td>\n",
       "      <td>7.80</td>\n",
       "      <td>0.86</td>\n",
       "      <td>3.45</td>\n",
       "      <td>1480</td>\n",
       "    </tr>\n",
       "    <tr>\n",
       "      <th>4</th>\n",
       "      <td>13.24</td>\n",
       "      <td>2.59</td>\n",
       "      <td>2.87</td>\n",
       "      <td>21.0</td>\n",
       "      <td>118</td>\n",
       "      <td>2.80</td>\n",
       "      <td>2.69</td>\n",
       "      <td>0.39</td>\n",
       "      <td>1.82</td>\n",
       "      <td>4.32</td>\n",
       "      <td>1.04</td>\n",
       "      <td>2.93</td>\n",
       "      <td>735</td>\n",
       "    </tr>\n",
       "    <tr>\n",
       "      <th>5</th>\n",
       "      <td>14.20</td>\n",
       "      <td>1.76</td>\n",
       "      <td>2.45</td>\n",
       "      <td>15.2</td>\n",
       "      <td>112</td>\n",
       "      <td>3.27</td>\n",
       "      <td>3.39</td>\n",
       "      <td>0.34</td>\n",
       "      <td>1.97</td>\n",
       "      <td>6.75</td>\n",
       "      <td>1.05</td>\n",
       "      <td>2.85</td>\n",
       "      <td>1450</td>\n",
       "    </tr>\n",
       "    <tr>\n",
       "      <th>6</th>\n",
       "      <td>14.39</td>\n",
       "      <td>1.87</td>\n",
       "      <td>2.45</td>\n",
       "      <td>14.6</td>\n",
       "      <td>96</td>\n",
       "      <td>2.50</td>\n",
       "      <td>2.52</td>\n",
       "      <td>0.30</td>\n",
       "      <td>1.98</td>\n",
       "      <td>5.25</td>\n",
       "      <td>1.02</td>\n",
       "      <td>3.58</td>\n",
       "      <td>1290</td>\n",
       "    </tr>\n",
       "    <tr>\n",
       "      <th>7</th>\n",
       "      <td>14.06</td>\n",
       "      <td>2.15</td>\n",
       "      <td>2.61</td>\n",
       "      <td>17.6</td>\n",
       "      <td>121</td>\n",
       "      <td>2.60</td>\n",
       "      <td>2.51</td>\n",
       "      <td>0.31</td>\n",
       "      <td>1.25</td>\n",
       "      <td>5.05</td>\n",
       "      <td>1.06</td>\n",
       "      <td>3.58</td>\n",
       "      <td>1295</td>\n",
       "    </tr>\n",
       "    <tr>\n",
       "      <th>8</th>\n",
       "      <td>14.83</td>\n",
       "      <td>1.64</td>\n",
       "      <td>2.17</td>\n",
       "      <td>14.0</td>\n",
       "      <td>97</td>\n",
       "      <td>2.80</td>\n",
       "      <td>2.98</td>\n",
       "      <td>0.29</td>\n",
       "      <td>1.98</td>\n",
       "      <td>5.20</td>\n",
       "      <td>1.08</td>\n",
       "      <td>2.85</td>\n",
       "      <td>1045</td>\n",
       "    </tr>\n",
       "    <tr>\n",
       "      <th>9</th>\n",
       "      <td>13.86</td>\n",
       "      <td>1.35</td>\n",
       "      <td>2.27</td>\n",
       "      <td>16.0</td>\n",
       "      <td>98</td>\n",
       "      <td>2.98</td>\n",
       "      <td>3.15</td>\n",
       "      <td>0.22</td>\n",
       "      <td>1.85</td>\n",
       "      <td>7.22</td>\n",
       "      <td>1.01</td>\n",
       "      <td>3.55</td>\n",
       "      <td>1045</td>\n",
       "    </tr>\n",
       "  </tbody>\n",
       "</table>\n",
       "</div>"
      ],
      "text/plain": [
       "   Alcohol  Malic.acid   Ash   Acl   Mg  Phenols  Flavanoids  \\\n",
       "0    14.23        1.71  2.43  15.6  127     2.80        3.06   \n",
       "1    13.20        1.78  2.14  11.2  100     2.65        2.76   \n",
       "2    13.16        2.36  2.67  18.6  101     2.80        3.24   \n",
       "3    14.37        1.95  2.50  16.8  113     3.85        3.49   \n",
       "4    13.24        2.59  2.87  21.0  118     2.80        2.69   \n",
       "5    14.20        1.76  2.45  15.2  112     3.27        3.39   \n",
       "6    14.39        1.87  2.45  14.6   96     2.50        2.52   \n",
       "7    14.06        2.15  2.61  17.6  121     2.60        2.51   \n",
       "8    14.83        1.64  2.17  14.0   97     2.80        2.98   \n",
       "9    13.86        1.35  2.27  16.0   98     2.98        3.15   \n",
       "\n",
       "   Nonflavanoid.phenols  Proanth  Color.int   Hue    OD  Proline  \n",
       "0                  0.28     2.29       5.64  1.04  3.92     1065  \n",
       "1                  0.26     1.28       4.38  1.05  3.40     1050  \n",
       "2                  0.30     2.81       5.68  1.03  3.17     1185  \n",
       "3                  0.24     2.18       7.80  0.86  3.45     1480  \n",
       "4                  0.39     1.82       4.32  1.04  2.93      735  \n",
       "5                  0.34     1.97       6.75  1.05  2.85     1450  \n",
       "6                  0.30     1.98       5.25  1.02  3.58     1290  \n",
       "7                  0.31     1.25       5.05  1.06  3.58     1295  \n",
       "8                  0.29     1.98       5.20  1.08  2.85     1045  \n",
       "9                  0.22     1.85       7.22  1.01  3.55     1045  "
      ]
     },
     "execution_count": 15,
     "metadata": {},
     "output_type": "execute_result"
    }
   ],
   "source": [
    "import pandas as pd\n",
    "\n",
    "# Download dataset\n",
    "X = pd.read_csv(\"https://gist.githubusercontent.com/tijptjik/9408623/raw/b237fa5848349a14a14e5d4107dc7897c21951f5/wine.csv\").drop('Wine', axis=1)\n",
    "\n",
    "# Display dataset\n",
    "X.head(10)"
   ]
  },
  {
   "cell_type": "markdown",
   "metadata": {},
   "source": [
    ">So this dataset has $N=178$ rows and $M=13$ columns. Let's start by finding the so-called *covariance matrix* of the features. It is a square, in this case, $13\\times13$ matrix where every value $i,j$ represents the covariance between features $i$ and $j$. [Read more here](https://en.wikipedia.org/wiki/Covariance_matrix).\n",
    "1. Use the `np.cov` method on this data to get the $13 \\times 13$ covariance matrix.\n",
    "2. Do you notice any characteristics of how values are organized in this matrix? Comment.\n",
    "3. Plot the distribution of covariances, e.g. using a histogram.\n",
    "4. Plot the distribution of correlations in the same way. Comment on the differences between these two plots. Is one easier to interpret than the other?\n",
    ">\n",
    ">*Hint for 1: `np.cov` expects that rows are features and columns are observations. That is the transpose of how `X` \n",
    "is represented now.*<br>\n",
    ">*Hint for 3: DO NOT just do something like `plt.hist(my_cov_matrix)`, as this will result in something completely different than what we are after (and not particularly meaningful).  Instead, use the covariance matrix to create a vector in which you keep all the distinct covariances.* <br>\n",
    ">*Hint for 4: The correlation matrix can be obtained with the `np.corrcoef` function.*"
   ]
  },
  {
   "cell_type": "code",
   "execution_count": 16,
   "metadata": {},
   "outputs": [
    {
     "data": {
      "text/plain": [
       "array([[ 6.59062328e-01,  8.56113090e-02,  4.71151590e-02,\n",
       "        -8.41092903e-01,  3.13987812e+00,  1.46887218e-01,\n",
       "         1.92033222e-01, -1.57542595e-02,  6.35175205e-02,\n",
       "         1.02828254e+00, -1.33134432e-02,  4.16978226e-02,\n",
       "         1.64567185e+02],\n",
       "       [ 8.56113090e-02,  1.24801540e+00,  5.02770393e-02,\n",
       "         1.07633171e+00, -8.70779534e-01, -2.34337723e-01,\n",
       "        -4.58630366e-01,  4.07333619e-02, -1.41146982e-01,\n",
       "         6.44838183e-01, -1.43325638e-01, -2.92447483e-01,\n",
       "        -6.75488666e+01],\n",
       "       [ 4.71151590e-02,  5.02770393e-02,  7.52646353e-02,\n",
       "         4.06208278e-01,  1.12293658e+00,  2.21455913e-02,\n",
       "         3.15347299e-02,  6.35847140e-03,  1.51557799e-03,\n",
       "         1.64654327e-01, -4.68215451e-03,  7.61835841e-04,\n",
       "         1.93197391e+01],\n",
       "       [-8.41092903e-01,  1.07633171e+00,  4.06208278e-01,\n",
       "         1.11526862e+01, -3.97476036e+00, -6.71149146e-01,\n",
       "        -1.17208281e+00,  1.50421856e-01, -3.77176220e-01,\n",
       "         1.45024186e-01, -2.09118054e-01, -6.56234368e-01,\n",
       "        -4.63355345e+02],\n",
       "       [ 3.13987812e+00, -8.70779534e-01,  1.12293658e+00,\n",
       "        -3.97476036e+00,  2.03989335e+02,  1.91646988e+00,\n",
       "         2.79308703e+00, -4.55563385e-01,  1.93283248e+00,\n",
       "         6.62052061e+00,  1.80851266e-01,  6.69308068e-01,\n",
       "         1.76915870e+03],\n",
       "       [ 1.46887218e-01, -2.34337723e-01,  2.21455913e-02,\n",
       "        -6.71149146e-01,  1.91646988e+00,  3.91689535e-01,\n",
       "         5.40470422e-01, -3.50451247e-02,  2.19373345e-01,\n",
       "        -7.99975192e-02,  6.20388758e-02,  3.11021278e-01,\n",
       "         9.81710573e+01],\n",
       "       [ 1.92033222e-01, -4.58630366e-01,  3.15347299e-02,\n",
       "        -1.17208281e+00,  2.79308703e+00,  5.40470422e-01,\n",
       "         9.97718673e-01, -6.68669999e-02,  3.73147553e-01,\n",
       "        -3.99168626e-01,  1.24081969e-01,  5.58262255e-01,\n",
       "         1.55447492e+02],\n",
       "       [-1.57542595e-02,  4.07333619e-02,  6.35847140e-03,\n",
       "         1.50421856e-01, -4.55563385e-01, -3.50451247e-02,\n",
       "        -6.68669999e-02,  1.54886339e-02, -2.60598680e-02,\n",
       "         4.01205097e-02, -7.47117692e-03, -4.44692440e-02,\n",
       "        -1.22035863e+01],\n",
       "       [ 6.35175205e-02, -1.41146982e-01,  1.51557799e-03,\n",
       "        -3.77176220e-01,  1.93283248e+00,  2.19373345e-01,\n",
       "         3.73147553e-01, -2.60598680e-02,  3.27594668e-01,\n",
       "        -3.35039177e-02,  3.86645655e-02,  2.10932940e-01,\n",
       "         5.95543338e+01],\n",
       "       [ 1.02828254e+00,  6.44838183e-01,  1.64654327e-01,\n",
       "         1.45024186e-01,  6.62052061e+00, -7.99975192e-02,\n",
       "        -3.99168626e-01,  4.01205097e-02, -3.35039177e-02,\n",
       "         5.37444938e+00, -2.76505801e-01, -7.05812576e-01,\n",
       "         2.30767480e+02],\n",
       "       [-1.33134432e-02, -1.43325638e-01, -4.68215451e-03,\n",
       "        -2.09118054e-01,  1.80851266e-01,  6.20388758e-02,\n",
       "         1.24081969e-01, -7.47117692e-03,  3.86645655e-02,\n",
       "        -2.76505801e-01,  5.22449607e-02,  9.17662439e-02,\n",
       "         1.70002234e+01],\n",
       "       [ 4.16978226e-02, -2.92447483e-01,  7.61835841e-04,\n",
       "        -6.56234368e-01,  6.69308068e-01,  3.11021278e-01,\n",
       "         5.58262255e-01, -4.44692440e-02,  2.10932940e-01,\n",
       "        -7.05812576e-01,  9.17662439e-02,  5.04086409e-01,\n",
       "         6.99275256e+01],\n",
       "       [ 1.64567185e+02, -6.75488666e+01,  1.93197391e+01,\n",
       "        -4.63355345e+02,  1.76915870e+03,  9.81710573e+01,\n",
       "         1.55447492e+02, -1.22035863e+01,  5.95543338e+01,\n",
       "         2.30767480e+02,  1.70002234e+01,  6.99275256e+01,\n",
       "         9.91667174e+04]])"
      ]
     },
     "execution_count": 16,
     "metadata": {},
     "output_type": "execute_result"
    }
   ],
   "source": [
    "np.cov(np.transpose(X))"
   ]
  },
  {
   "cell_type": "markdown",
   "metadata": {},
   "source": [
    "The matrix is a square where at coordinates (i,j), the number present represents the covariance between the ith attribute and the jth attribute. Therefore, the covariance matrix is symmetrix and the diagonal is the variance of the ith attribute."
   ]
  },
  {
   "cell_type": "code",
   "execution_count": 17,
   "metadata": {},
   "outputs": [
    {
     "name": "stdout",
     "output_type": "stream",
     "text": [
      "[0.08561130895702407, 0.047115159017330044, 0.050277039294102696, -0.841092902939123, 1.0763317145940456, 0.4062082777883579, 3.1398781184536273, -0.8707795340570056, 1.122936583507903, -3.974760363105438, 0.14688721830762397, -0.23433772297340183, 0.022145591315939846, -0.6711491461943759, 1.9164698787532533, 0.19203322224338235, -0.4586303656446392, 0.03153472989271887, -1.1720828096235638, 2.793087031041706, 0.5404704215070149, -0.01575425950612582, 0.04073336189932078, 0.006358471402272583, 0.1504218561543833, -0.4555633847521106, -0.03504512473814512, -0.06686699993652007, 0.06351752047229113, -0.14114698152732805, 0.001515577985145698, -0.37717622040246324, 1.932832476353711, 0.2193733447597283, 0.3731475528470768, -0.026059867961658097, 1.0282825443106078, 0.6448381829000825, 0.1646543266488922, 0.14502418584079263, 6.620520613406971, -0.07999751916746017, -0.39916862596235625, 0.04012050971148353, -0.03350391768996379, -0.01331344315368501, -0.1433256376563195, -0.004682154510252015, -0.2091180537040564, 0.18085126642544272, 0.062038875769694656, 0.12408196851393385, -0.007471176918682158, 0.038664565479591184, -0.2765058011500666, 0.041697822636958176, -0.2924474830191076, 0.0007618358407922537, -0.6562343680568783, 0.6693080683044498, 0.3110212784866376, 0.5582622548086079, -0.04446924395353267, 0.21093293975750638, -0.7058125761842187, 0.0917662438900527, 164.56718498063867, -67.54886656509869, 19.319739097314798, -463.3553450136483, 1769.158699930172, 98.17105725893491, 155.44749222370325, -12.20358630102203, 59.55433377769319, 230.7674801398782, 17.00022338602171, 69.92752555068874]\n"
     ]
    },
    {
     "data": {
      "text/plain": [
       "(array([ 1.,  1., 74.,  1.,  0.,  0.,  0.,  0.,  0.,  1.]),\n",
       " array([-463.35534501, -240.10394052,  -16.85253602,  206.39886847,\n",
       "         429.65027296,  652.90167746,  876.15308195, 1099.40448645,\n",
       "        1322.65589094, 1545.90729544, 1769.15869993]),\n",
       " <BarContainer object of 10 artists>)"
      ]
     },
     "execution_count": 17,
     "metadata": {},
     "output_type": "execute_result"
    },
    {
     "data": {
      "image/png": "[encoded data removed]",
      "text/plain": [
       "<Figure size 640x480 with 1 Axes>"
      ]
     },
     "metadata": {},
     "output_type": "display_data"
    }
   ],
   "source": [
    "covs = np.cov(np.transpose(X))\n",
    "# take the bottom half of the covariance matrix (we don't need the top and bottom because the matrix is symetrical)\n",
    "vals = [covs[i][j] for i in range(len(covs)) for j in range(i)]\n",
    "print(vals)\n",
    "plt.xlabel('covariance')\n",
    "plt.ylabel('count')\n",
    "plt.hist(vals)"
   ]
  },
  {
   "cell_type": "code",
   "execution_count": 18,
   "metadata": {},
   "outputs": [
    {
     "name": "stdout",
     "output_type": "stream",
     "text": [
      "[0.09439694091041397, 0.21154459643174453, 0.1640454697567444, -0.3102351368910852, 0.2885004028036242, 0.44336718655231083, 0.2707982259114799, -0.05457509608400128, 0.28658669125817415, -0.08333308856795277, 0.28910112258745685, -0.3351669971620652, 0.12897953765407003, -0.3211133173240711, 0.21440123465343244, 0.23681492790034575, -0.41100658761426284, 0.1150772790139724, -0.3513698601383945, 0.19578376985743298, 0.8645635000951151, -0.15592946668732913, 0.292977133480648, 0.18623044631692118, 0.3619217185576046, -0.25629404891382984, -0.44993530093522016, -0.5378996119051981, 0.13669791176947996, -0.22074618679284594, 0.009651935152086882, -0.19732683571595483, 0.2364406097775076, 0.6124130837800362, 0.6526917686075149, -0.36584509900799145, 0.546364195083704, 0.24898534409523967, 0.25888725929965345, 0.018731980931230605, 0.19995000627543233, -0.05513641774236598, -0.1723793982891793, 0.1390570128605289, -0.02524993081570156, -0.07174719733015454, -0.5612956886649448, -0.07466688903277305, -0.2739552227004073, 0.05539819560300733, 0.43368133521377583, 0.5434785664899893, -0.2626396311498335, 0.29554425278359886, -0.5218131932287576, 0.07234318740052244, -0.3687104282932638, 0.003911230630275295, -0.27676854889143543, 0.06600393603204724, 0.6999493647911861, 0.7871939018669505, -0.5032695960789111, 0.5190670956825224, -0.42881494182763114, 0.5654682931826588, 0.643720037178214, -0.19201056463400956, 0.22362626368757219, -0.44059693128216204, 0.39335084938308695, 0.4981148796420991, 0.4941931272043733, -0.3113851883179213, 0.3304167004025371, 0.3161001126560901, 0.2361834466504371, 0.3127610754527234]\n"
     ]
    },
    {
     "data": {
      "text/plain": [
       "(array([ 7.,  9.,  8.,  7., 10., 17.,  7.,  7.,  4.,  2.]),\n",
       " array([-0.56129569, -0.41870977, -0.27612385, -0.13353793,  0.00904799,\n",
       "         0.15163391,  0.29421982,  0.43680574,  0.57939166,  0.72197758,\n",
       "         0.8645635 ]),\n",
       " <BarContainer object of 10 artists>)"
      ]
     },
     "execution_count": 18,
     "metadata": {},
     "output_type": "execute_result"
    },
    {
     "data": {
      "image/png": "[encoded data removed]",
      "text/plain": [
       "<Figure size 640x480 with 1 Axes>"
      ]
     },
     "metadata": {},
     "output_type": "display_data"
    }
   ],
   "source": [
    "corrs = np.corrcoef(np.transpose(X))\n",
    "# take the bottom half of the covariance matrix (we don't need the top and bottom because the matrix is symetrical)\n",
    "vals = [corrs[i][j] for i in range(len(corrs)) for j in range(i)]\n",
    "print(vals)\n",
    "plt.xlabel('correlation')\n",
    "plt.ylabel('count')\n",
    "plt.hist(vals)"
   ]
  },
  {
   "cell_type": "markdown",
   "metadata": {},
   "source": [
    "We see a much flatter distribution in our correlation histogram than in our covariance histogram. Our covariance histogram is probably more meaningful because we can see the outliers. It looks like there was at least one pair of attributes in our matrix with a covariance of more than 1500 (definitely an outlier). We should figure out which pair of attributes had that high covariance and invstigate further!"
   ]
  },
  {
   "cell_type": "markdown",
   "metadata": {},
   "source": [
    ">**Ex. 2.2.5**: There's another use of the covariance matrix, other than just learning how features co-vary. In fact, it turns out that the *eigenvectors* of the covariance matrix are a set of mutually orthogonal vectors, that point in the directions of greatest variance in the data. The eigenvector with the greatest *eigenvalue* points along the direction of greatest variation, and so on. This is pretty neat, because if we know along which axes the data is most stretched, we can figure out how best to project it when visualizing it in 2D as a scatter plot! This whole procedure has a name: **Principal Component Analysis** (PCA) and it was invented by Karl Pearson in 1901. It belongs to a powerful class of linear algebra methods called **Matrix Factorization** methods. Ok, so rather than spending too much time on the math of PCA, let's just use the `sklearn` implementation and fit a [PCA](https://scikit-learn.org/stable/modules/generated/sklearn.decomposition.PCA.html) on `X`."
   ]
  },
  {
   "cell_type": "code",
   "execution_count": 19,
   "metadata": {
    "ExecuteTime": {
     "end_time": "2019-11-11T09:54:12.788440Z",
     "start_time": "2019-11-11T09:54:12.761895Z"
    }
   },
   "outputs": [
    {
     "data": {
      "text/plain": [
       "PCA(n_components=10)"
      ]
     },
     "execution_count": 19,
     "metadata": {},
     "output_type": "execute_result"
    }
   ],
   "source": [
    "from sklearn.decomposition import PCA\n",
    "pca = PCA(n_components=10)\n",
    "pca.fit(X)"
   ]
  },
  {
   "cell_type": "markdown",
   "metadata": {},
   "source": [
    ">1. Explain what the matrix you get when you call `pca.components_` means.  Read about the `components_` attribute (run `?pca` in a code cell and then look under \"Attributes\").\n",
    "2. Make a bar plot of `pca.explained_variance_ratio_` and explain what it means (you may want to log-scale the y-axis). What insights about our data can we extract from this?\n",
    "3. Indeed, problem with the data AS-IS, is that the different features have very different variances (some are huge numbers others are small). The way to fix this is by doing something called \"[zscoring](https://en.wikipedia.org/wiki/Standard_score)\", whereby each feature is rescaled to have zero mean and unit standard deviation. In this way, all of the data ends up with comparable variance. Make a new array `X_z` that is the zscored `X`, using the `scipy.stats.zscore` function. Show that each column has zero mean and unit standard deviation.\n",
    "4. Transform `X` using the PCA we fitted above to create a new array `X_pca`. Then fit a new PCA to `X_z` and transform it to create another new array `X_z_pca`. Finally, scatter plot against each other the first two components (i.e. fitst two columns in array) of `X_pca`. Do the same for `X_z_pc`. Comment on the difference.\n",
    "\n",
    ">*Hint for 4: use `pca.transform` or `pca.fit_transform`. Understand the difference between the two.*"
   ]
  },
  {
   "cell_type": "code",
   "execution_count": 20,
   "metadata": {},
   "outputs": [
    {
     "data": {
      "text/plain": [
       "array([[ 1.65926472e-03, -6.81015556e-04,  1.94905742e-04,\n",
       "        -4.67130058e-03,  1.78680075e-02,  9.89829680e-04,\n",
       "         1.56728830e-03, -1.23086662e-04,  6.00607792e-04,\n",
       "         2.32714319e-03,  1.71380037e-04,  7.04931645e-04,\n",
       "         9.99822937e-01],\n",
       "       [ 1.20340617e-03,  2.15498184e-03,  4.59369254e-03,\n",
       "         2.64503930e-02,  9.99344186e-01,  8.77962152e-04,\n",
       "        -5.18507284e-05, -1.35447892e-03,  5.00440040e-03,\n",
       "         1.51003530e-02, -7.62673115e-04, -3.49536431e-03,\n",
       "        -1.77738095e-02],\n",
       "       [-1.68738094e-02, -1.22003373e-01, -5.19874304e-02,\n",
       "        -9.38593003e-01,  2.97802484e-02,  4.04846439e-02,\n",
       "         8.54433387e-02, -1.35107797e-02,  2.46593824e-02,\n",
       "        -2.91398464e-01,  2.59776624e-02,  7.03239693e-02,\n",
       "        -4.52868159e-03],\n",
       "       [-1.41446778e-01, -1.60389543e-01,  9.77280992e-03,\n",
       "         3.30965260e-01,  5.39375605e-03,  7.45846556e-02,\n",
       "         1.69086724e-01, -1.08055610e-02,  5.01209524e-02,\n",
       "        -8.78893693e-01,  6.00349446e-02,  1.78200254e-01,\n",
       "         3.11291570e-03],\n",
       "       [ 2.03369773e-02, -6.12883454e-01,  2.01755752e-02,\n",
       "         6.43523403e-02, -6.14934472e-03,  3.15245063e-01,\n",
       "         5.24761088e-01, -2.96475124e-02,  2.51182529e-01,\n",
       "         3.31747051e-01,  5.15240771e-02,  2.60639176e-01,\n",
       "        -2.29856939e-03],\n",
       "       [ 1.94120104e-01,  7.42472963e-01,  4.17529118e-02,\n",
       "        -2.40653026e-02, -1.92378154e-03,  2.78716809e-01,\n",
       "         4.33597955e-01, -2.19528343e-02,  2.41884488e-01,\n",
       "         2.73960896e-03, -2.37761666e-02,  2.88912753e-01,\n",
       "        -1.21225507e-03],\n",
       "       [-9.23280337e-01,  1.50109941e-01, -4.50095493e-02,\n",
       "        -3.15265835e-02, -1.79736268e-03,  2.01857100e-02,\n",
       "         3.88685182e-02,  4.66548296e-03,  3.09799487e-01,\n",
       "         1.12836514e-01, -3.08198127e-02, -1.01973518e-01,\n",
       "         1.07618923e-03],\n",
       "       [-2.84820658e-01,  6.46744678e-02,  1.49339532e-01,\n",
       "        -1.51539118e-02,  3.55221241e-03,  1.77237945e-01,\n",
       "         2.48116635e-01, -6.49796752e-03, -8.70433157e-01,\n",
       "         8.12869205e-02,  2.95190435e-03,  1.86714531e-01,\n",
       "        -1.03409482e-05],\n",
       "       [-8.66006124e-02, -1.56621385e-02, -7.36498524e-02,\n",
       "        -2.04457785e-03,  1.96366816e-03, -2.55672918e-01,\n",
       "        -3.78306653e-01, -3.67520428e-02,  5.15201690e-02,\n",
       "         9.90290846e-02, -3.30651238e-02,  8.73746543e-01,\n",
       "         7.25585209e-05],\n",
       "       [-2.24499994e-03, -1.85093501e-02, -8.67996529e-02,\n",
       "         3.55402799e-03, -4.05154189e-05,  8.47195073e-01,\n",
       "        -5.20138389e-01,  3.77131942e-02,  9.72275203e-03,\n",
       "        -2.31471169e-02, -3.84698250e-02,  1.70170830e-02,\n",
       "         4.92663809e-05]])"
      ]
     },
     "execution_count": 20,
     "metadata": {},
     "output_type": "execute_result"
    }
   ],
   "source": [
    "pca.components_"
   ]
  },
  {
   "cell_type": "markdown",
   "metadata": {},
   "source": [
    " 1.) The components_ attribute gives the vectors in our vector space with the maximum variance in the data. These are the \"principle components\" in the principle component analysis. They are vectors that are parallel to our data's eigenvectors and with magnitudes corrosponding to eigenvalues. "
   ]
  },
  {
   "cell_type": "code",
   "execution_count": 21,
   "metadata": {},
   "outputs": [
    {
     "data": {
      "text/plain": [
       "array([9.98091230e-01, 1.73591562e-03, 9.49589576e-05, 5.02173562e-05,\n",
       "       1.23636847e-05, 8.46213034e-06, 2.80681456e-06, 1.52308053e-06,\n",
       "       1.12783044e-06, 7.21415811e-07])"
      ]
     },
     "execution_count": 21,
     "metadata": {},
     "output_type": "execute_result"
    }
   ],
   "source": [
    "#log_explained_var = [np.log(x) for x in pca.explained_variance_ratio_]\n",
    "#plt.ylabel('log explained var')\n",
    "#plt.xlabel('attribute')\n",
    "#plt.bar(x=range(len(log_explained_var)),label=X.columns, height=log_explained_var, width=0.4)\n",
    "pca.explained_variance_ratio_"
   ]
  },
  {
   "cell_type": "markdown",
   "metadata": {},
   "source": [
    "### Part 3: Statistics (DSFS Chapter 5)"
   ]
  },
  {
   "cell_type": "markdown",
   "metadata": {},
   "source": [
    ">**Ex. 2.3.1**: Take a vector `a = [1, 3, 2, 5, 3, 1, 5, 1, 9000]`:\n",
    "1. Compute the mean of `a` using `numpy`.\n",
    "2. How is median defined? Compute the median of `a` using `numpy`.\n",
    "3. For `a`, why might it make sense to take the median more seriously than the mean?"
   ]
  },
  {
   "cell_type": "markdown",
   "metadata": {},
   "source": [
    ">**Ex. 2.3.2**: Using the same vector `a`:\n",
    "1. How is *range* defined? Compute it.\n",
    "2. How is *variance* defined? How do variance and standard deviation relate? Compute them both. Which value is greater?\n",
    "3. What is the interquartile range? Compute it, and explain why it might be useful."
   ]
  },
  {
   "cell_type": "markdown",
   "metadata": {},
   "source": [
    ">**Ex. 2.3.3**: Covariance and correlation are both measures of trend similarity.\n",
    "1. How do they relate?\n",
    "2. Compute the correlation between `a` and `b = [0, 4, 1, 6, 2, 0, 6, 0, 2]`.\n",
    "3. How does that result change if you remove the last data-point from each list? Why? What *term* do we use for that last value for both `a` and `b`?"
   ]
  },
  {
   "cell_type": "markdown",
   "metadata": {},
   "source": [
    ">**Ex. 2.3.4.EXTRA**: People often use the p-value to gauge the *significance* of a given result. If the p-value of a result is low, the result is significant (which is good) and vice versa. Intuitively, the p-value measures the probabilty that a result *could have been obtained at random*, so you can imagine that if you find that the p-value for some result is HIGH (close to one), regardless of how cool it is, people will not care because, well, you just got lucky with that measurement. I created two lists for you below; you are going to find out if they are *significantly* correlated. You will be using the significance threshold 0.05 (which is arbitrary, disputed, yet very standard in the literature).\n",
    ">\n",
    ">***This exercise is not be included in the assignment. However, you can earn up to 10 extra credit points if you solve it and submit it to the teacher. Your solution must reflect that you have understood the idea of numerical hypothesis testing.  This is individual, not group work -- so send me an email with your solution, do not submit it in the group submission.***"
   ]
  },
  {
   "cell_type": "code",
   "execution_count": 319,
   "metadata": {
    "ExecuteTime": {
     "end_time": "2019-11-11T09:55:02.163468Z",
     "start_time": "2019-11-11T09:55:02.157608Z"
    }
   },
   "outputs": [],
   "source": [
    "# You can incresae this to make the data more noisy (but let it be 4 for now)\n",
    "noise_level = 4\n",
    "\n",
    "# I'm just seeding the random number generator here, so we can compare results\n",
    "np.random.seed(0)\n",
    "\n",
    "# This is your data\n",
    "x = np.arange(0, 20) + np.random.normal(size=20) * noise_level\n",
    "y = np.arange(0, 20) + np.random.normal(size=20) * noise_level"
   ]
  },
  {
   "cell_type": "code",
   "execution_count": 320,
   "metadata": {
    "ExecuteTime": {
     "end_time": "2019-11-11T09:55:07.822248Z",
     "start_time": "2019-11-11T09:55:07.696184Z"
    }
   },
   "outputs": [
    {
     "data": {
      "image/png": "[encoded data removed]",
      "text/plain": [
       "<Figure size 288x216 with 1 Axes>"
      ]
     },
     "metadata": {
      "needs_background": "light"
     },
     "output_type": "display_data"
    }
   ],
   "source": [
    "# Why not make a scatter plot here, to see what you're working with?\n",
    "plt.figure(figsize=(4, 3))\n",
    "plt.scatter(x, y)\n",
    "plt.show()"
   ]
  },
  {
   "cell_type": "markdown",
   "metadata": {},
   "source": [
    ">1. If you plotted `x` and `y` against each other, you probably noted that it looks like they correlate. Use the method `pearsonr` from `scipy.stats` to **compute the correlation coefficient**. Notice that the method also gives you the p-value of the correlation. For now, we ignore this.\n",
    ">2. So how do we figure out if this correlation strength is significant? \n",
    "The devil's advocate would surely argue, that you could obtain a similar *or stronger* correlation between completely random data.\n",
    "Well, screw you advocate, because we can SHOW that if you randomize THIS data, the correlation strength is almost always lower!\n",
    "To put this in stat-lingo, the devil's advocate believes in the so-called *Null Hypothesis*–that your result is no different from random–and the way we REJECT this acvocate's pessimistic hypothesis, is simply by comparing OUR obtained correlation strength to one obtained from data we know is random, namely the *Null model*.\n",
    "The Null model, in this case just a randomized version of our existing data. \n",
    "Your job, now, is to take `x` and `y`, randomize them (each independently) and compute the correlation coefficient.\n",
    ">3. In 2. you probably found that the correlation coefficient of the Null model was lower than that of your real data.\n",
    "But that was just one example of the Null hypothesis being wrong.\n",
    "The devil's advocate is not convinced and wants more evidence.\n",
    "Compute again the correlation coefficient of the Null model, but do it in a `for` loop 10000 times, and report the fraction of times that this correlation coefficient is greater or equal to the correlation coefficient of your real data.\n",
    "Maybe it will happen in 0% of randomizaion trials, maybe 2%, but hopefully not more than 5%.\n",
    "Yes, you guessed, it, this fraction is indeed the p-value.\n",
    "So is it really significant?\n",
    ">4. Complete the function below that takes as input `noise_level` and computes a p-value. Let `noise_level` vary between 1 and 50 and plot the p-value as a function of `noise_level` so we can see how our result becomes less and less significant as we increase the noise. Two questions: (1) around which value of `noise_level` does the correlation become insignificant, and (2) which p-value does the curve saturate at for large `noise_level`?"
   ]
  },
  {
   "cell_type": "code",
   "execution_count": null,
   "metadata": {},
   "outputs": [],
   "source": [
    "def compute_pval(noise_level, n=10000):\n",
    "\n",
    "    # Seed random number generator\n",
    "    np.random.seed(0)\n",
    "    \n",
    "    # Generate data\n",
    "    x = np.arange(0, 20) + np.random.normal(size=20) * noise_level\n",
    "    y = np.arange(0, 20) + np.random.normal(size=20) * noise_level\n",
    "    \n",
    "    # Unseed the random number generator\n",
    "    np.random.seed(None)\n",
    "    \n",
    "    # Compute the baseline correlation coefficient\n",
    "    r_baseline = pearsonr(x, y)[0]\n",
    "    \n",
    "    # Code with for loop that computes the p-value by randomizing data and\n",
    "    # comparing Pearson correlation to baseline. Should correspond to your\n",
    "    # code from 2.3.4.3."
   ]
  }
 ],
 "metadata": {
  "kernelspec": {
   "display_name": "Python 3 (ipykernel)",
   "language": "python",
   "name": "python3"
  },
  "language_info": {
   "codemirror_mode": {
    "name": "ipython",
    "version": 3
   },
   "file_extension": ".py",
   "mimetype": "text/x-python",
   "name": "python",
   "nbconvert_exporter": "python",
   "pygments_lexer": "ipython3",
   "version": "3.9.13"
  },
  "nav_menu": {},
  "toc": {
   "base_numbering": 1,
   "nav_menu": {},
   "number_sections": false,
   "sideBar": true,
   "skip_h1_title": false,
   "title_cell": "Table of Contents",
   "title_sidebar": "Contents",
   "toc_cell": false,
   "toc_position": {},
   "toc_section_display": "block",
   "toc_window_display": false
  },
  "varInspector": {
   "cols": {
    "lenName": 16,
    "lenType": 16,
    "lenVar": 40
   },
   "kernels_config": {
    "python": {
     "delete_cmd_postfix": "",
     "delete_cmd_prefix": "del ",
     "library": "var_list.py",
     "varRefreshCmd": "print(var_dic_list())"
    },
    "r": {
     "delete_cmd_postfix": ") ",
     "delete_cmd_prefix": "rm(",
     "library": "var_list.r",
     "varRefreshCmd": "cat(var_dic_list()) "
    }
   },
   "types_to_exclude": [
    "module",
    "function",
    "builtin_function_or_method",
    "instance",
    "_Feature"
   ],
   "window_display": false
  }
 },
 "nbformat": 4,
 "nbformat_minor": 2
}
