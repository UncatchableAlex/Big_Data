{
 "cells": [
  {
   "cell_type": "markdown",
   "metadata": {},
   "source": [
    "# Week 5: Machine Learning 2"
   ]
  },
  {
   "cell_type": "markdown",
   "metadata": {
    "ExecuteTime": {
     "end_time": "2017-08-23T15:30:03.634114Z",
     "start_time": "2017-08-23T15:30:03.629294Z"
    }
   },
   "source": [
    "There are myriad machine learning models (and algorithms for fitting them to data) out there, and each one has something special about it that makes it suitable to a specific type of problem. To apply machine learning and get some initial results is fairly straight forward. Getting under the hood, however, requires a bit of work. This week we focus on how Decision Trees work. In the exercises today you will:\n",
    "\n",
    "* Implement a standard decision tree mechanism\n",
    "* Play around with a neural network"
   ]
  },
  {
   "cell_type": "markdown",
   "metadata": {},
   "source": [
    "## Exercises"
   ]
  },
  {
   "cell_type": "markdown",
   "metadata": {},
   "source": [
    "**Before you do anything else**:\n",
    "\n",
    "Load the `pandas.DataFrame` containing team alliances for each character that you created last week, e.g. into a variable called `data_teams`. You will use this in the exercises below. I refer to this data specifically when I mention the \"data\".\n",
    "\n",
    "*Note:* We are working with all three factions again"
   ]
  },
  {
   "cell_type": "code",
   "execution_count": 48,
   "metadata": {},
   "outputs": [
    {
     "data": {
      "text/html": [
       "<div>\n",
       "<style scoped>\n",
       "    .dataframe tbody tr th:only-of-type {\n",
       "        vertical-align: middle;\n",
       "    }\n",
       "\n",
       "    .dataframe tbody tr th {\n",
       "        vertical-align: top;\n",
       "    }\n",
       "\n",
       "    .dataframe thead th {\n",
       "        text-align: right;\n",
       "    }\n",
       "</style>\n",
       "<table border=\"1\" class=\"dataframe\">\n",
       "  <thead>\n",
       "    <tr style=\"text-align: right;\">\n",
       "      <th></th>\n",
       "      <th>Unnamed: 0</th>\n",
       "      <th>#Fearsome Four</th>\n",
       "      <th>1991 in comics</th>\n",
       "      <th>2013 in comics</th>\n",
       "      <th>A-Force</th>\n",
       "      <th>A-Next</th>\n",
       "      <th>A.I. Army</th>\n",
       "      <th>A.R.M.O.R.</th>\n",
       "      <th>Acolytes (comics)</th>\n",
       "      <th>Action Pack (comics)</th>\n",
       "      <th>...</th>\n",
       "      <th>Xavier Institute student body</th>\n",
       "      <th>Xavier's Security Enforcers</th>\n",
       "      <th>Yakuza</th>\n",
       "      <th>Young Allies</th>\n",
       "      <th>Young Allies (Marvel Comics)</th>\n",
       "      <th>Young Avengers</th>\n",
       "      <th>Young Masters</th>\n",
       "      <th>Young X-Men</th>\n",
       "      <th>Zodiac (comics)</th>\n",
       "      <th>faction</th>\n",
       "    </tr>\n",
       "  </thead>\n",
       "  <tbody>\n",
       "    <tr>\n",
       "      <th>0</th>\n",
       "      <td>Abner Jenkins</td>\n",
       "      <td>0</td>\n",
       "      <td>0</td>\n",
       "      <td>0</td>\n",
       "      <td>0</td>\n",
       "      <td>0</td>\n",
       "      <td>0</td>\n",
       "      <td>0</td>\n",
       "      <td>0</td>\n",
       "      <td>0</td>\n",
       "      <td>...</td>\n",
       "      <td>0</td>\n",
       "      <td>0</td>\n",
       "      <td>0</td>\n",
       "      <td>0</td>\n",
       "      <td>0</td>\n",
       "      <td>0</td>\n",
       "      <td>0</td>\n",
       "      <td>0</td>\n",
       "      <td>0</td>\n",
       "      <td>2</td>\n",
       "    </tr>\n",
       "    <tr>\n",
       "      <th>1</th>\n",
       "      <td>Abomination (character)</td>\n",
       "      <td>0</td>\n",
       "      <td>0</td>\n",
       "      <td>0</td>\n",
       "      <td>0</td>\n",
       "      <td>0</td>\n",
       "      <td>0</td>\n",
       "      <td>0</td>\n",
       "      <td>0</td>\n",
       "      <td>0</td>\n",
       "      <td>...</td>\n",
       "      <td>0</td>\n",
       "      <td>0</td>\n",
       "      <td>0</td>\n",
       "      <td>0</td>\n",
       "      <td>0</td>\n",
       "      <td>0</td>\n",
       "      <td>0</td>\n",
       "      <td>0</td>\n",
       "      <td>0</td>\n",
       "      <td>1</td>\n",
       "    </tr>\n",
       "    <tr>\n",
       "      <th>2</th>\n",
       "      <td>Abraham Cornelius</td>\n",
       "      <td>0</td>\n",
       "      <td>0</td>\n",
       "      <td>0</td>\n",
       "      <td>0</td>\n",
       "      <td>0</td>\n",
       "      <td>0</td>\n",
       "      <td>0</td>\n",
       "      <td>0</td>\n",
       "      <td>0</td>\n",
       "      <td>...</td>\n",
       "      <td>0</td>\n",
       "      <td>0</td>\n",
       "      <td>0</td>\n",
       "      <td>0</td>\n",
       "      <td>0</td>\n",
       "      <td>0</td>\n",
       "      <td>0</td>\n",
       "      <td>0</td>\n",
       "      <td>0</td>\n",
       "      <td>0</td>\n",
       "    </tr>\n",
       "    <tr>\n",
       "      <th>3</th>\n",
       "      <td>Absorbing Man</td>\n",
       "      <td>0</td>\n",
       "      <td>0</td>\n",
       "      <td>0</td>\n",
       "      <td>0</td>\n",
       "      <td>0</td>\n",
       "      <td>0</td>\n",
       "      <td>0</td>\n",
       "      <td>0</td>\n",
       "      <td>0</td>\n",
       "      <td>...</td>\n",
       "      <td>0</td>\n",
       "      <td>0</td>\n",
       "      <td>0</td>\n",
       "      <td>0</td>\n",
       "      <td>0</td>\n",
       "      <td>0</td>\n",
       "      <td>0</td>\n",
       "      <td>0</td>\n",
       "      <td>0</td>\n",
       "      <td>0</td>\n",
       "    </tr>\n",
       "    <tr>\n",
       "      <th>4</th>\n",
       "      <td>Adam Warlock</td>\n",
       "      <td>0</td>\n",
       "      <td>0</td>\n",
       "      <td>0</td>\n",
       "      <td>0</td>\n",
       "      <td>0</td>\n",
       "      <td>0</td>\n",
       "      <td>0</td>\n",
       "      <td>0</td>\n",
       "      <td>0</td>\n",
       "      <td>...</td>\n",
       "      <td>0</td>\n",
       "      <td>0</td>\n",
       "      <td>0</td>\n",
       "      <td>0</td>\n",
       "      <td>0</td>\n",
       "      <td>0</td>\n",
       "      <td>0</td>\n",
       "      <td>0</td>\n",
       "      <td>0</td>\n",
       "      <td>1</td>\n",
       "    </tr>\n",
       "    <tr>\n",
       "      <th>...</th>\n",
       "      <td>...</td>\n",
       "      <td>...</td>\n",
       "      <td>...</td>\n",
       "      <td>...</td>\n",
       "      <td>...</td>\n",
       "      <td>...</td>\n",
       "      <td>...</td>\n",
       "      <td>...</td>\n",
       "      <td>...</td>\n",
       "      <td>...</td>\n",
       "      <td>...</td>\n",
       "      <td>...</td>\n",
       "      <td>...</td>\n",
       "      <td>...</td>\n",
       "      <td>...</td>\n",
       "      <td>...</td>\n",
       "      <td>...</td>\n",
       "      <td>...</td>\n",
       "      <td>...</td>\n",
       "      <td>...</td>\n",
       "      <td>...</td>\n",
       "    </tr>\n",
       "    <tr>\n",
       "      <th>692</th>\n",
       "      <td>Yellowjacket (Marvel Comics)</td>\n",
       "      <td>0</td>\n",
       "      <td>0</td>\n",
       "      <td>0</td>\n",
       "      <td>0</td>\n",
       "      <td>0</td>\n",
       "      <td>0</td>\n",
       "      <td>0</td>\n",
       "      <td>0</td>\n",
       "      <td>0</td>\n",
       "      <td>...</td>\n",
       "      <td>0</td>\n",
       "      <td>0</td>\n",
       "      <td>0</td>\n",
       "      <td>0</td>\n",
       "      <td>0</td>\n",
       "      <td>0</td>\n",
       "      <td>0</td>\n",
       "      <td>0</td>\n",
       "      <td>0</td>\n",
       "      <td>2</td>\n",
       "    </tr>\n",
       "    <tr>\n",
       "      <th>693</th>\n",
       "      <td>Yo-Yo Rodriguez</td>\n",
       "      <td>0</td>\n",
       "      <td>0</td>\n",
       "      <td>0</td>\n",
       "      <td>0</td>\n",
       "      <td>0</td>\n",
       "      <td>0</td>\n",
       "      <td>0</td>\n",
       "      <td>0</td>\n",
       "      <td>0</td>\n",
       "      <td>...</td>\n",
       "      <td>0</td>\n",
       "      <td>0</td>\n",
       "      <td>0</td>\n",
       "      <td>0</td>\n",
       "      <td>0</td>\n",
       "      <td>0</td>\n",
       "      <td>0</td>\n",
       "      <td>0</td>\n",
       "      <td>0</td>\n",
       "      <td>1</td>\n",
       "    </tr>\n",
       "    <tr>\n",
       "      <th>694</th>\n",
       "      <td>Zeke Stane</td>\n",
       "      <td>0</td>\n",
       "      <td>0</td>\n",
       "      <td>0</td>\n",
       "      <td>0</td>\n",
       "      <td>0</td>\n",
       "      <td>0</td>\n",
       "      <td>0</td>\n",
       "      <td>0</td>\n",
       "      <td>0</td>\n",
       "      <td>...</td>\n",
       "      <td>0</td>\n",
       "      <td>0</td>\n",
       "      <td>0</td>\n",
       "      <td>0</td>\n",
       "      <td>0</td>\n",
       "      <td>0</td>\n",
       "      <td>0</td>\n",
       "      <td>0</td>\n",
       "      <td>0</td>\n",
       "      <td>0</td>\n",
       "    </tr>\n",
       "    <tr>\n",
       "      <th>695</th>\n",
       "      <td>Zheng Zu</td>\n",
       "      <td>0</td>\n",
       "      <td>0</td>\n",
       "      <td>0</td>\n",
       "      <td>0</td>\n",
       "      <td>0</td>\n",
       "      <td>0</td>\n",
       "      <td>0</td>\n",
       "      <td>0</td>\n",
       "      <td>0</td>\n",
       "      <td>...</td>\n",
       "      <td>0</td>\n",
       "      <td>0</td>\n",
       "      <td>0</td>\n",
       "      <td>0</td>\n",
       "      <td>0</td>\n",
       "      <td>0</td>\n",
       "      <td>0</td>\n",
       "      <td>0</td>\n",
       "      <td>0</td>\n",
       "      <td>0</td>\n",
       "    </tr>\n",
       "    <tr>\n",
       "      <th>696</th>\n",
       "      <td>Zzzax</td>\n",
       "      <td>0</td>\n",
       "      <td>0</td>\n",
       "      <td>0</td>\n",
       "      <td>0</td>\n",
       "      <td>0</td>\n",
       "      <td>0</td>\n",
       "      <td>0</td>\n",
       "      <td>0</td>\n",
       "      <td>0</td>\n",
       "      <td>...</td>\n",
       "      <td>0</td>\n",
       "      <td>0</td>\n",
       "      <td>0</td>\n",
       "      <td>0</td>\n",
       "      <td>0</td>\n",
       "      <td>0</td>\n",
       "      <td>0</td>\n",
       "      <td>0</td>\n",
       "      <td>0</td>\n",
       "      <td>0</td>\n",
       "    </tr>\n",
       "  </tbody>\n",
       "</table>\n",
       "<p>697 rows × 436 columns</p>\n",
       "</div>"
      ],
      "text/plain": [
       "                       Unnamed: 0  #Fearsome Four  1991 in comics  \\\n",
       "0                   Abner Jenkins               0               0   \n",
       "1         Abomination (character)               0               0   \n",
       "2               Abraham Cornelius               0               0   \n",
       "3                   Absorbing Man               0               0   \n",
       "4                    Adam Warlock               0               0   \n",
       "..                            ...             ...             ...   \n",
       "692  Yellowjacket (Marvel Comics)               0               0   \n",
       "693               Yo-Yo Rodriguez               0               0   \n",
       "694                    Zeke Stane               0               0   \n",
       "695                      Zheng Zu               0               0   \n",
       "696                         Zzzax               0               0   \n",
       "\n",
       "     2013 in comics  A-Force  A-Next  A.I. Army  A.R.M.O.R.  \\\n",
       "0                 0        0       0          0           0   \n",
       "1                 0        0       0          0           0   \n",
       "2                 0        0       0          0           0   \n",
       "3                 0        0       0          0           0   \n",
       "4                 0        0       0          0           0   \n",
       "..              ...      ...     ...        ...         ...   \n",
       "692               0        0       0          0           0   \n",
       "693               0        0       0          0           0   \n",
       "694               0        0       0          0           0   \n",
       "695               0        0       0          0           0   \n",
       "696               0        0       0          0           0   \n",
       "\n",
       "     Acolytes (comics)  Action Pack (comics)  ...  \\\n",
       "0                    0                     0  ...   \n",
       "1                    0                     0  ...   \n",
       "2                    0                     0  ...   \n",
       "3                    0                     0  ...   \n",
       "4                    0                     0  ...   \n",
       "..                 ...                   ...  ...   \n",
       "692                  0                     0  ...   \n",
       "693                  0                     0  ...   \n",
       "694                  0                     0  ...   \n",
       "695                  0                     0  ...   \n",
       "696                  0                     0  ...   \n",
       "\n",
       "     Xavier Institute student body  Xavier's Security Enforcers  Yakuza  \\\n",
       "0                                0                            0       0   \n",
       "1                                0                            0       0   \n",
       "2                                0                            0       0   \n",
       "3                                0                            0       0   \n",
       "4                                0                            0       0   \n",
       "..                             ...                          ...     ...   \n",
       "692                              0                            0       0   \n",
       "693                              0                            0       0   \n",
       "694                              0                            0       0   \n",
       "695                              0                            0       0   \n",
       "696                              0                            0       0   \n",
       "\n",
       "     Young Allies  Young Allies (Marvel Comics)  Young Avengers  \\\n",
       "0               0                             0               0   \n",
       "1               0                             0               0   \n",
       "2               0                             0               0   \n",
       "3               0                             0               0   \n",
       "4               0                             0               0   \n",
       "..            ...                           ...             ...   \n",
       "692             0                             0               0   \n",
       "693             0                             0               0   \n",
       "694             0                             0               0   \n",
       "695             0                             0               0   \n",
       "696             0                             0               0   \n",
       "\n",
       "     Young Masters  Young X-Men  Zodiac (comics)  faction  \n",
       "0                0            0                0        2  \n",
       "1                0            0                0        1  \n",
       "2                0            0                0        0  \n",
       "3                0            0                0        0  \n",
       "4                0            0                0        1  \n",
       "..             ...          ...              ...      ...  \n",
       "692              0            0                0        2  \n",
       "693              0            0                0        1  \n",
       "694              0            0                0        0  \n",
       "695              0            0                0        0  \n",
       "696              0            0                0        0  \n",
       "\n",
       "[697 rows x 436 columns]"
      ]
     },
     "execution_count": 48,
     "metadata": {},
     "output_type": "execute_result"
    }
   ],
   "source": [
    "import pandas as pd\n",
    "df = pd.read_csv('../outputs/marvel_characters.csv')\n",
    "df"
   ]
  },
  {
   "cell_type": "markdown",
   "metadata": {},
   "source": [
    "### Part 1: Decision trees"
   ]
  },
  {
   "cell_type": "markdown",
   "metadata": {},
   "source": [
    "In part 1 you will implement the decision making algorithm of a decision tree classifier, step by step."
   ]
  },
  {
   "cell_type": "markdown",
   "metadata": {
    "ExecuteTime": {
     "end_time": "2017-08-23T14:01:10.834257Z",
     "start_time": "2017-08-23T14:01:10.826472Z"
    }
   },
   "source": [
    ">**Ex. 5.1.1**: Read about [Shannon entropy](https://en.wikipedia.org/wiki/Entropy_(information_theory)).\n",
    "1. What is it? How is it defined mathematically (write out the formula in LateX formatting)?\n",
    "2. Write a function that computes the Shannon-entropy of a probability vector. Compute the Shannon entropy of `p=[0.2, 0.3, 0.5]`."
   ]
  },
  {
   "cell_type": "markdown",
   "metadata": {},
   "source": [
    "5.1.1.1: Shannon entropy is the average amount of information contained in knowing the state of a point in a dataset. Shannon entropy is defined mathematically as $$H(X) = - \\sum_{x \\in \\Omega} p(x)\\log p(x)$$\n",
    "where $X$ is a discrete random variable distributed across $p: \\Omega \\rightarrow [0, 1]$"
   ]
  },
  {
   "cell_type": "code",
   "execution_count": 49,
   "metadata": {},
   "outputs": [
    {
     "data": {
      "text/plain": [
       "1.4854752972273344"
      ]
     },
     "execution_count": 49,
     "metadata": {},
     "output_type": "execute_result"
    }
   ],
   "source": [
    "import math\n",
    "def shannon(prob_vec):\n",
    "    return -sum(0 if prob == 0 else prob * math.log(prob, 2) for prob in prob_vec)\n",
    "\n",
    "shannon([0.2, 0.3, 0.5])"
   ]
  },
  {
   "cell_type": "markdown",
   "metadata": {
    "ExecuteTime": {
     "end_time": "2017-08-23T14:01:10.834257Z",
     "start_time": "2017-08-23T14:01:10.826472Z"
    }
   },
   "source": [
    ">**Ex. 5.1.2**: Split your data (`data_teams`) into two subsets. One where characters are affiliated with X-men and one where they are not.\n",
    "1. What is the entropy of target labels in each subset?\n",
    "2. What is the weighted average entropy of the split?\n",
    "3. Write a function that computes the weighted average entropy of a split, given the data and team (name or id) on which to split the data. Show that it gives you the same split entropy that you obtained in point 2.\n",
    "4. Plot the distribution of split entropy for all features. Comment on the result. My figure looks [like this](https://dhsvendsen.github.io/images/BD_5_1_2_4.png)."
   ]
  },
  {
   "cell_type": "code",
   "execution_count": 50,
   "metadata": {},
   "outputs": [
    {
     "data": {
      "text/plain": [
       "'The X-Men have a shannon entropy of 1.2189514568588302 and the non-X-Men have a shannon_entropy of 1.4113733977368847'"
      ]
     },
     "execution_count": 50,
     "metadata": {},
     "output_type": "execute_result"
    }
   ],
   "source": [
    "# 5.1.2.1\n",
    "xman = df.loc[(df['X-Men'] == 1)]\n",
    "non_xman = df.loc[(df['X-Men'] != 1)]\n",
    "# get the proportion of each faction in the xman dataframe\n",
    "xman_prob_vec = [len(xman.loc[(xman['faction'] == faction)]) / len(xman) for faction in range(0, 3)]\n",
    "non_xman_prob_vec = [len(non_xman.loc[(non_xman['faction'] == faction)]) / len(non_xman) for faction in range(0, 3)]\n",
    "f'The X-Men have a shannon entropy of {shannon(xman_prob_vec)} and the non-X-Men have a shannon_entropy of {shannon(non_xman_prob_vec)}'"
   ]
  },
  {
   "cell_type": "code",
   "execution_count": 51,
   "metadata": {},
   "outputs": [
    {
     "data": {
      "text/plain": [
       "1.4025391048988678"
      ]
     },
     "execution_count": 51,
     "metadata": {},
     "output_type": "execute_result"
    }
   ],
   "source": [
    "# 5.1.2.2\n",
    "weighted_average_across_xman_split = ((shannon(xman_prob_vec) * len(xman)) + (shannon(non_xman_prob_vec) * len(non_xman))) / (len(xman) + len(non_xman))\n",
    "weighted_average_across_xman_split"
   ]
  },
  {
   "cell_type": "code",
   "execution_count": 52,
   "metadata": {},
   "outputs": [
    {
     "data": {
      "text/plain": [
       "1.4025391048988678"
      ]
     },
     "execution_count": 52,
     "metadata": {},
     "output_type": "execute_result"
    }
   ],
   "source": [
    "# 5.1.2.3\n",
    "def avg_weighted_shannon_across_split(df, split, entropy_feature, possible_entropy_feature_values):\n",
    "    a = df.loc[(df[split] == 1)]\n",
    "    b = df.loc[(df[split] != 1)]\n",
    "    if (len(a) == 0 or len(b) == 0):\n",
    "        print(split)\n",
    "    a_vec = [len(a.loc[(a[entropy_feature] == feat)]) / len(a) for feat in possible_entropy_feature_values]\n",
    "    b_vec = [len(b.loc[(b[entropy_feature] == feat)]) / len(b) for feat in possible_entropy_feature_values]\n",
    "    try:\n",
    "        return ((shannon(a_vec) * len(a)) + (shannon(b_vec) * len(b))) / (len(a) + len(b))\n",
    "    except:\n",
    "        print(f'{a_vec} {b_vec} {split}')\n",
    "\n",
    "avg_weighted_shannon_across_split(df, 'X-Men', 'faction', range(0, 3))"
   ]
  },
  {
   "cell_type": "code",
   "execution_count": 46,
   "metadata": {},
   "outputs": [
    {
     "data": {
      "text/plain": [
       "(array([  2.,   1.,   1.,   1.,   2.,   6.,   8.,  24.,  80., 309.]),\n",
       " array([1.37670094, 1.38147561, 1.38625027, 1.39102493, 1.3957996 ,\n",
       "        1.40057426, 1.40534893, 1.41012359, 1.41489826, 1.41967292,\n",
       "        1.42444758]),\n",
       " <BarContainer object of 10 artists>)"
      ]
     },
     "execution_count": 46,
     "metadata": {},
     "output_type": "execute_result"
    },
    {
     "data": {
      "image/png": "[encoded data removed]",
      "text/plain": [
       "<Figure size 640x480 with 1 Axes>"
      ]
     },
     "metadata": {},
     "output_type": "display_data"
    }
   ],
   "source": [
    "# 5.1.2.4\n",
    "from matplotlib import pyplot as plt\n",
    "split_entropies = [avg_weighted_shannon_across_split(df, col, 'faction', range(0, 3)) for col in df.columns.values[1:-1]]\n",
    "plt.hist(split_entropies)"
   ]
  },
  {
   "cell_type": "markdown",
   "metadata": {
    "ExecuteTime": {
     "end_time": "2017-08-23T14:01:10.834257Z",
     "start_time": "2017-08-23T14:01:10.826472Z"
    }
   },
   "source": [
    ">**Ex. 5.1.EXTRA**: Print the maximum entropy path of a decision tree. Before you start, make a copy of `data_teams` called `data`.\n",
    ">\n",
    ">1. Implement the following pseudocode and print the output:<br><br>\n",
    ">Step 1. Find `team` that gives lowest split entropy for `data`. Print `team`.<br>\n",
    ">Step 2. Split `data` on `team`, to produce `data0` and `data1`. Print the entropy of each, as well as the weighted avg. entropy.<br>\n",
    ">Step 3. Overwrite the `data` variable with either `data0` or `data1`, depending on which has the highest entropy.<br>\n",
    ">Step 4. Stop if there are less than 5 datapoints in `data`. Otherwise start over from 1.<br><br>\n",
    ">My output looks [like this](https://dhsvendsen.github.io/images/BD_5_1_1.png) for the first five splits.<br><br>\n",
    ">\n",
    ">2. Comment on decision path your code takes: How many splits are there? Do you notice anything interesting about the final splits?\n",
    ">3. Train a `sklearn.tree.DecisionTreeClassifier` classifier on the dataset. Initiate the classifier with `criterion='entropy'`. What are the most important features of this classifier? How does this line up with the order of splits you just printed (a comment is fine)?\n",
    ">\n",
    "> **Will not be included in the assignment. Worth up to 10 extra credit.**"
   ]
  },
  {
   "cell_type": "markdown",
   "metadata": {},
   "source": [
    "### Part 2: Logistic regression"
   ]
  },
  {
   "cell_type": "markdown",
   "metadata": {},
   "source": [
    "Logistic regressions are great baseline models for comparing how well a more complicated model works.\n",
    "They are literally just linear regressions where the output is *squeezed* through a `sigmoid` function,\n",
    "so the returned value is between 0 and 1 (which can be interpreted as a probability if one so desired)."
   ]
  },
  {
   "cell_type": "markdown",
   "metadata": {
    "ExecuteTime": {
     "end_time": "2017-08-23T14:01:10.834257Z",
     "start_time": "2017-08-23T14:01:10.826472Z"
    }
   },
   "source": [
    ">**Ex. 5.2.1**: Implement a logistic regression model.\n",
    "Below I have implemented a *linear* regression model which takes *two* input parameter.\n",
    "Create another function, `logistic_regression` that takes again two input\n",
    "variables and returns a value between 0 and 1. Demonstrate that it works by inputting\n",
    "the data, `x=[1, 1]`, and parameters, `w0=1`, `w1=1` and `w2=0`, below, and show that it gives 0.88.\n",
    ">\n",
    ">*Hint*: The `sigmoid` function can look like this:\n",
    ">\n",
    ">        def sigmoid(x):\n",
    ">            return 1 / (1 + np.exp(-x))"
   ]
  },
  {
   "cell_type": "code",
   "execution_count": 59,
   "metadata": {},
   "outputs": [
    {
     "data": {
      "text/plain": [
       "array([0.88079708])"
      ]
     },
     "execution_count": 59,
     "metadata": {},
     "output_type": "execute_result"
    }
   ],
   "source": [
    "import numpy as np\n",
    "def linear_regression(x, w0, w1, w2):\n",
    "    return x[:,0]*w0 + x[:,1]*w1 + w2\n",
    "\n",
    "def logistic_regression(x, w0, w1, w2):\n",
    "    lin_reg = linear_regression(x, w0, w1, w2)\n",
    "    return 1 / (1 + np.exp(-lin_reg))\n",
    "\n",
    "# example\n",
    "x = np.array([[1, 1]])\n",
    "w0 = 1; w1 = 1; w2 = 0\n",
    "logistic_regression(x, w0, w1, w2)"
   ]
  },
  {
   "cell_type": "markdown",
   "metadata": {},
   "source": [
    "> The function below generates some 2d data with labels. Show that the current parameter values (`w0 = -1; w1 = 2; w2 = -2`) of the `logistic_regression` function you wrote are not optimal by plotting `x[:, 0]` vs. `x[:, 1]` and colouring the points according to their predicted output-values (y's). I.e. setting `c=predictions` in the scatterplot. My figure looks like [this](https://dhsvendsen.github.io/images/BD_5_2_2_a.png)."
   ]
  },
  {
   "cell_type": "code",
   "execution_count": 70,
   "metadata": {
    "ExecuteTime": {
     "end_time": "2020-01-10T20:03:52.954182Z",
     "start_time": "2020-01-10T20:03:52.948047Z"
    }
   },
   "outputs": [
    {
     "data": {
      "image/png": "[encoded data removed]",
      "text/plain": [
       "<Figure size 640x480 with 1 Axes>"
      ]
     },
     "metadata": {},
     "output_type": "display_data"
    }
   ],
   "source": [
    "from scipy.optimize import curve_fit\n",
    "import numpy as np\n",
    "\n",
    "def generate_X_linear(N=200):\n",
    "    \"\"\"A little function that creates some data.\"\"\"\n",
    "    x = np.vstack([\n",
    "        np.random.normal([-1.5, -1.5], 1, size=(int(N/2), 2)),\n",
    "        np.random.normal([1.5, 1.5], 1, size=(int(N/2), 2))\n",
    "    ])\n",
    "\n",
    "    y = np.array([0] * int(N/2) + [1] * int(N/2))\n",
    "    \n",
    "    return x, y\n",
    "\n",
    "# Generate input and output data\n",
    "x, y = generate_X_linear()\n",
    "w0 = -1; w1 = 2; w2 = -2\n",
    "predictions = logistic_regression(x, w0, w1, w2)\n",
    "fig = plt.scatter(x[:, 0], x[:, 1], c= predictions)"
   ]
  },
  {
   "cell_type": "code",
   "execution_count": 71,
   "metadata": {},
   "outputs": [
    {
     "data": {
      "image/png": "[encoded data removed]",
      "text/plain": [
       "<Figure size 640x480 with 2 Axes>"
      ]
     },
     "metadata": {},
     "output_type": "display_data"
    }
   ],
   "source": [
    "import matplotlib.pyplot as plt\n",
    "\n",
    "# Plot and color by actual class-label\n",
    "plt.scatter(x[:,0], x[:,1], c=y)\n",
    "plt.colorbar();"
   ]
  },
  {
   "cell_type": "markdown",
   "metadata": {
    "ExecuteTime": {
     "end_time": "2017-08-23T14:01:10.834257Z",
     "start_time": "2017-08-23T14:01:10.826472Z"
    }
   },
   "source": [
    ">**Ex. 5.2.2**: *Fit* a logistic regression! You can use the `scipy` module `scipy.optimize.curve_fit`\n",
    "to fit a model to some data (i.e. find the best parameter values `w`). \n",
    "> Fit the `logistic_regression` to the data `x` (input) and `y` (target).\n",
    "> Again, plot and color the points according to their prediction. My figure looks like [this](https://dhsvendsen.github.io/images/BD_5_2_2_b.png). Comment on the figure and on the shape of the decision boundary."
   ]
  },
  {
   "cell_type": "code",
   "execution_count": 75,
   "metadata": {},
   "outputs": [
    {
     "data": {
      "text/plain": [
       "(array([75.09090071, 58.78678274,  7.68129692]),\n",
       " array([[2817481.59830399, 2222997.53701406, 1134130.95867278],\n",
       "        [2222997.53701406, 1753948.67974174,  894831.17531876],\n",
       "        [1134130.95867278,  894831.17531876,  456525.81664946]]))"
      ]
     },
     "execution_count": 75,
     "metadata": {},
     "output_type": "execute_result"
    }
   ],
   "source": [
    "params = curve_fit(logistic_regression, x, y)[0]\n"
   ]
  },
  {
   "cell_type": "markdown",
   "metadata": {},
   "source": [
    "### Part 3 (extra): Neural networks"
   ]
  },
  {
   "cell_type": "markdown",
   "metadata": {},
   "source": [
    "These days, neural networks are probably the hottest item in machine learning, and for good reason. Neural networks *can* be a bit of a mouthful to understand, and since I didn't talk about them in this course much (if at all), you can solve this problem if you have sufficient interest for it. That said, it is a skill well worth investing in.\n",
    "\n",
    "We will be using the deep learning library **PyTorch** to build some neural networks with which we can play around with. *Nerdnote: Why not something more high-level such as Keras with a Tensorflow backend? Well PyTorch is easier to install. And using it, it's clearer what actually happens when you fit a neural network. Finally, for those taking the ANN course it's good to see something new.*\n",
    "\n",
    "To get torch running you need to first install it. It's should be fairly straight forward, but depending on\n",
    "your machine you may have to run different commands to install it. Check out the installation guide [here](https://pytorch.org/).\n",
    "\n",
    "Once you've installed it you should be able to go:"
   ]
  },
  {
   "cell_type": "code",
   "execution_count": null,
   "metadata": {
    "ExecuteTime": {
     "end_time": "2020-01-10T20:11:01.452132Z",
     "start_time": "2020-01-10T20:11:00.948643Z"
    }
   },
   "outputs": [],
   "source": [
    "import torch"
   ]
  },
  {
   "cell_type": "markdown",
   "metadata": {},
   "source": [
    "No errors? Great! Then let's make a small neural network that we know all to well at this point, and see if we can classify points with it. First, we generate some data."
   ]
  },
  {
   "cell_type": "code",
   "execution_count": null,
   "metadata": {
    "ExecuteTime": {
     "end_time": "2020-01-10T20:11:08.210033Z",
     "start_time": "2020-01-10T20:11:08.180133Z"
    }
   },
   "outputs": [],
   "source": [
    "def generate_X_nonlinear(N=200, R=5):\n",
    "\n",
    "    X_inner = torch.randn(int(N/2), 2)\n",
    "\n",
    "    X_outer = torch.tensor([\n",
    "        [R*np.cos(theta), R*np.sin(theta)]\n",
    "        for theta in np.linspace(0, 2 * np.pi, int(N/2))\n",
    "    ]) + torch.randn(int(N/2), 2)\n",
    "\n",
    "    X = torch.cat([X_inner, X_outer], dim=0)\n",
    "   \n",
    "    y = torch.cat([\n",
    "        torch.zeros(int(N/2)).reshape(-1, 1),\n",
    "        torch.ones(int(N/2)).reshape(-1, 1)\n",
    "    ])\n",
    "    \n",
    "    return X, y\n",
    "\n",
    "# Number of training datapoints\n",
    "N = 500\n",
    "\n",
    "# Generate the data (note that code is using torch arrays now)\n",
    "x, y = generate_X_nonlinear(N)"
   ]
  },
  {
   "cell_type": "markdown",
   "metadata": {},
   "source": [
    "Using this data, we can now set up a neural network and train it. We are not going to do anything fancy here, just make a simple 2-layer feed forward neural network with 2 input neurons, 3 hidden neurons and 1 output neuron."
   ]
  },
  {
   "cell_type": "code",
   "execution_count": null,
   "metadata": {
    "ExecuteTime": {
     "end_time": "2020-01-10T20:11:10.492454Z",
     "start_time": "2020-01-10T20:11:10.489791Z"
    }
   },
   "outputs": [],
   "source": [
    "# The layers and their number of neurons\n",
    "sizes = [2, 3, 1]"
   ]
  },
  {
   "cell_type": "markdown",
   "metadata": {},
   "source": [
    "We then need to define the model. PyTorch has an API called `Sequential` that makes this pretty easy. Try to get an idea of what the below code is doing."
   ]
  },
  {
   "cell_type": "code",
   "execution_count": null,
   "metadata": {
    "ExecuteTime": {
     "end_time": "2020-01-10T20:11:13.559775Z",
     "start_time": "2020-01-10T20:11:13.554596Z"
    }
   },
   "outputs": [],
   "source": [
    "model = torch.nn.Sequential(\n",
    "    torch.nn.Linear(sizes[0], sizes[1]),\n",
    "    torch.nn.Sigmoid(),\n",
    "    torch.nn.Linear(sizes[1], sizes[2]),\n",
    "    torch.nn.Sigmoid()\n",
    ")"
   ]
  },
  {
   "cell_type": "markdown",
   "metadata": {},
   "source": [
    "Finally we need to define a loss function. We are just going to use the sum of squared errors, and again PyTorch has got an implementation we can pick right off the shelf."
   ]
  },
  {
   "cell_type": "code",
   "execution_count": null,
   "metadata": {
    "ExecuteTime": {
     "end_time": "2020-01-10T20:11:35.908984Z",
     "start_time": "2020-01-10T20:11:35.905765Z"
    }
   },
   "outputs": [],
   "source": [
    "loss_fn = torch.nn.MSELoss(reduction='sum')"
   ]
  },
  {
   "cell_type": "markdown",
   "metadata": {},
   "source": [
    "And then we can just train it! We pick a learning rate parameter (which is how big the steps we take during\n",
    "gradient descent are), define an *optimizer* which is a wrapper for training that abstracts away all the\n",
    "usual steps. The `epochs` are simply the number of times we train on the entire dataset. Then we are ready to\n",
    "train!"
   ]
  },
  {
   "cell_type": "code",
   "execution_count": null,
   "metadata": {
    "ExecuteTime": {
     "end_time": "2020-01-10T20:11:40.927457Z",
     "start_time": "2020-01-10T20:11:40.626962Z"
    }
   },
   "outputs": [],
   "source": [
    "# Hyper-parameters\n",
    "learning_rate = 1e-1\n",
    "epochs = 100\n",
    "mini_batch_size = 100\n",
    "\n",
    "# Optimization wrapper\n",
    "optimizer = torch.optim.Adam(model.parameters(), lr=learning_rate)\n",
    "\n",
    "# Train\n",
    "for t in range(epochs):\n",
    "    \n",
    "    # Randomly permute the row indices to get something like:\n",
    "    # tensor([16214, 18491, 16308,  ..., 19629, 17565, 24696])\n",
    "    permutation = torch.randperm(x.size()[0])\n",
    "    \n",
    "    # Start looping over the mini-batches! Each index `k` is\n",
    "    # `mini_batch_size` values apart.\n",
    "    for k in np.arange(0, x.size()[0], mini_batch_size):\n",
    "        \n",
    "        # Extract mini-batch data. The rest is the same\n",
    "        mini_batch_indices = permutation[k:k+mini_batch_size]\n",
    "        x_ = x[mini_batch_indices, :]\n",
    "        y_ = y[mini_batch_indices, :]\n",
    "        \n",
    "        # Forward pass\n",
    "        y_pred = model(x_)\n",
    "\n",
    "        # Compute loss\n",
    "        loss = loss_fn(y_pred, y_)\n",
    "\n",
    "        # Before the backward pass, use the optimizer object to zero all of the\n",
    "        # gradients for the variables it will update (which are the learnable\n",
    "        # weights of the model). This is because by default, gradients are\n",
    "        # accumulated in buffers (i.e, not overwritten) whenever .backward()\n",
    "        # is called. Checkout docs of torch.autograd.backward for more details.\n",
    "        optimizer.zero_grad()\n",
    "\n",
    "        # Backward pass\n",
    "        loss.backward()\n",
    "\n",
    "        # Calling the step function on an Optimizer makes an update to its\n",
    "        # parameters\n",
    "        optimizer.step()\n",
    "        \n",
    "        \n",
    "    # Print progress (here evaluating on all the data so we can compare)\n",
    "    if t % 10 == 0:\n",
    "        loss = loss_fn(model(x), y)\n",
    "        print(t, \"train:\", loss.item())"
   ]
  },
  {
   "cell_type": "markdown",
   "metadata": {},
   "source": [
    "Note that the errors we are showing here are the sum of squared errors. You'd have to jump through a small hoop (which is very doable) to get the accuracy. Also, this is the error on the training data. So there's no guarantee that we don't overfit here."
   ]
  },
  {
   "cell_type": "markdown",
   "metadata": {},
   "source": [
    "And now we can visualize the predictions next to the true labels!"
   ]
  },
  {
   "cell_type": "code",
   "execution_count": null,
   "metadata": {
    "ExecuteTime": {
     "end_time": "2020-01-10T20:11:48.642842Z",
     "start_time": "2020-01-10T20:11:48.634096Z"
    }
   },
   "outputs": [],
   "source": [
    "%matplotlib inline\n",
    "from scipy.interpolate import interp1d\n",
    "import matplotlib.pylab as plt\n",
    "\n",
    "class cmap_in_range:\n",
    "    \"\"\"Create map to range of colors inside given domain.\n",
    "\n",
    "    Example\n",
    "    -------\n",
    "    >>> cmap = cmap_in_range([0, 1])\n",
    "    >>> cmap(0.1)\n",
    "    (0.30392156862745101, 0.30315267411304353, 0.98816547208125938, 1.0)\n",
    "    \"\"\"\n",
    "    def __init__(self, cmap_domain, cmap_range=[0, 1], cmap_style='rainbow'):\n",
    "        self.cmap_domain = cmap_domain\n",
    "        self.cmap_range = cmap_range\n",
    "        self.m = interp1d(cmap_domain, cmap_range)\n",
    "        self.cmap = plt.get_cmap(cmap_style)\n",
    "        \n",
    "    def __call__(self, value):\n",
    "        if not self.cmap_domain[0] <= value <= self.cmap_domain[1]:\n",
    "            raise Exception(\"Value must be inside cmap_domain.\")\n",
    "        return self.cmap(self.m(value))"
   ]
  },
  {
   "cell_type": "code",
   "execution_count": null,
   "metadata": {
    "ExecuteTime": {
     "end_time": "2020-01-10T20:11:51.223029Z",
     "start_time": "2020-01-10T20:11:50.753343Z"
    }
   },
   "outputs": [],
   "source": [
    "cmap = cmap_in_range([0, 1])\n",
    "\n",
    "y_true = y.reshape(-1).numpy()\n",
    "y_pred = model(x).data.numpy().reshape(-1)\n",
    "\n",
    "plt.figure(figsize=(9, 3))\n",
    "\n",
    "plt.subplot(1, 2, 1)\n",
    "plt.title(\"True\", fontsize=12)\n",
    "plt.scatter(x[:, 0], x[:, 1], color=list(map(cmap, y_true)))\n",
    "\n",
    "plt.subplot(1, 2, 2)\n",
    "plt.title(\"Predicted\", fontsize=12)\n",
    "plt.scatter(x[:, 0], x[:, 1], color=list(map(cmap, y_pred)))\n",
    "plt.show()"
   ]
  },
  {
   "cell_type": "markdown",
   "metadata": {},
   "source": [
    "Cool! Alright. Your turn..."
   ]
  },
  {
   "cell_type": "markdown",
   "metadata": {},
   "source": [
    "> **Ex. 5.3.EXTRA**: Can you fit a neural network like the above (maybe with more or less layers and different number of hidden neurons in each layer) to the marvel data to predict good vs. evil?\n",
    "* Make a random 80/20 split of the data for training and testing.\n",
    "* Train only on the 80% and report an accuracy on the 20%.\n",
    "* Comment on the result. Is it better than what you can obtain using a Random Forest classifier on the same training and test split?\n",
    ">\n",
    "> **Will not be included in the assignment. Worth up to 5 extra credit.**"
   ]
  }
 ],
 "metadata": {
  "kernelspec": {
   "display_name": "Python 3 (ipykernel)",
   "language": "python",
   "name": "python3"
  },
  "language_info": {
   "codemirror_mode": {
    "name": "ipython",
    "version": 3
   },
   "file_extension": ".py",
   "mimetype": "text/x-python",
   "name": "python",
   "nbconvert_exporter": "python",
   "pygments_lexer": "ipython3",
   "version": "3.9.13"
  },
  "nav_menu": {},
  "toc": {
   "base_numbering": 1,
   "nav_menu": {},
   "number_sections": false,
   "sideBar": true,
   "skip_h1_title": false,
   "title_cell": "Table of Contents",
   "title_sidebar": "Contents",
   "toc_cell": false,
   "toc_position": {},
   "toc_section_display": "block",
   "toc_window_display": true
  },
  "varInspector": {
   "cols": {
    "lenName": 16,
    "lenType": 16,
    "lenVar": 40
   },
   "kernels_config": {
    "python": {
     "delete_cmd_postfix": "",
     "delete_cmd_prefix": "del ",
     "library": "var_list.py",
     "varRefreshCmd": "print(var_dic_list())"
    },
    "r": {
     "delete_cmd_postfix": ") ",
     "delete_cmd_prefix": "rm(",
     "library": "var_list.r",
     "varRefreshCmd": "cat(var_dic_list()) "
    }
   },
   "types_to_exclude": [
    "module",
    "function",
    "builtin_function_or_method",
    "instance",
    "_Feature"
   ],
   "window_display": false
  }
 },
 "nbformat": 4,
 "nbformat_minor": 2
}
