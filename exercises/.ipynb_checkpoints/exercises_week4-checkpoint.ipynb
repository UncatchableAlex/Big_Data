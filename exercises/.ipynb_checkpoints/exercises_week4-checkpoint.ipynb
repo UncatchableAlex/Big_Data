{
 "cells": [
  {
   "cell_type": "markdown",
   "metadata": {},
   "source": [
    "# Week 4: Machine learning 1"
   ]
  },
  {
   "cell_type": "markdown",
   "metadata": {
    "ExecuteTime": {
     "end_time": "2017-08-23T15:30:03.634114Z",
     "start_time": "2017-08-23T15:30:03.629294Z"
    }
   },
   "source": [
    "Machine learning is a technique for learning patterns in data that enable computers to make decisions and predictions. It's probably one of the hottest skills to master as a scientist or engineer in research or industry today. This week, we'll get an overview of what machine learning is, what it can be used for and what its limits are. Without worrying too much about what goes on behind the scenes, we will play around with a few classifiers in Python and test model performance using cross validation. The exercises today cover:\n",
    "\n",
    "* Feature representation\n",
    "* Model fitting\n",
    "* Model evaluation\n",
    "* Prediction results"
   ]
  },
  {
   "cell_type": "markdown",
   "metadata": {},
   "source": [
    "## Exercises"
   ]
  },
  {
   "cell_type": "markdown",
   "metadata": {},
   "source": [
    "We want to predict whether a character is a hero or a villain from information that we can extract from their markup. This is a large problem that includes some data wrangling, model fitting and a bit of evaluation. Therefore the problem is split into parts."
   ]
  },
  {
   "cell_type": "markdown",
   "metadata": {},
   "source": [
    "### Part 1: Feature representation\n",
    "In it's raw format, the data cannot be given to a machine learning algorithm. What we must do is extract features from the data and put them into a structured format. This is the same as what we did when we looked at a dog (the data) and extracted into a matrix whether it was fluffy, sad looking, etc. (the features). The feature we will extract here is **team alliances**.\n",
    "\n",
    "We can represent the team alliances of each character as a row in a matrix where each column corresponds to a particular team. That should look something like this (numbers are made up):\n",
    "\n",
    "<img src=\"http://ulfaslak.com/computational_analysis_of_big_data/exer_figures/example_boa.png\" width=\"400\"/>\n",
    "\n",
    "**Note**: The following exercises relies on the dataset you produced in Ex. 3.1.2 (character markup stored on your computer). If you didn't manage to produce the dataset [use this](https://github.com/dhsvendsen/practical_data_science/tree/master/data) and go back and complete it at a later time so that you get the most out of this session."
   ]
  },
  {
   "cell_type": "markdown",
   "metadata": {},
   "source": [
    "> **Ex.4.1.1 (solved)**: Write a function called `get_alliances` that takes the name of a character and returns a list of teams that the character is allied with. Print the alliances of Scarlet Witch.\n",
    ">\n",
    ">*Hint: There is a place in the character markup where you'll find the team affiliations and you want to write some code that can extract that. The affiliations are not always listed the same way so you should probably try to eyeball some of the documents to get a feel for how the formatting can look.*"
   ]
  },
  {
   "cell_type": "code",
   "execution_count": 1,
   "metadata": {
    "ExecuteTime": {
     "end_time": "2020-01-12T13:29:12.372855Z",
     "start_time": "2020-01-12T13:29:12.366400Z"
    }
   },
   "outputs": [],
   "source": [
    "import re, os\n",
    "\n",
    "def get_alliances(char, faction=None):\n",
    "    \"\"\"Return list of alliances for Marvel character.\n",
    "    \n",
    "    Input\n",
    "    -----\n",
    "        char : str\n",
    "            A valid character name of any faction\n",
    "        faction : str\n",
    "            Either 'heroes', 'villains', 'ambiguous' or None. If None, the function\n",
    "            looks through the respective faction folders to figure out which faction\n",
    "            `char` belongs to. The function is therefore FASTER if `faction` is provided\n",
    "    \n",
    "    Output\n",
    "    ------\n",
    "        out : list of strings\n",
    "            List of alliance names\n",
    "    \"\"\"\n",
    "    \n",
    "    # If faction is not provided, figure out which faction it is by looping through\n",
    "    # folders of character names\n",
    "    if faction is None:\n",
    "        for faction in [\"heroes\", \"villains\", \"ambiguous\"]:\n",
    "            if char + \".txt\" in os.listdir(\"../data/%s\" % faction):\n",
    "                break\n",
    "    \n",
    "    # Load character markup\n",
    "    with open(\"../data/%s/%s.txt\" % (faction, char)) as fp:\n",
    "         markup = fp.read()\n",
    "\n",
    "    # Get alliance field\n",
    "    alliances_field = re.findall(r\"\\| *alliances[\\w\\W]+?(?=\\|.+=|\\}\\})\", markup)\n",
    "    if alliances_field == []:\n",
    "        return []\n",
    "\n",
    "    # Extract teams from alliance field\n",
    "    return [\n",
    "        t[2:-1]\n",
    "        for t in re.findall(r\"\\[\\[.+?[\\]\\|\\#]\", alliances_field[0][10:])\n",
    "        if not 'List of' in t\n",
    "    ]"
   ]
  },
  {
   "cell_type": "code",
   "execution_count": 2,
   "metadata": {
    "ExecuteTime": {
     "end_time": "2020-01-12T13:29:13.664065Z",
     "start_time": "2020-01-12T13:29:13.652907Z"
    }
   },
   "outputs": [
    {
     "data": {
      "text/plain": [
       "['Avengers (comics)',\n",
       " 'A-Force',\n",
       " 'Brotherhood of Mutants',\n",
       " 'Defenders (comics)',\n",
       " 'Force Works',\n",
       " 'Lady Liberators',\n",
       " 'Uncanny Avengers',\n",
       " 'West Coast Avengers']"
      ]
     },
     "execution_count": 2,
     "metadata": {},
     "output_type": "execute_result"
    }
   ],
   "source": [
    "get_alliances(\"Scarlet Witch\")"
   ]
  },
  {
   "cell_type": "markdown",
   "metadata": {},
   "source": [
    "> **Ex.4.1.2**: Produce a **sorted** (i.e. use the ``.sort()`` method) list called `all_teams` that contains all teams in the entire Marvel universe. Print the first 10."
   ]
  },
  {
   "cell_type": "code",
   "execution_count": 3,
   "metadata": {
    "scrolled": false
   },
   "outputs": [
    {
     "name": "stdout",
     "output_type": "stream",
     "text": [
      "['#Fearsome Four', '1991 in comics', '2013 in comics', 'A-Force', 'A-Next', 'A.I. Army', 'A.R.M.O.R.', 'Acolytes (comics)', 'Action Pack (comics)', 'Advanced Idea Mechanics']\n"
     ]
    }
   ],
   "source": [
    "factions = ('villains', 'heroes', 'ambiguous')\n",
    "characters = sorted([character[:-4] for faction in factions for character in os.listdir(\"../data/%s\" % faction)])\n",
    "all_teams_set = {alliance for character in characters for alliance in get_alliances(character)}\n",
    "all_teams = sorted(list(all_teams_set))\n",
    "print(all_teams[:10])\n",
    "#all_teams"
   ]
  },
  {
   "cell_type": "markdown",
   "metadata": {},
   "source": [
    "> **Ex.4.1.3**: Write a function that takes the name of a character and returns a vector representation of the team alliances for that character. The length of the returned list will be `len(all_teams)` and have 0s in the places corresponding to teams that the character is not on, and 1s in the places corresponding to teams the character is on. It may look something like:\n",
    ">\n",
    ">        [0, 0, 0, 0, 0, 1, 0, 0, ..., 0]\n",
    ">\n",
    "> Print the sum of the list returned when the input to the function is \"Scarlet Witch\". Show that this sum is equal to `len(get_alliances(\"Scarlet Witch\"))`."
   ]
  },
  {
   "cell_type": "code",
   "execution_count": 4,
   "metadata": {},
   "outputs": [
    {
     "name": "stdout",
     "output_type": "stream",
     "text": [
      "scarlet witch vec: [0, 0, 0, 1, 0, 0, 0, 0, 0, 0, 0, 0, 0, 0, 0, 0, 0, 0, 0, 0, 0, 0, 0, 0, 0, 0, 0, 0, 1, 0, 0, 0, 0, 0, 0, 0, 0, 0, 0, 0, 0, 0, 0, 0, 0, 0, 1, 0, 0, 0, 0, 0, 0, 0, 0, 0, 0, 0, 0, 0, 0, 0, 0, 0, 0, 0, 0, 0, 0, 0, 0, 0, 0, 0, 0, 0, 0, 0, 0, 0, 0, 0, 0, 0, 1, 0, 0, 0, 0, 0, 0, 0, 0, 0, 0, 0, 0, 0, 0, 0, 0, 0, 0, 0, 0, 0, 0, 0, 0, 0, 0, 0, 0, 0, 0, 0, 0, 0, 0, 0, 0, 0, 0, 0, 1, 0, 0, 0, 0, 0, 0, 0, 0, 0, 0, 0, 0, 0, 0, 0, 0, 0, 0, 0, 0, 0, 0, 0, 0, 0, 0, 0, 0, 0, 0, 0, 0, 0, 0, 0, 0, 0, 0, 0, 0, 0, 0, 0, 0, 0, 0, 0, 0, 0, 0, 0, 0, 0, 0, 0, 0, 0, 0, 0, 1, 0, 0, 0, 0, 0, 0, 0, 0, 0, 0, 0, 0, 0, 0, 0, 0, 0, 0, 0, 0, 0, 0, 0, 0, 0, 0, 0, 0, 0, 0, 0, 0, 0, 0, 0, 0, 0, 0, 0, 0, 0, 0, 0, 0, 0, 0, 0, 0, 0, 0, 0, 0, 0, 0, 0, 0, 0, 0, 0, 0, 0, 0, 0, 0, 0, 0, 0, 0, 0, 0, 0, 0, 0, 0, 0, 0, 0, 0, 0, 0, 0, 0, 0, 0, 0, 0, 0, 0, 0, 0, 0, 0, 0, 0, 0, 0, 0, 0, 0, 0, 0, 0, 0, 0, 0, 0, 0, 0, 0, 0, 0, 0, 0, 0, 0, 0, 0, 0, 0, 0, 0, 0, 0, 0, 0, 0, 0, 0, 0, 0, 0, 0, 0, 0, 0, 0, 0, 0, 0, 0, 0, 0, 0, 0, 0, 0, 0, 0, 0, 0, 0, 0, 0, 0, 0, 0, 0, 0, 0, 0, 0, 0, 0, 0, 0, 0, 0, 0, 0, 0, 0, 0, 0, 0, 0, 0, 0, 0, 0, 0, 0, 0, 0, 0, 0, 0, 0, 0, 0, 1, 0, 0, 0, 0, 0, 0, 0, 0, 0, 0, 0, 0, 0, 0, 0, 0, 0, 0, 0, 0, 0, 0, 0, 1, 0, 0, 0, 0, 0, 0, 0, 0, 0, 0, 0, 0, 0, 0, 0, 0, 0, 0, 0, 0, 0, 0, 0, 0, 0, 0, 0, 0, 0, 0, 0, 0, 0, 0, 0] \n",
      " sums to 8\n"
     ]
    }
   ],
   "source": [
    "def alliance_vector(character_name, alliances_sorted):\n",
    "    character_alliances = set(get_alliances(character_name))\n",
    "    return [(1 if alliance in character_alliances else 0) for alliance in alliances_sorted]\n",
    "\n",
    "vec = alliance_vector('Scarlet Witch', all_teams)\n",
    "print(f'scarlet witch vec: {vec} \\n sums to {sum(vec)}')"
   ]
  },
  {
   "cell_type": "markdown",
   "metadata": {
    "ExecuteTime": {
     "end_time": "2017-08-23T14:01:10.834257Z",
     "start_time": "2017-08-23T14:01:10.826472Z"
    }
   },
   "source": [
    "> **Ex. 4.1.4**: Vectorize and save your data:\n",
    "1. Create a feature matrix (a \"team alliance matrix\") similar in form to the matrix illustrated at the top of this notebook, in that every row corresponds to a character and every column a team. In a seperate *target* array: store whether characters are villains (denote by 0), heroes (denote by 1) or ambiguous (denote by 2). **Do not include characters that have no team alliances**. The number of rows in your feature matrix should equal the length of the target array. **Print their shapes to show that they match each other.**\n",
    "2. Create a new `pandas.DataFrame` called `data` that stores all this data. Rows should be indexed with character names, columns should be indexed team names and the rightmost column should be the target array. [Here is what it should look like](https://dhsvendsen.github.io/images/BD_4_1_4_2.png) (depending on the data you were able to scrape from wikipedia). Save this dataframe as a CSV file to a local folder. Load it again and **show that it looks right** (don't use `print`!), you will need it in the coming weeks."
   ]
  },
  {
   "cell_type": "code",
   "execution_count": 5,
   "metadata": {},
   "outputs": [],
   "source": [
    "# 4.1.4.1\n",
    "characters_with_alliances = sorted([character for character in characters if sum(alliance_vector(character, all_teams)) > 0])\n",
    "feature_matrix = [alliance_vector(character, all_teams) for character in characters_with_alliances]\n",
    "targets = [(character[:-4], faction) for faction in range(len(factions)) for character in os.listdir(\"../data/%s\" % factions[faction])]\n",
    "target_matrix = [target[1] for target in sorted(targets) if target[0] in set(characters_with_alliances)]"
   ]
  },
  {
   "cell_type": "code",
   "execution_count": 6,
   "metadata": {},
   "outputs": [
    {
     "name": "stdout",
     "output_type": "stream",
     "text": [
      "There are 697 targets and 697 rows in our feature matrix\n"
     ]
    }
   ],
   "source": [
    "print(f'There are {len(target_matrix)} targets and {len(feature_matrix)} rows in our feature matrix')"
   ]
  },
  {
   "cell_type": "code",
   "execution_count": 7,
   "metadata": {},
   "outputs": [
    {
     "data": {
      "text/html": [
       "<div>\n",
       "<style scoped>\n",
       "    .dataframe tbody tr th:only-of-type {\n",
       "        vertical-align: middle;\n",
       "    }\n",
       "\n",
       "    .dataframe tbody tr th {\n",
       "        vertical-align: top;\n",
       "    }\n",
       "\n",
       "    .dataframe thead th {\n",
       "        text-align: right;\n",
       "    }\n",
       "</style>\n",
       "<table border=\"1\" class=\"dataframe\">\n",
       "  <thead>\n",
       "    <tr style=\"text-align: right;\">\n",
       "      <th></th>\n",
       "      <th>#Fearsome Four</th>\n",
       "      <th>1991 in comics</th>\n",
       "      <th>2013 in comics</th>\n",
       "      <th>A-Force</th>\n",
       "      <th>A-Next</th>\n",
       "      <th>A.I. Army</th>\n",
       "      <th>A.R.M.O.R.</th>\n",
       "      <th>Acolytes (comics)</th>\n",
       "      <th>Action Pack (comics)</th>\n",
       "      <th>Advanced Idea Mechanics</th>\n",
       "      <th>...</th>\n",
       "      <th>Xavier Institute student body</th>\n",
       "      <th>Xavier's Security Enforcers</th>\n",
       "      <th>Yakuza</th>\n",
       "      <th>Young Allies</th>\n",
       "      <th>Young Allies (Marvel Comics)</th>\n",
       "      <th>Young Avengers</th>\n",
       "      <th>Young Masters</th>\n",
       "      <th>Young X-Men</th>\n",
       "      <th>Zodiac (comics)</th>\n",
       "      <th>faction</th>\n",
       "    </tr>\n",
       "  </thead>\n",
       "  <tbody>\n",
       "    <tr>\n",
       "      <th>Abner Jenkins</th>\n",
       "      <td>0</td>\n",
       "      <td>0</td>\n",
       "      <td>0</td>\n",
       "      <td>0</td>\n",
       "      <td>0</td>\n",
       "      <td>0</td>\n",
       "      <td>0</td>\n",
       "      <td>0</td>\n",
       "      <td>0</td>\n",
       "      <td>0</td>\n",
       "      <td>...</td>\n",
       "      <td>0</td>\n",
       "      <td>0</td>\n",
       "      <td>0</td>\n",
       "      <td>0</td>\n",
       "      <td>0</td>\n",
       "      <td>0</td>\n",
       "      <td>0</td>\n",
       "      <td>0</td>\n",
       "      <td>0</td>\n",
       "      <td>2</td>\n",
       "    </tr>\n",
       "    <tr>\n",
       "      <th>Abomination (character)</th>\n",
       "      <td>0</td>\n",
       "      <td>0</td>\n",
       "      <td>0</td>\n",
       "      <td>0</td>\n",
       "      <td>0</td>\n",
       "      <td>0</td>\n",
       "      <td>0</td>\n",
       "      <td>0</td>\n",
       "      <td>0</td>\n",
       "      <td>1</td>\n",
       "      <td>...</td>\n",
       "      <td>0</td>\n",
       "      <td>0</td>\n",
       "      <td>0</td>\n",
       "      <td>0</td>\n",
       "      <td>0</td>\n",
       "      <td>0</td>\n",
       "      <td>0</td>\n",
       "      <td>0</td>\n",
       "      <td>0</td>\n",
       "      <td>1</td>\n",
       "    </tr>\n",
       "    <tr>\n",
       "      <th>Abraham Cornelius</th>\n",
       "      <td>0</td>\n",
       "      <td>0</td>\n",
       "      <td>0</td>\n",
       "      <td>0</td>\n",
       "      <td>0</td>\n",
       "      <td>0</td>\n",
       "      <td>0</td>\n",
       "      <td>0</td>\n",
       "      <td>0</td>\n",
       "      <td>0</td>\n",
       "      <td>...</td>\n",
       "      <td>0</td>\n",
       "      <td>0</td>\n",
       "      <td>0</td>\n",
       "      <td>0</td>\n",
       "      <td>0</td>\n",
       "      <td>0</td>\n",
       "      <td>0</td>\n",
       "      <td>0</td>\n",
       "      <td>0</td>\n",
       "      <td>0</td>\n",
       "    </tr>\n",
       "    <tr>\n",
       "      <th>Absorbing Man</th>\n",
       "      <td>0</td>\n",
       "      <td>0</td>\n",
       "      <td>0</td>\n",
       "      <td>0</td>\n",
       "      <td>0</td>\n",
       "      <td>0</td>\n",
       "      <td>0</td>\n",
       "      <td>0</td>\n",
       "      <td>0</td>\n",
       "      <td>0</td>\n",
       "      <td>...</td>\n",
       "      <td>0</td>\n",
       "      <td>0</td>\n",
       "      <td>0</td>\n",
       "      <td>0</td>\n",
       "      <td>0</td>\n",
       "      <td>0</td>\n",
       "      <td>0</td>\n",
       "      <td>0</td>\n",
       "      <td>0</td>\n",
       "      <td>0</td>\n",
       "    </tr>\n",
       "    <tr>\n",
       "      <th>Adam Warlock</th>\n",
       "      <td>0</td>\n",
       "      <td>0</td>\n",
       "      <td>0</td>\n",
       "      <td>0</td>\n",
       "      <td>0</td>\n",
       "      <td>0</td>\n",
       "      <td>0</td>\n",
       "      <td>0</td>\n",
       "      <td>0</td>\n",
       "      <td>0</td>\n",
       "      <td>...</td>\n",
       "      <td>0</td>\n",
       "      <td>0</td>\n",
       "      <td>0</td>\n",
       "      <td>0</td>\n",
       "      <td>0</td>\n",
       "      <td>0</td>\n",
       "      <td>0</td>\n",
       "      <td>0</td>\n",
       "      <td>0</td>\n",
       "      <td>1</td>\n",
       "    </tr>\n",
       "    <tr>\n",
       "      <th>...</th>\n",
       "      <td>...</td>\n",
       "      <td>...</td>\n",
       "      <td>...</td>\n",
       "      <td>...</td>\n",
       "      <td>...</td>\n",
       "      <td>...</td>\n",
       "      <td>...</td>\n",
       "      <td>...</td>\n",
       "      <td>...</td>\n",
       "      <td>...</td>\n",
       "      <td>...</td>\n",
       "      <td>...</td>\n",
       "      <td>...</td>\n",
       "      <td>...</td>\n",
       "      <td>...</td>\n",
       "      <td>...</td>\n",
       "      <td>...</td>\n",
       "      <td>...</td>\n",
       "      <td>...</td>\n",
       "      <td>...</td>\n",
       "      <td>...</td>\n",
       "    </tr>\n",
       "    <tr>\n",
       "      <th>Yellowjacket (Marvel Comics)</th>\n",
       "      <td>0</td>\n",
       "      <td>0</td>\n",
       "      <td>0</td>\n",
       "      <td>0</td>\n",
       "      <td>0</td>\n",
       "      <td>0</td>\n",
       "      <td>0</td>\n",
       "      <td>0</td>\n",
       "      <td>0</td>\n",
       "      <td>0</td>\n",
       "      <td>...</td>\n",
       "      <td>0</td>\n",
       "      <td>0</td>\n",
       "      <td>0</td>\n",
       "      <td>0</td>\n",
       "      <td>0</td>\n",
       "      <td>0</td>\n",
       "      <td>0</td>\n",
       "      <td>0</td>\n",
       "      <td>0</td>\n",
       "      <td>2</td>\n",
       "    </tr>\n",
       "    <tr>\n",
       "      <th>Yo-Yo Rodriguez</th>\n",
       "      <td>0</td>\n",
       "      <td>0</td>\n",
       "      <td>0</td>\n",
       "      <td>0</td>\n",
       "      <td>0</td>\n",
       "      <td>0</td>\n",
       "      <td>0</td>\n",
       "      <td>0</td>\n",
       "      <td>0</td>\n",
       "      <td>0</td>\n",
       "      <td>...</td>\n",
       "      <td>0</td>\n",
       "      <td>0</td>\n",
       "      <td>0</td>\n",
       "      <td>0</td>\n",
       "      <td>0</td>\n",
       "      <td>0</td>\n",
       "      <td>0</td>\n",
       "      <td>0</td>\n",
       "      <td>0</td>\n",
       "      <td>1</td>\n",
       "    </tr>\n",
       "    <tr>\n",
       "      <th>Zeke Stane</th>\n",
       "      <td>0</td>\n",
       "      <td>0</td>\n",
       "      <td>0</td>\n",
       "      <td>0</td>\n",
       "      <td>0</td>\n",
       "      <td>0</td>\n",
       "      <td>0</td>\n",
       "      <td>0</td>\n",
       "      <td>0</td>\n",
       "      <td>0</td>\n",
       "      <td>...</td>\n",
       "      <td>0</td>\n",
       "      <td>0</td>\n",
       "      <td>0</td>\n",
       "      <td>0</td>\n",
       "      <td>0</td>\n",
       "      <td>0</td>\n",
       "      <td>0</td>\n",
       "      <td>0</td>\n",
       "      <td>0</td>\n",
       "      <td>0</td>\n",
       "    </tr>\n",
       "    <tr>\n",
       "      <th>Zheng Zu</th>\n",
       "      <td>0</td>\n",
       "      <td>0</td>\n",
       "      <td>0</td>\n",
       "      <td>0</td>\n",
       "      <td>0</td>\n",
       "      <td>0</td>\n",
       "      <td>0</td>\n",
       "      <td>0</td>\n",
       "      <td>0</td>\n",
       "      <td>0</td>\n",
       "      <td>...</td>\n",
       "      <td>0</td>\n",
       "      <td>0</td>\n",
       "      <td>0</td>\n",
       "      <td>0</td>\n",
       "      <td>0</td>\n",
       "      <td>0</td>\n",
       "      <td>0</td>\n",
       "      <td>0</td>\n",
       "      <td>0</td>\n",
       "      <td>0</td>\n",
       "    </tr>\n",
       "    <tr>\n",
       "      <th>Zzzax</th>\n",
       "      <td>0</td>\n",
       "      <td>0</td>\n",
       "      <td>0</td>\n",
       "      <td>0</td>\n",
       "      <td>0</td>\n",
       "      <td>0</td>\n",
       "      <td>0</td>\n",
       "      <td>0</td>\n",
       "      <td>0</td>\n",
       "      <td>0</td>\n",
       "      <td>...</td>\n",
       "      <td>0</td>\n",
       "      <td>0</td>\n",
       "      <td>0</td>\n",
       "      <td>0</td>\n",
       "      <td>0</td>\n",
       "      <td>0</td>\n",
       "      <td>0</td>\n",
       "      <td>0</td>\n",
       "      <td>0</td>\n",
       "      <td>0</td>\n",
       "    </tr>\n",
       "  </tbody>\n",
       "</table>\n",
       "<p>697 rows × 435 columns</p>\n",
       "</div>"
      ],
      "text/plain": [
       "                              #Fearsome Four  1991 in comics  2013 in comics  \\\n",
       "Abner Jenkins                              0               0               0   \n",
       "Abomination (character)                    0               0               0   \n",
       "Abraham Cornelius                          0               0               0   \n",
       "Absorbing Man                              0               0               0   \n",
       "Adam Warlock                               0               0               0   \n",
       "...                                      ...             ...             ...   \n",
       "Yellowjacket (Marvel Comics)               0               0               0   \n",
       "Yo-Yo Rodriguez                            0               0               0   \n",
       "Zeke Stane                                 0               0               0   \n",
       "Zheng Zu                                   0               0               0   \n",
       "Zzzax                                      0               0               0   \n",
       "\n",
       "                              A-Force  A-Next  A.I. Army  A.R.M.O.R.  \\\n",
       "Abner Jenkins                       0       0          0           0   \n",
       "Abomination (character)             0       0          0           0   \n",
       "Abraham Cornelius                   0       0          0           0   \n",
       "Absorbing Man                       0       0          0           0   \n",
       "Adam Warlock                        0       0          0           0   \n",
       "...                               ...     ...        ...         ...   \n",
       "Yellowjacket (Marvel Comics)        0       0          0           0   \n",
       "Yo-Yo Rodriguez                     0       0          0           0   \n",
       "Zeke Stane                          0       0          0           0   \n",
       "Zheng Zu                            0       0          0           0   \n",
       "Zzzax                               0       0          0           0   \n",
       "\n",
       "                              Acolytes (comics)  Action Pack (comics)  \\\n",
       "Abner Jenkins                                 0                     0   \n",
       "Abomination (character)                       0                     0   \n",
       "Abraham Cornelius                             0                     0   \n",
       "Absorbing Man                                 0                     0   \n",
       "Adam Warlock                                  0                     0   \n",
       "...                                         ...                   ...   \n",
       "Yellowjacket (Marvel Comics)                  0                     0   \n",
       "Yo-Yo Rodriguez                               0                     0   \n",
       "Zeke Stane                                    0                     0   \n",
       "Zheng Zu                                      0                     0   \n",
       "Zzzax                                         0                     0   \n",
       "\n",
       "                              Advanced Idea Mechanics  ...  \\\n",
       "Abner Jenkins                                       0  ...   \n",
       "Abomination (character)                             1  ...   \n",
       "Abraham Cornelius                                   0  ...   \n",
       "Absorbing Man                                       0  ...   \n",
       "Adam Warlock                                        0  ...   \n",
       "...                                               ...  ...   \n",
       "Yellowjacket (Marvel Comics)                        0  ...   \n",
       "Yo-Yo Rodriguez                                     0  ...   \n",
       "Zeke Stane                                          0  ...   \n",
       "Zheng Zu                                            0  ...   \n",
       "Zzzax                                               0  ...   \n",
       "\n",
       "                              Xavier Institute student body  \\\n",
       "Abner Jenkins                                             0   \n",
       "Abomination (character)                                   0   \n",
       "Abraham Cornelius                                         0   \n",
       "Absorbing Man                                             0   \n",
       "Adam Warlock                                              0   \n",
       "...                                                     ...   \n",
       "Yellowjacket (Marvel Comics)                              0   \n",
       "Yo-Yo Rodriguez                                           0   \n",
       "Zeke Stane                                                0   \n",
       "Zheng Zu                                                  0   \n",
       "Zzzax                                                     0   \n",
       "\n",
       "                              Xavier's Security Enforcers  Yakuza  \\\n",
       "Abner Jenkins                                           0       0   \n",
       "Abomination (character)                                 0       0   \n",
       "Abraham Cornelius                                       0       0   \n",
       "Absorbing Man                                           0       0   \n",
       "Adam Warlock                                            0       0   \n",
       "...                                                   ...     ...   \n",
       "Yellowjacket (Marvel Comics)                            0       0   \n",
       "Yo-Yo Rodriguez                                         0       0   \n",
       "Zeke Stane                                              0       0   \n",
       "Zheng Zu                                                0       0   \n",
       "Zzzax                                                   0       0   \n",
       "\n",
       "                              Young Allies  Young Allies (Marvel Comics)  \\\n",
       "Abner Jenkins                            0                             0   \n",
       "Abomination (character)                  0                             0   \n",
       "Abraham Cornelius                        0                             0   \n",
       "Absorbing Man                            0                             0   \n",
       "Adam Warlock                             0                             0   \n",
       "...                                    ...                           ...   \n",
       "Yellowjacket (Marvel Comics)             0                             0   \n",
       "Yo-Yo Rodriguez                          0                             0   \n",
       "Zeke Stane                               0                             0   \n",
       "Zheng Zu                                 0                             0   \n",
       "Zzzax                                    0                             0   \n",
       "\n",
       "                              Young Avengers  Young Masters  Young X-Men  \\\n",
       "Abner Jenkins                              0              0            0   \n",
       "Abomination (character)                    0              0            0   \n",
       "Abraham Cornelius                          0              0            0   \n",
       "Absorbing Man                              0              0            0   \n",
       "Adam Warlock                               0              0            0   \n",
       "...                                      ...            ...          ...   \n",
       "Yellowjacket (Marvel Comics)               0              0            0   \n",
       "Yo-Yo Rodriguez                            0              0            0   \n",
       "Zeke Stane                                 0              0            0   \n",
       "Zheng Zu                                   0              0            0   \n",
       "Zzzax                                      0              0            0   \n",
       "\n",
       "                              Zodiac (comics)  faction  \n",
       "Abner Jenkins                               0        2  \n",
       "Abomination (character)                     0        1  \n",
       "Abraham Cornelius                           0        0  \n",
       "Absorbing Man                               0        0  \n",
       "Adam Warlock                                0        1  \n",
       "...                                       ...      ...  \n",
       "Yellowjacket (Marvel Comics)                0        2  \n",
       "Yo-Yo Rodriguez                             0        1  \n",
       "Zeke Stane                                  0        0  \n",
       "Zheng Zu                                    0        0  \n",
       "Zzzax                                       0        0  \n",
       "\n",
       "[697 rows x 435 columns]"
      ]
     },
     "execution_count": 7,
     "metadata": {},
     "output_type": "execute_result"
    }
   ],
   "source": [
    "# 4.1.4.2\n",
    "from pandas import DataFrame\n",
    "df = DataFrame(feature_matrix, sorted(list(characters_with_alliances)), all_teams)\n",
    "df['faction'] = target_matrix\n",
    "\n",
    "f = open(f'../outputs/marvel_characters.csv', 'w')\n",
    "f.write(df.to_csv())\n",
    "f.close()\n",
    "\n",
    "df"
   ]
  },
  {
   "cell_type": "markdown",
   "metadata": {},
   "source": [
    "### Part 2: Model fitting"
   ]
  },
  {
   "cell_type": "markdown",
   "metadata": {},
   "source": [
    "> **Ex. 4.2.1**: Take the feature matrix and target array that you created in Ex. 4.1.4 and **remove the rows that correspond to ambiguous characters**. Now, train a classifier for predicting hero or villain on all of this data and test its accuracy on the same data you trained on.\n",
    ">\n",
    ">* If your team alliance matrix is `X_ta` and your target array is `y_ta` you can do this by instantiating a model like:\n",
    ">\n",
    ">        from sklearn.naive_bayes import BernoulliNB\n",
    ">        model = BernoulliNB()\n",
    ">        model.fit(X_ta, y_ta)  # <--- This is the training step\n",
    ">        \n",
    "> *Note:* The `BernoulliNB` is a version of the Naive Bayes classifier which associates certain features with labels and asks what the probability of a label for a data point is given its features. You are free to use any other classifier if you want. Popular ones are trees, random forests, support vector machines, feed forward neural networks, logistic regression, and the list goes on. With `sklearn`, they are just as easy to employ as the `BernoulliNB` classifier.\n",
    ">\n",
    ">\n",
    ">1. Test the accuracy of your model. Report the *training accuracy* of your model—that is testing on the same data that you trained the model on. \n",
    "2. Which *baseline accuracy* does this model have to compete with? In other words, what accuracy would you get if you always predicted the majority class?\n",
    ">\n",
    ">3. Report the precision, recall and F1 scores, with respect to the **minority class**.\n",
    ">\n",
    "> *Hint: `model.predict(X_ta)` will give you predictions for each datapoint.*"
   ]
  },
  {
   "cell_type": "code",
   "execution_count": 22,
   "metadata": {},
   "outputs": [],
   "source": [
    "# remove ambiguous characters (with alliances) from our dataframe:\n",
    "ambiguous = {character[:-4] for character in os.listdir('../data/ambiguous')}\n",
    "# make new feature and target matrices without rows to represent ambiguous characters\n",
    "feature_matrix_no_ambiguous = [feature for (feature, name) in zip(feature_matrix, characters_with_alliances) if name not in ambiguous]\n",
    "target_matrix_no_ambiguous = [faction for (faction, name) in zip(target_matrix, characters_with_alliances) if name not in ambiguous]\n",
    "characters_no_ambiguous = [name for name in characters_with_alliances if name not in ambiguous]"
   ]
  },
  {
   "cell_type": "code",
   "execution_count": 9,
   "metadata": {},
   "outputs": [
    {
     "data": {
      "text/plain": [
       "BernoulliNB()"
      ]
     },
     "execution_count": 9,
     "metadata": {},
     "output_type": "execute_result"
    }
   ],
   "source": [
    "from sklearn.naive_bayes import BernoulliNB\n",
    "model = BernoulliNB()\n",
    "model.fit(feature_matrix_no_ambiguous, target_matrix_no_ambiguous)  # <--- This is the training step"
   ]
  },
  {
   "cell_type": "code",
   "execution_count": 10,
   "metadata": {},
   "outputs": [
    {
     "name": "stdout",
     "output_type": "stream",
     "text": [
      "Our model correctly predicts factions for 552 characters out of 607 for a training accuracy of 0.9093904448105437\n"
     ]
    }
   ],
   "source": [
    "#4.2.1.1\n",
    "predictions = model.predict(feature_matrix_no_ambiguous)\n",
    "# get the number of correct predictions:\n",
    "correct_guesses = sum(int(prediction == actual) for (prediction, actual) in zip(predictions, target_matrix_no_ambiguous))\n",
    "training_accuracy = correct_guesses / len(feature_matrix_no_ambiguous)\n",
    "print(f'Our model correctly predicts factions for {correct_guesses} characters out of {len(feature_matrix_no_ambiguous)} for a training accuracy of {training_accuracy}')"
   ]
  },
  {
   "cell_type": "code",
   "execution_count": 11,
   "metadata": {},
   "outputs": [
    {
     "name": "stdout",
     "output_type": "stream",
     "text": [
      "Always choosing the majority faction yields a baseline accuracy of 0.5238879736408567\n"
     ]
    }
   ],
   "source": [
    "# 4.2.1.2\n",
    "from collections import Counter\n",
    "majority = Counter(target_matrix_no_ambiguous).most_common()[0]\n",
    "baseline_accuracy = majority[1] / len(target_matrix_no_ambiguous)\n",
    "print(f'Always choosing the majority faction yields a baseline accuracy of {baseline_accuracy}')"
   ]
  },
  {
   "cell_type": "code",
   "execution_count": 12,
   "metadata": {},
   "outputs": [
    {
     "name": "stdout",
     "output_type": "stream",
     "text": [
      "\n",
      "Our model predicts the minority faction with:\n",
      "\n",
      "training precision    0.9642857142857143\n",
      "training recall       0.8408304498269896\n",
      "training F1           0.8983364140480592\n",
      "\n"
     ]
    }
   ],
   "source": [
    "#4.2.1.3\n",
    "# find the minority faction:\n",
    "def evaluate(predictions, actuals, match_val):\n",
    "    correct_guesses = sum(int(prediction == actual) for (prediction, actual) in zip(predictions, actuals))\n",
    "    accuracy = correct_guesses / len(predictions)\n",
    "    min_fac = Counter(target_matrix_no_ambiguous).most_common()[-1][0]\n",
    "    tp = sum(int(prediction == match_val and actual == match_val) for (prediction, actual) in zip(predictions, actuals))\n",
    "    fp = sum(int(prediction == match_val and actual != match_val) for (prediction, actual) in zip(predictions, actuals))\n",
    "    tn = sum(int(prediction != match_val and actual != match_val) for (prediction, actual) in zip(predictions, actuals))\n",
    "    fn = sum(int(prediction != match_val and actual == match_val) for (prediction, actual) in zip(predictions, actuals))\n",
    "    precision = tp / (tp + fp)\n",
    "    recall = tp / (tp + fn)\n",
    "    f1 = (2 * precision * recall) / (precision + recall) \n",
    "    return (accuracy, precision, recall, f1)\n",
    "\n",
    "\n",
    "min_fac = Counter(target_matrix_no_ambiguous).most_common()[-1][0]\n",
    "(accuracy, precision, recall, f1) = evaluate(predictions, target_matrix_no_ambiguous, min_fac) \n",
    "message = f\"\"\"\n",
    "Our model predicts the minority faction with:\n",
    "\n",
    "training precision    {precision}\n",
    "training recall       {recall}\n",
    "training F1           {f1}\n",
    "\"\"\"\n",
    "print(message)"
   ]
  },
  {
   "cell_type": "markdown",
   "metadata": {},
   "source": [
    "### Part 3: Model evaluation"
   ]
  },
  {
   "cell_type": "markdown",
   "metadata": {},
   "source": [
    "> **Ex. 4.3.1**: Investigate how well your model generalizes. You may have noticed that the performance seemed a little too good to be true in Ex 4.2.1.\n",
    "1. Why did you get such a high accuracy in the previous exercise?\n",
    "2. Split your data into a test and training set of equal size. Train the model only on the training set and report its accuracy and F1 score (for minority class) on both the training and test sets.\n",
    "3. Comment on the difference you observe.\n",
    ">\n",
    "> *Hint: Watch out for unbalanced class proportions! You may want to randomly reorder the rows of your datapoints and target labels so your training and test sets have the same amount of heroes and villains.*"
   ]
  },
  {
   "cell_type": "markdown",
   "metadata": {},
   "source": [
    "4.3.1.1: Our high accuracy can be explainined by our model training on the same dataset that we tested it on. To evaluate our model fairly, we must test it on data that it hasn't seen yet (ie data that it didn't train on)"
   ]
  },
  {
   "cell_type": "code",
   "execution_count": 25,
   "metadata": {},
   "outputs": [
    {
     "name": "stdout",
     "output_type": "stream",
     "text": [
      "\n",
      "Our model predicts the minority faction with:\n",
      "accuracy   0.8322368421052632\n",
      "F1         0.8060836501901141\n",
      "\n"
     ]
    },
    {
     "data": {
      "text/plain": [
       "False"
      ]
     },
     "execution_count": 25,
     "metadata": {},
     "output_type": "execute_result"
    }
   ],
   "source": [
    "# 4.3.1.2:\n",
    "n = len(feature_matrix_no_ambiguous) // 2\n",
    "training_features = feature_matrix_no_ambiguous[:n]\n",
    "test_features = feature_matrix_no_ambiguous[n:]\n",
    "training_targets = target_matrix_no_ambiguous[:n]\n",
    "test_targets = target_matrix_no_ambiguous[n:]\n",
    "\n",
    "split_model = BernoulliNB()\n",
    "split_model.fit(training_features, training_targets)\n",
    "\n",
    "split_model_predictions = model.predict(test_features)\n",
    "(accuracy, precision, recall, f1) = evaluate(split_model_predictions, test_targets, min_fac) \n",
    "message = f\"\"\"\n",
    "Our model predicts the minority faction with:\n",
    "accuracy   {accuracy}\n",
    "F1         {f1}\n",
    "\"\"\"\n",
    "print(message)"
   ]
  },
  {
   "cell_type": "markdown",
   "metadata": {},
   "source": [
    "4.3.1.3: Our model predicts factions quite well even when it is only trained with half of the dataset. This tells us that our dataset is quite clustered. ie A portion of our dataset is representative of our dataset as a whole"
   ]
  },
  {
   "cell_type": "markdown",
   "metadata": {},
   "source": [
    "> **Ex. 4.3.2**: Implement cross validation using the [`sklearn.model_selection.KFold`](https://scikit-learn.org/stable/modules/generated/sklearn.model_selection.KFold.html) method. The performance of a classifier is strongly dependent on the amount of data it is trained on. In Ex. 4.3.1 you train it on only half of the data and test it on the other half. If you rerun that code multiple times, with random 50/50 partitions, you are gonna see a lot of uncertainty in performance. Cross validation solves this problem by training on a larger subset of the data and testing on a smaller one, and taking the average performance over K-folds of this process.\n",
    "1. Explain how the `KFold` function (imported from `sklearn.model_selection`) works.\n",
    "2. Using `KFold`, implement cross validation over $K=10$ folds. For each fold you must record the training and test accuracies. In the end, visualize the distributions of test- and training accuracy as histograms in the same plot. Why are training accuracies consistently higher than testing accuracies (comment)?."
   ]
  },
  {
   "cell_type": "markdown",
   "metadata": {},
   "source": [
    "4.3.2.1\n",
    "In its constructor, a KFold object takes an integer input for number of folds. Using the .split(data), the dataset is then split evenly into the k folds, and the indices for test and train subsets are returned."
   ]
  },
  {
   "cell_type": "code",
   "execution_count": 37,
   "metadata": {},
   "outputs": [
    {
     "data": {
      "image/png": "[encoded data removed]",
      "text/plain": [
       "<Figure size 640x480 with 1 Axes>"
      ]
     },
     "metadata": {},
     "output_type": "display_data"
    }
   ],
   "source": [
    "#4.3.2.2\n",
    "from sklearn.model_selection import KFold\n",
    "from matplotlib import pyplot as plt\n",
    "import numpy\n",
    "\n",
    "kf = KFold(10)\n",
    "test_accuracies = []\n",
    "train_accuracies = []\n",
    "for (test, train) in kf.split(feature_matrix_no_ambiguous):\n",
    "    model = BernoulliNB()\n",
    "    train_features = [feature_matrix_no_ambiguous[i] for i in train]\n",
    "    train_targets = [target_matrix_no_ambiguous[i] for i in train]\n",
    "    test_features = [feature_matrix_no_ambiguous[i] for i in test]\n",
    "    test_targets = [target_matrix_no_ambiguous[i] for i in test]\n",
    "    \n",
    "    model.fit(train_features, train_targets)\n",
    "    \n",
    "    test_model_predictions = model.predict(test_features)\n",
    "    (test_accuracy, _, _, _) = evaluate(test_model_predictions, test_targets, min_fac) \n",
    "    \n",
    "    train_model_predictions = model.predict(train_features)\n",
    "    (train_accuracy, _, _, _) = evaluate(train_model_predictions, train_targets, min_fac) \n",
    "    \n",
    "    test_accuracies.append(test_accuracy)\n",
    "    train_accuracies.append(train_accuracy)\n",
    "\n",
    "hist_bins = numpy.linspace(0.4, 1, 5)\n",
    "plt.hist([test_accuracies, train_accuracies], bins=hist_bins, label=['test accuracies', 'train accuracies'], color=['blue', 'orange'])\n",
    "plt.legend(loc='upper left')\n",
    "plt.show()"
   ]
  },
  {
   "cell_type": "markdown",
   "metadata": {},
   "source": [
    "We see training accuracies that are higher than testing accuracies because of overfitting. Our model is too specific to the dataset that it trains on. When it encounters data that it hasn't seen yet, it is not able to categorize as well."
   ]
  },
  {
   "cell_type": "markdown",
   "metadata": {},
   "source": [
    "### Part 4: Predicting good vs. evil"
   ]
  },
  {
   "cell_type": "markdown",
   "metadata": {},
   "source": [
    ">**Ex. 4.4.1**: Let's put our classifier to use!\n",
    "* Retrain your model on all of your data (still only heroes and villains).\n",
    "* Get a team alliance representation of the ambiguous characters\n",
    "* Use the model the estimate the probability that each character is a villain (let's call this *villainness*). You can use the `.predict_proba` method on the model to get probability estimates rather than class assignments. It produces an array with two columns, where the 1st column is the probability of class 1 (which is heroes).\n",
    "* **Visualize the \"heroness\" distribution for all ambiguous characters**. Comment on the result."
   ]
  },
  {
   "cell_type": "code",
   "execution_count": 15,
   "metadata": {},
   "outputs": [
    {
     "data": {
      "image/png": "[encoded data removed]",
      "text/plain": [
       "<Figure size 3000x500 with 1 Axes>"
      ]
     },
     "metadata": {},
     "output_type": "display_data"
    }
   ],
   "source": [
    "# get the portion of the feature matrix for the ambiguous characters:\n",
    "feature_matrix_ambiguous = [feature for (feature, faction) in zip(feature_matrix, target_matrix) if faction == 2]\n",
    "# get the names of the ambiguous characters:\n",
    "names_ambiguous = [name for (name, faction) in zip(characters_with_alliances, target_matrix) if faction == 2]\n",
    "# get the names of the ambiguous characters:\n",
    "heroness_ambiguous = [heroness for [heroness, villainness] in model.predict_proba(feature_matrix_ambiguous)]\n",
    "plot_data = sorted(zip(heroness_ambiguous, names_ambiguous))\n",
    "plt.figure(figsize=(30,5))\n",
    "plt.scatter([x[0] for x in plot_data], numpy.zeros_like(heroness_ambiguous))\n",
    "plt.xlabel('Heroness')\n",
    "arrow_props = {\n",
    "    'width': 1,\n",
    "    'headwidth': 4,\n",
    "    'headlength': 4,\n",
    "    'shrink': 600\n",
    "}\n",
    "n = len(plot_data)\n",
    "label_length = 10\n",
    "stride = 5\n",
    "# add lables on top of the graph\n",
    "for i in range(0, len(plot_data), stride):\n",
    "    txt = plot_data[i][1][:label_length] + ('...' if len(plot_data[i][1]) > label_length else '')\n",
    "    plt.annotate(text=txt, xy=(plot_data[i][0], 0), xytext=(i * plot_data[-1][0]/n, 0.02), arrowprops=arrow_props)\n",
    "# add labels underneath the graph\n",
    "for i in range(stride//2, len(plot_data), stride):\n",
    "    txt = plot_data[i][1][:label_length] + ('...' if len(plot_data[i][1]) > label_length else '')\n",
    "    plt.annotate(text=txt, xy=(plot_data[i][0], 0), xytext=(i * plot_data[-1][0]/n, -0.02), arrowprops=arrow_props)\n",
    "plt.show()"
   ]
  },
  {
   "cell_type": "code",
   "execution_count": 16,
   "metadata": {},
   "outputs": [
    {
     "name": "stdout",
     "output_type": "stream",
     "text": [
      "We find the average heroness for ambiguous characters to be 0.5182025152823551\n"
     ]
    }
   ],
   "source": [
    "avg_heroness = sum(heroness_ambiguous) / len(heroness_ambiguous)\n",
    "print(f'We find the average heroness for ambiguous characters to be {avg_heroness}')"
   ]
  },
  {
   "cell_type": "markdown",
   "metadata": {},
   "source": [
    "We notice a fairly centralized and somewhat uniform distribution of the heroness of ambiguous characters. They don't seem to typically be more hero than villain or more villain than hero. These results align with our intuition. If they were mostly all toward either end of the spectrum then they couldn't be considered ambiguous. "
   ]
  }
 ],
 "metadata": {
  "kernelspec": {
   "display_name": "Python 3 (ipykernel)",
   "language": "python",
   "name": "python3"
  },
  "language_info": {
   "codemirror_mode": {
    "name": "ipython",
    "version": 3
   },
   "file_extension": ".py",
   "mimetype": "text/x-python",
   "name": "python",
   "nbconvert_exporter": "python",
   "pygments_lexer": "ipython3",
   "version": "3.9.13"
  },
  "nav_menu": {},
  "toc": {
   "base_numbering": 1,
   "nav_menu": {},
   "number_sections": false,
   "sideBar": true,
   "skip_h1_title": false,
   "title_cell": "Table of Contents",
   "title_sidebar": "Contents",
   "toc_cell": false,
   "toc_position": {},
   "toc_section_display": "block",
   "toc_window_display": true
  },
  "varInspector": {
   "cols": {
    "lenName": 16,
    "lenType": 16,
    "lenVar": 40
   },
   "kernels_config": {
    "python": {
     "delete_cmd_postfix": "",
     "delete_cmd_prefix": "del ",
     "library": "var_list.py",
     "varRefreshCmd": "print(var_dic_list())"
    },
    "r": {
     "delete_cmd_postfix": ") ",
     "delete_cmd_prefix": "rm(",
     "library": "var_list.r",
     "varRefreshCmd": "cat(var_dic_list()) "
    }
   },
   "types_to_exclude": [
    "module",
    "function",
    "builtin_function_or_method",
    "instance",
    "_Feature"
   ],
   "window_display": false
  }
 },
 "nbformat": 4,
 "nbformat_minor": 2
}
